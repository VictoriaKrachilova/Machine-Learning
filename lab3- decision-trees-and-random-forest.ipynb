{
 "cells": [
  {
   "cell_type": "code",
   "execution_count": 1,
   "id": "cf726bf3",
   "metadata": {
    "_cell_guid": "b1076dfc-b9ad-4769-8c92-a6c4dae69d19",
    "_uuid": "8f2839f25d086af736a60e9eeb907d3b93b6e0e5",
    "execution": {
     "iopub.execute_input": "2021-10-22T09:07:39.104776Z",
     "iopub.status.busy": "2021-10-22T09:07:39.103816Z",
     "iopub.status.idle": "2021-10-22T09:07:39.116851Z",
     "shell.execute_reply": "2021-10-22T09:07:39.117306Z",
     "shell.execute_reply.started": "2021-10-22T08:39:54.293874Z"
    },
    "papermill": {
     "duration": 0.055319,
     "end_time": "2021-10-22T09:07:39.117615",
     "exception": false,
     "start_time": "2021-10-22T09:07:39.062296",
     "status": "completed"
    },
    "tags": []
   },
   "outputs": [
    {
     "name": "stdout",
     "output_type": "stream",
     "text": [
      "/kaggle/input/zomato-restaurants-data/zomato.csv\n",
      "/kaggle/input/zomato-restaurants-data/file5.json\n",
      "/kaggle/input/zomato-restaurants-data/file1.json\n",
      "/kaggle/input/zomato-restaurants-data/file2.json\n",
      "/kaggle/input/zomato-restaurants-data/file4.json\n",
      "/kaggle/input/zomato-restaurants-data/file3.json\n",
      "/kaggle/input/zomato-restaurants-data/Country-Code.xlsx\n"
     ]
    }
   ],
   "source": [
    "# This Python 3 environment comes with many helpful analytics libraries installed\n",
    "# It is defined by the kaggle/python Docker image: https://github.com/kaggle/docker-python\n",
    "# For example, here's several helpful packages to load\n",
    "\n",
    "import numpy as np # linear algebra\n",
    "import pandas as pd # data processing, CSV file I/O (e.g. pd.read_csv)\n",
    "\n",
    "# Input data files are available in the read-only \"../input/\" directory\n",
    "# For example, running this (by clicking run or pressing Shift+Enter) will list all files under the input directory\n",
    "\n",
    "import os\n",
    "for dirname, _, filenames in os.walk('/kaggle/input'):\n",
    "    for filename in filenames:\n",
    "        print(os.path.join(dirname, filename))\n",
    "\n",
    "# You can write up to 20GB to the current directory (/kaggle/working/) that gets preserved as output when you create a version using \"Save & Run All\" \n",
    "# You can also write temporary files to /kaggle/temp/, but they won't be saved outside of the current session"
   ]
  },
  {
   "cell_type": "code",
   "execution_count": 2,
   "id": "6c6adb99",
   "metadata": {
    "execution": {
     "iopub.execute_input": "2021-10-22T09:07:39.179576Z",
     "iopub.status.busy": "2021-10-22T09:07:39.178985Z",
     "iopub.status.idle": "2021-10-22T09:07:40.068819Z",
     "shell.execute_reply": "2021-10-22T09:07:40.068214Z",
     "shell.execute_reply.started": "2021-10-22T08:39:54.308960Z"
    },
    "papermill": {
     "duration": 0.921726,
     "end_time": "2021-10-22T09:07:40.068966",
     "exception": false,
     "start_time": "2021-10-22T09:07:39.147240",
     "status": "completed"
    },
    "tags": []
   },
   "outputs": [],
   "source": [
    "import numpy as np\n",
    "import pandas as pd\n",
    "import matplotlib.pyplot as plt\n",
    "import seaborn as sns\n",
    "from sklearn import preprocessing"
   ]
  },
  {
   "cell_type": "markdown",
   "id": "d15f8d35",
   "metadata": {
    "papermill": {
     "duration": 0.028038,
     "end_time": "2021-10-22T09:07:40.127090",
     "exception": false,
     "start_time": "2021-10-22T09:07:40.099052",
     "status": "completed"
    },
    "tags": []
   },
   "source": [
    "# Деревья решений"
   ]
  },
  {
   "cell_type": "code",
   "execution_count": 3,
   "id": "34225e02",
   "metadata": {
    "execution": {
     "iopub.execute_input": "2021-10-22T09:07:40.189216Z",
     "iopub.status.busy": "2021-10-22T09:07:40.188587Z",
     "iopub.status.idle": "2021-10-22T09:07:40.302609Z",
     "shell.execute_reply": "2021-10-22T09:07:40.303031Z",
     "shell.execute_reply.started": "2021-10-22T08:39:54.319638Z"
    },
    "papermill": {
     "duration": 0.147767,
     "end_time": "2021-10-22T09:07:40.303196",
     "exception": false,
     "start_time": "2021-10-22T09:07:40.155429",
     "status": "completed"
    },
    "tags": []
   },
   "outputs": [
    {
     "data": {
      "text/html": [
       "<div>\n",
       "<style scoped>\n",
       "    .dataframe tbody tr th:only-of-type {\n",
       "        vertical-align: middle;\n",
       "    }\n",
       "\n",
       "    .dataframe tbody tr th {\n",
       "        vertical-align: top;\n",
       "    }\n",
       "\n",
       "    .dataframe thead th {\n",
       "        text-align: right;\n",
       "    }\n",
       "</style>\n",
       "<table border=\"1\" class=\"dataframe\">\n",
       "  <thead>\n",
       "    <tr style=\"text-align: right;\">\n",
       "      <th></th>\n",
       "      <th>Restaurant ID</th>\n",
       "      <th>Restaurant Name</th>\n",
       "      <th>Country Code</th>\n",
       "      <th>City</th>\n",
       "      <th>Address</th>\n",
       "      <th>Locality</th>\n",
       "      <th>Locality Verbose</th>\n",
       "      <th>Longitude</th>\n",
       "      <th>Latitude</th>\n",
       "      <th>Cuisines</th>\n",
       "      <th>...</th>\n",
       "      <th>Currency</th>\n",
       "      <th>Has Table booking</th>\n",
       "      <th>Has Online delivery</th>\n",
       "      <th>Is delivering now</th>\n",
       "      <th>Switch to order menu</th>\n",
       "      <th>Price range</th>\n",
       "      <th>Aggregate rating</th>\n",
       "      <th>Rating color</th>\n",
       "      <th>Rating text</th>\n",
       "      <th>Votes</th>\n",
       "    </tr>\n",
       "  </thead>\n",
       "  <tbody>\n",
       "    <tr>\n",
       "      <th>0</th>\n",
       "      <td>6317637</td>\n",
       "      <td>Le Petit Souffle</td>\n",
       "      <td>162</td>\n",
       "      <td>Makati City</td>\n",
       "      <td>Third Floor, Century City Mall, Kalayaan Avenu...</td>\n",
       "      <td>Century City Mall, Poblacion, Makati City</td>\n",
       "      <td>Century City Mall, Poblacion, Makati City, Mak...</td>\n",
       "      <td>121.027535</td>\n",
       "      <td>14.565443</td>\n",
       "      <td>French, Japanese, Desserts</td>\n",
       "      <td>...</td>\n",
       "      <td>Botswana Pula(P)</td>\n",
       "      <td>Yes</td>\n",
       "      <td>No</td>\n",
       "      <td>No</td>\n",
       "      <td>No</td>\n",
       "      <td>3</td>\n",
       "      <td>4.8</td>\n",
       "      <td>Dark Green</td>\n",
       "      <td>Excellent</td>\n",
       "      <td>314</td>\n",
       "    </tr>\n",
       "    <tr>\n",
       "      <th>1</th>\n",
       "      <td>6304287</td>\n",
       "      <td>Izakaya Kikufuji</td>\n",
       "      <td>162</td>\n",
       "      <td>Makati City</td>\n",
       "      <td>Little Tokyo, 2277 Chino Roces Avenue, Legaspi...</td>\n",
       "      <td>Little Tokyo, Legaspi Village, Makati City</td>\n",
       "      <td>Little Tokyo, Legaspi Village, Makati City, Ma...</td>\n",
       "      <td>121.014101</td>\n",
       "      <td>14.553708</td>\n",
       "      <td>Japanese</td>\n",
       "      <td>...</td>\n",
       "      <td>Botswana Pula(P)</td>\n",
       "      <td>Yes</td>\n",
       "      <td>No</td>\n",
       "      <td>No</td>\n",
       "      <td>No</td>\n",
       "      <td>3</td>\n",
       "      <td>4.5</td>\n",
       "      <td>Dark Green</td>\n",
       "      <td>Excellent</td>\n",
       "      <td>591</td>\n",
       "    </tr>\n",
       "    <tr>\n",
       "      <th>2</th>\n",
       "      <td>6300002</td>\n",
       "      <td>Heat - Edsa Shangri-La</td>\n",
       "      <td>162</td>\n",
       "      <td>Mandaluyong City</td>\n",
       "      <td>Edsa Shangri-La, 1 Garden Way, Ortigas, Mandal...</td>\n",
       "      <td>Edsa Shangri-La, Ortigas, Mandaluyong City</td>\n",
       "      <td>Edsa Shangri-La, Ortigas, Mandaluyong City, Ma...</td>\n",
       "      <td>121.056831</td>\n",
       "      <td>14.581404</td>\n",
       "      <td>Seafood, Asian, Filipino, Indian</td>\n",
       "      <td>...</td>\n",
       "      <td>Botswana Pula(P)</td>\n",
       "      <td>Yes</td>\n",
       "      <td>No</td>\n",
       "      <td>No</td>\n",
       "      <td>No</td>\n",
       "      <td>4</td>\n",
       "      <td>4.4</td>\n",
       "      <td>Green</td>\n",
       "      <td>Very Good</td>\n",
       "      <td>270</td>\n",
       "    </tr>\n",
       "    <tr>\n",
       "      <th>3</th>\n",
       "      <td>6318506</td>\n",
       "      <td>Ooma</td>\n",
       "      <td>162</td>\n",
       "      <td>Mandaluyong City</td>\n",
       "      <td>Third Floor, Mega Fashion Hall, SM Megamall, O...</td>\n",
       "      <td>SM Megamall, Ortigas, Mandaluyong City</td>\n",
       "      <td>SM Megamall, Ortigas, Mandaluyong City, Mandal...</td>\n",
       "      <td>121.056475</td>\n",
       "      <td>14.585318</td>\n",
       "      <td>Japanese, Sushi</td>\n",
       "      <td>...</td>\n",
       "      <td>Botswana Pula(P)</td>\n",
       "      <td>No</td>\n",
       "      <td>No</td>\n",
       "      <td>No</td>\n",
       "      <td>No</td>\n",
       "      <td>4</td>\n",
       "      <td>4.9</td>\n",
       "      <td>Dark Green</td>\n",
       "      <td>Excellent</td>\n",
       "      <td>365</td>\n",
       "    </tr>\n",
       "    <tr>\n",
       "      <th>4</th>\n",
       "      <td>6314302</td>\n",
       "      <td>Sambo Kojin</td>\n",
       "      <td>162</td>\n",
       "      <td>Mandaluyong City</td>\n",
       "      <td>Third Floor, Mega Atrium, SM Megamall, Ortigas...</td>\n",
       "      <td>SM Megamall, Ortigas, Mandaluyong City</td>\n",
       "      <td>SM Megamall, Ortigas, Mandaluyong City, Mandal...</td>\n",
       "      <td>121.057508</td>\n",
       "      <td>14.584450</td>\n",
       "      <td>Japanese, Korean</td>\n",
       "      <td>...</td>\n",
       "      <td>Botswana Pula(P)</td>\n",
       "      <td>Yes</td>\n",
       "      <td>No</td>\n",
       "      <td>No</td>\n",
       "      <td>No</td>\n",
       "      <td>4</td>\n",
       "      <td>4.8</td>\n",
       "      <td>Dark Green</td>\n",
       "      <td>Excellent</td>\n",
       "      <td>229</td>\n",
       "    </tr>\n",
       "  </tbody>\n",
       "</table>\n",
       "<p>5 rows × 21 columns</p>\n",
       "</div>"
      ],
      "text/plain": [
       "   Restaurant ID         Restaurant Name  Country Code              City  \\\n",
       "0        6317637        Le Petit Souffle           162       Makati City   \n",
       "1        6304287        Izakaya Kikufuji           162       Makati City   \n",
       "2        6300002  Heat - Edsa Shangri-La           162  Mandaluyong City   \n",
       "3        6318506                    Ooma           162  Mandaluyong City   \n",
       "4        6314302             Sambo Kojin           162  Mandaluyong City   \n",
       "\n",
       "                                             Address  \\\n",
       "0  Third Floor, Century City Mall, Kalayaan Avenu...   \n",
       "1  Little Tokyo, 2277 Chino Roces Avenue, Legaspi...   \n",
       "2  Edsa Shangri-La, 1 Garden Way, Ortigas, Mandal...   \n",
       "3  Third Floor, Mega Fashion Hall, SM Megamall, O...   \n",
       "4  Third Floor, Mega Atrium, SM Megamall, Ortigas...   \n",
       "\n",
       "                                     Locality  \\\n",
       "0   Century City Mall, Poblacion, Makati City   \n",
       "1  Little Tokyo, Legaspi Village, Makati City   \n",
       "2  Edsa Shangri-La, Ortigas, Mandaluyong City   \n",
       "3      SM Megamall, Ortigas, Mandaluyong City   \n",
       "4      SM Megamall, Ortigas, Mandaluyong City   \n",
       "\n",
       "                                    Locality Verbose   Longitude   Latitude  \\\n",
       "0  Century City Mall, Poblacion, Makati City, Mak...  121.027535  14.565443   \n",
       "1  Little Tokyo, Legaspi Village, Makati City, Ma...  121.014101  14.553708   \n",
       "2  Edsa Shangri-La, Ortigas, Mandaluyong City, Ma...  121.056831  14.581404   \n",
       "3  SM Megamall, Ortigas, Mandaluyong City, Mandal...  121.056475  14.585318   \n",
       "4  SM Megamall, Ortigas, Mandaluyong City, Mandal...  121.057508  14.584450   \n",
       "\n",
       "                           Cuisines  ...          Currency Has Table booking  \\\n",
       "0        French, Japanese, Desserts  ...  Botswana Pula(P)               Yes   \n",
       "1                          Japanese  ...  Botswana Pula(P)               Yes   \n",
       "2  Seafood, Asian, Filipino, Indian  ...  Botswana Pula(P)               Yes   \n",
       "3                   Japanese, Sushi  ...  Botswana Pula(P)                No   \n",
       "4                  Japanese, Korean  ...  Botswana Pula(P)               Yes   \n",
       "\n",
       "  Has Online delivery Is delivering now Switch to order menu Price range  \\\n",
       "0                  No                No                   No           3   \n",
       "1                  No                No                   No           3   \n",
       "2                  No                No                   No           4   \n",
       "3                  No                No                   No           4   \n",
       "4                  No                No                   No           4   \n",
       "\n",
       "   Aggregate rating  Rating color Rating text Votes  \n",
       "0               4.8    Dark Green   Excellent   314  \n",
       "1               4.5    Dark Green   Excellent   591  \n",
       "2               4.4         Green   Very Good   270  \n",
       "3               4.9    Dark Green   Excellent   365  \n",
       "4               4.8    Dark Green   Excellent   229  \n",
       "\n",
       "[5 rows x 21 columns]"
      ]
     },
     "execution_count": 3,
     "metadata": {},
     "output_type": "execute_result"
    }
   ],
   "source": [
    "df = pd.read_csv(\"../input/zomato-restaurants-data/zomato.csv\", encoding = \"ISO-8859-1\")\n",
    "df.head()"
   ]
  },
  {
   "cell_type": "markdown",
   "id": "6c8fa493",
   "metadata": {
    "papermill": {
     "duration": 0.028825,
     "end_time": "2021-10-22T09:07:40.361965",
     "exception": false,
     "start_time": "2021-10-22T09:07:40.333140",
     "status": "completed"
    },
    "tags": []
   },
   "source": [
    "1. Целевая переменная - 'Aggregate rating'. Цель: спрогнозировать рейтинг ресторанов на основе имеющихся признаков."
   ]
  },
  {
   "cell_type": "code",
   "execution_count": 4,
   "id": "b1375e9b",
   "metadata": {
    "execution": {
     "iopub.execute_input": "2021-10-22T09:07:40.429950Z",
     "iopub.status.busy": "2021-10-22T09:07:40.429288Z",
     "iopub.status.idle": "2021-10-22T09:07:40.442948Z",
     "shell.execute_reply": "2021-10-22T09:07:40.443425Z",
     "shell.execute_reply.started": "2021-10-22T08:39:54.412107Z"
    },
    "papermill": {
     "duration": 0.051964,
     "end_time": "2021-10-22T09:07:40.443609",
     "exception": false,
     "start_time": "2021-10-22T09:07:40.391645",
     "status": "completed"
    },
    "tags": []
   },
   "outputs": [],
   "source": [
    "df_num = df.drop([\"Cuisines\", \"Restaurant Name\", \"Address\", \"Locality\", \"Locality Verbose\", \"Rating color\", \"City\", \"Currency\",  \"Restaurant ID\"], axis = 1)#\"Latitude\", \"Longitude\",\n",
    "df_num[\"Has Table booking\"] = df_num[\"Has Table booking\"].map({\"Yes\":1,\"No\":0})\n",
    "df_num[\"Has Online delivery\"] = df_num[\"Has Online delivery\"].map({\"Yes\":1,\"No\":0})\n",
    "df_num[\"Is delivering now\"] = df_num[\"Is delivering now\"].map({\"Yes\":1,\"No\":0})\n",
    "df_num[\"Switch to order menu\"] = df_num[\"Switch to order menu\"].map({\"Yes\":1,\"No\":0})\n",
    "df_num[\"Rating text\"] = df_num[\"Rating text\"].map({\"Excellent\":5, \"Very Good\":4 ,\"Good\":3, \"Average\":2, \"Poor\":1, \"Not rated\":0})"
   ]
  },
  {
   "cell_type": "code",
   "execution_count": 5,
   "id": "1abbb3a3",
   "metadata": {
    "execution": {
     "iopub.execute_input": "2021-10-22T09:07:40.505258Z",
     "iopub.status.busy": "2021-10-22T09:07:40.504689Z",
     "iopub.status.idle": "2021-10-22T09:07:40.517699Z",
     "shell.execute_reply": "2021-10-22T09:07:40.517071Z",
     "shell.execute_reply.started": "2021-10-22T08:39:54.438883Z"
    },
    "papermill": {
     "duration": 0.044791,
     "end_time": "2021-10-22T09:07:40.517838",
     "exception": false,
     "start_time": "2021-10-22T09:07:40.473047",
     "status": "completed"
    },
    "tags": []
   },
   "outputs": [
    {
     "data": {
      "text/html": [
       "<div>\n",
       "<style scoped>\n",
       "    .dataframe tbody tr th:only-of-type {\n",
       "        vertical-align: middle;\n",
       "    }\n",
       "\n",
       "    .dataframe tbody tr th {\n",
       "        vertical-align: top;\n",
       "    }\n",
       "\n",
       "    .dataframe thead th {\n",
       "        text-align: right;\n",
       "    }\n",
       "</style>\n",
       "<table border=\"1\" class=\"dataframe\">\n",
       "  <thead>\n",
       "    <tr style=\"text-align: right;\">\n",
       "      <th></th>\n",
       "      <th>Country Code</th>\n",
       "      <th>Longitude</th>\n",
       "      <th>Latitude</th>\n",
       "      <th>Average Cost for two</th>\n",
       "      <th>Has Table booking</th>\n",
       "      <th>Has Online delivery</th>\n",
       "      <th>Is delivering now</th>\n",
       "      <th>Switch to order menu</th>\n",
       "      <th>Price range</th>\n",
       "      <th>Aggregate rating</th>\n",
       "      <th>Rating text</th>\n",
       "      <th>Votes</th>\n",
       "    </tr>\n",
       "  </thead>\n",
       "  <tbody>\n",
       "    <tr>\n",
       "      <th>0</th>\n",
       "      <td>162</td>\n",
       "      <td>121.027535</td>\n",
       "      <td>14.565443</td>\n",
       "      <td>1100</td>\n",
       "      <td>1</td>\n",
       "      <td>0</td>\n",
       "      <td>0</td>\n",
       "      <td>0</td>\n",
       "      <td>3</td>\n",
       "      <td>4.8</td>\n",
       "      <td>5</td>\n",
       "      <td>314</td>\n",
       "    </tr>\n",
       "    <tr>\n",
       "      <th>1</th>\n",
       "      <td>162</td>\n",
       "      <td>121.014101</td>\n",
       "      <td>14.553708</td>\n",
       "      <td>1200</td>\n",
       "      <td>1</td>\n",
       "      <td>0</td>\n",
       "      <td>0</td>\n",
       "      <td>0</td>\n",
       "      <td>3</td>\n",
       "      <td>4.5</td>\n",
       "      <td>5</td>\n",
       "      <td>591</td>\n",
       "    </tr>\n",
       "    <tr>\n",
       "      <th>2</th>\n",
       "      <td>162</td>\n",
       "      <td>121.056831</td>\n",
       "      <td>14.581404</td>\n",
       "      <td>4000</td>\n",
       "      <td>1</td>\n",
       "      <td>0</td>\n",
       "      <td>0</td>\n",
       "      <td>0</td>\n",
       "      <td>4</td>\n",
       "      <td>4.4</td>\n",
       "      <td>4</td>\n",
       "      <td>270</td>\n",
       "    </tr>\n",
       "    <tr>\n",
       "      <th>3</th>\n",
       "      <td>162</td>\n",
       "      <td>121.056475</td>\n",
       "      <td>14.585318</td>\n",
       "      <td>1500</td>\n",
       "      <td>0</td>\n",
       "      <td>0</td>\n",
       "      <td>0</td>\n",
       "      <td>0</td>\n",
       "      <td>4</td>\n",
       "      <td>4.9</td>\n",
       "      <td>5</td>\n",
       "      <td>365</td>\n",
       "    </tr>\n",
       "    <tr>\n",
       "      <th>4</th>\n",
       "      <td>162</td>\n",
       "      <td>121.057508</td>\n",
       "      <td>14.584450</td>\n",
       "      <td>1500</td>\n",
       "      <td>1</td>\n",
       "      <td>0</td>\n",
       "      <td>0</td>\n",
       "      <td>0</td>\n",
       "      <td>4</td>\n",
       "      <td>4.8</td>\n",
       "      <td>5</td>\n",
       "      <td>229</td>\n",
       "    </tr>\n",
       "  </tbody>\n",
       "</table>\n",
       "</div>"
      ],
      "text/plain": [
       "   Country Code   Longitude   Latitude  Average Cost for two  \\\n",
       "0           162  121.027535  14.565443                  1100   \n",
       "1           162  121.014101  14.553708                  1200   \n",
       "2           162  121.056831  14.581404                  4000   \n",
       "3           162  121.056475  14.585318                  1500   \n",
       "4           162  121.057508  14.584450                  1500   \n",
       "\n",
       "   Has Table booking  Has Online delivery  Is delivering now  \\\n",
       "0                  1                    0                  0   \n",
       "1                  1                    0                  0   \n",
       "2                  1                    0                  0   \n",
       "3                  0                    0                  0   \n",
       "4                  1                    0                  0   \n",
       "\n",
       "   Switch to order menu  Price range  Aggregate rating  Rating text  Votes  \n",
       "0                     0            3               4.8            5    314  \n",
       "1                     0            3               4.5            5    591  \n",
       "2                     0            4               4.4            4    270  \n",
       "3                     0            4               4.9            5    365  \n",
       "4                     0            4               4.8            5    229  "
      ]
     },
     "execution_count": 5,
     "metadata": {},
     "output_type": "execute_result"
    }
   ],
   "source": [
    "df_num.head()"
   ]
  },
  {
   "cell_type": "markdown",
   "id": "1af70355",
   "metadata": {
    "papermill": {
     "duration": 0.029736,
     "end_time": "2021-10-22T09:07:40.632075",
     "exception": false,
     "start_time": "2021-10-22T09:07:40.602339",
     "status": "completed"
    },
    "tags": []
   },
   "source": [
    "2. Разбить набор на обучающую и валидационную выборки"
   ]
  },
  {
   "cell_type": "code",
   "execution_count": 6,
   "id": "405f3240",
   "metadata": {
    "execution": {
     "iopub.execute_input": "2021-10-22T09:07:40.697531Z",
     "iopub.status.busy": "2021-10-22T09:07:40.696905Z",
     "iopub.status.idle": "2021-10-22T09:07:40.757438Z",
     "shell.execute_reply": "2021-10-22T09:07:40.758785Z",
     "shell.execute_reply.started": "2021-10-22T08:39:54.456621Z"
    },
    "papermill": {
     "duration": 0.097123,
     "end_time": "2021-10-22T09:07:40.759018",
     "exception": false,
     "start_time": "2021-10-22T09:07:40.661895",
     "status": "completed"
    },
    "tags": []
   },
   "outputs": [],
   "source": [
    "# Импорт нужной функции\n",
    "from sklearn.model_selection import train_test_split\n",
    "\n",
    "# Создание X, y\n",
    "# X --- вся таблица без таргета\n",
    "# y --- таргет (целевая переменная)\n",
    "y = df_num['Aggregate rating'] \n",
    "X = df_num.drop('Aggregate rating', axis=1) \n",
    "\n",
    "from sklearn.preprocessing import StandardScaler\n",
    "# scaler = StandardScaler()\n",
    "# X = scaler.fit_transform(X)\n",
    "# Разделение\n",
    "# test_size --- доля исходных данных, которую оставляем для валидации\n",
    "# random_state --- произвольное целое число, для воспроизводимости случайных результатов\n",
    "\n",
    "X_train, X_valid, y_train, y_valid = train_test_split(X, y, test_size=0.33, random_state=42)"
   ]
  },
  {
   "cell_type": "markdown",
   "id": "b2d006b5",
   "metadata": {
    "papermill": {
     "duration": 0.029387,
     "end_time": "2021-10-22T09:07:40.823648",
     "exception": false,
     "start_time": "2021-10-22T09:07:40.794261",
     "status": "completed"
    },
    "tags": []
   },
   "source": [
    "3. Обучаем алгоритм регрессии"
   ]
  },
  {
   "cell_type": "code",
   "execution_count": 7,
   "id": "102b8fd3",
   "metadata": {
    "execution": {
     "iopub.execute_input": "2021-10-22T09:07:40.887287Z",
     "iopub.status.busy": "2021-10-22T09:07:40.886537Z",
     "iopub.status.idle": "2021-10-22T09:07:41.154008Z",
     "shell.execute_reply": "2021-10-22T09:07:41.154769Z",
     "shell.execute_reply.started": "2021-10-22T08:39:54.468660Z"
    },
    "papermill": {
     "duration": 0.301813,
     "end_time": "2021-10-22T09:07:41.154957",
     "exception": false,
     "start_time": "2021-10-22T09:07:40.853144",
     "status": "completed"
    },
    "tags": []
   },
   "outputs": [
    {
     "data": {
      "text/plain": [
       "DecisionTreeRegressor(max_depth=3, random_state=2019)"
      ]
     },
     "execution_count": 7,
     "metadata": {},
     "output_type": "execute_result"
    }
   ],
   "source": [
    "from sklearn.tree import DecisionTreeRegressor #Обучение\n",
    "tree = DecisionTreeRegressor(max_depth=3, random_state=2019)\n",
    "tree.fit(X_train, y_train)"
   ]
  },
  {
   "cell_type": "code",
   "execution_count": 8,
   "id": "1974f8c0",
   "metadata": {
    "execution": {
     "iopub.execute_input": "2021-10-22T09:07:41.226893Z",
     "iopub.status.busy": "2021-10-22T09:07:41.225935Z",
     "iopub.status.idle": "2021-10-22T09:07:41.233771Z",
     "shell.execute_reply": "2021-10-22T09:07:41.234321Z",
     "shell.execute_reply.started": "2021-10-22T08:39:54.493464Z"
    },
    "papermill": {
     "duration": 0.043481,
     "end_time": "2021-10-22T09:07:41.234498",
     "exception": false,
     "start_time": "2021-10-22T09:07:41.191017",
     "status": "completed"
    },
    "tags": []
   },
   "outputs": [
    {
     "data": {
      "text/plain": [
       "0.03777257413541502"
      ]
     },
     "execution_count": 8,
     "metadata": {},
     "output_type": "execute_result"
    }
   ],
   "source": [
    "from sklearn.metrics import mean_squared_error\n",
    "y_pred = tree.predict(X_valid)#Предсказание\n",
    "mean_squared_error(y_valid, y_pred)#качество модели(регрессия)"
   ]
  },
  {
   "cell_type": "code",
   "execution_count": 9,
   "id": "d5f8d6dc",
   "metadata": {
    "execution": {
     "iopub.execute_input": "2021-10-22T09:07:41.298381Z",
     "iopub.status.busy": "2021-10-22T09:07:41.297785Z",
     "iopub.status.idle": "2021-10-22T09:07:41.303680Z",
     "shell.execute_reply": "2021-10-22T09:07:41.304364Z",
     "shell.execute_reply.started": "2021-10-22T08:39:54.507213Z"
    },
    "papermill": {
     "duration": 0.039843,
     "end_time": "2021-10-22T09:07:41.304691",
     "exception": false,
     "start_time": "2021-10-22T09:07:41.264848",
     "status": "completed"
    },
    "tags": []
   },
   "outputs": [
    {
     "name": "stdout",
     "output_type": "stream",
     "text": [
      "digraph Tree {\n",
      "node [shape=box] ;\n",
      "0 [label=\"Votes <= 3.5\\nmse = 2.317\\nsamples = 6399\\nvalue = 2.654\"] ;\n",
      "1 [label=\"mse = 0.0\\nsamples = 1458\\nvalue = 0.0\"] ;\n",
      "0 -> 1 [labeldistance=2.5, labelangle=45, headlabel=\"True\"] ;\n",
      "2 [label=\"Rating text <= 2.5\\nmse = 0.308\\nsamples = 4941\\nvalue = 3.438\"] ;\n",
      "0 -> 2 [labeldistance=2.5, labelangle=-45, headlabel=\"False\"] ;\n",
      "3 [label=\"Rating text <= 1.5\\nmse = 0.086\\nsamples = 2616\\nvalue = 3.009\"] ;\n",
      "2 -> 3 ;\n",
      "4 [label=\"mse = 0.014\\nsamples = 124\\nvalue = 2.298\"] ;\n",
      "3 -> 4 ;\n",
      "5 [label=\"mse = 0.064\\nsamples = 2492\\nvalue = 3.045\"] ;\n",
      "3 -> 5 ;\n",
      "6 [label=\"Rating text <= 3.5\\nmse = 0.12\\nsamples = 2325\\nvalue = 3.919\"] ;\n",
      "2 -> 6 ;\n",
      "7 [label=\"mse = 0.019\\nsamples = 1396\\nvalue = 3.683\"] ;\n",
      "6 -> 7 ;\n",
      "8 [label=\"mse = 0.061\\nsamples = 929\\nvalue = 4.274\"] ;\n",
      "6 -> 8 ;\n",
      "}\n"
     ]
    }
   ],
   "source": [
    "from sklearn.tree import export_graphviz\n",
    "export_graphviz(tree, out_file='tree.dot', feature_names=X.columns)\n",
    "print(open('tree.dot').read()) "
   ]
  },
  {
   "cell_type": "markdown",
   "id": "40698e16",
   "metadata": {
    "papermill": {
     "duration": 0.030119,
     "end_time": "2021-10-22T09:07:41.367551",
     "exception": false,
     "start_time": "2021-10-22T09:07:41.337432",
     "status": "completed"
    },
    "tags": []
   },
   "source": [
    "# Настройка гиперпараметров дерева"
   ]
  },
  {
   "cell_type": "markdown",
   "id": "7d1c2729",
   "metadata": {
    "papermill": {
     "duration": 0.030072,
     "end_time": "2021-10-22T09:07:41.428410",
     "exception": false,
     "start_time": "2021-10-22T09:07:41.398338",
     "status": "completed"
    },
    "tags": []
   },
   "source": [
    "1. Создать генератор разбиений, который перемешивает выборку перед созданием блоков"
   ]
  },
  {
   "cell_type": "code",
   "execution_count": 10,
   "id": "a73f87d9",
   "metadata": {
    "execution": {
     "iopub.execute_input": "2021-10-22T09:07:41.494144Z",
     "iopub.status.busy": "2021-10-22T09:07:41.493558Z",
     "iopub.status.idle": "2021-10-22T09:07:41.494797Z",
     "shell.execute_reply": "2021-10-22T09:07:41.495291Z",
     "shell.execute_reply.started": "2021-10-22T08:39:54.518992Z"
    },
    "papermill": {
     "duration": 0.036633,
     "end_time": "2021-10-22T09:07:41.495434",
     "exception": false,
     "start_time": "2021-10-22T09:07:41.458801",
     "status": "completed"
    },
    "tags": []
   },
   "outputs": [],
   "source": [
    "from sklearn.model_selection import KFold\n",
    "\n",
    "kf = KFold(n_splits=5, shuffle=True, random_state=42) "
   ]
  },
  {
   "cell_type": "markdown",
   "id": "63afa63a",
   "metadata": {
    "papermill": {
     "duration": 0.030046,
     "end_time": "2021-10-22T09:07:41.556051",
     "exception": false,
     "start_time": "2021-10-22T09:07:41.526005",
     "status": "completed"
    },
    "tags": []
   },
   "source": [
    "2. Осуществите кросс-валидацию модели для подбора гиперпараметров. Используйте GridSearchCV. Интервалы изменения гиперпараметров задайте самостоятельно."
   ]
  },
  {
   "cell_type": "code",
   "execution_count": 11,
   "id": "55de7cf9",
   "metadata": {
    "execution": {
     "iopub.execute_input": "2021-10-22T09:07:41.633922Z",
     "iopub.status.busy": "2021-10-22T09:07:41.633032Z",
     "iopub.status.idle": "2021-10-22T09:07:43.399439Z",
     "shell.execute_reply": "2021-10-22T09:07:43.399941Z",
     "shell.execute_reply.started": "2021-10-22T08:39:54.529870Z"
    },
    "papermill": {
     "duration": 1.812093,
     "end_time": "2021-10-22T09:07:43.400109",
     "exception": false,
     "start_time": "2021-10-22T09:07:41.588016",
     "status": "completed"
    },
    "tags": []
   },
   "outputs": [
    {
     "data": {
      "text/plain": [
       "GridSearchCV(cv=KFold(n_splits=5, random_state=42, shuffle=True),\n",
       "             estimator=DecisionTreeRegressor(max_depth=3, random_state=2019),\n",
       "             param_grid={'max_depth': array([ 2,  3,  4,  5,  6,  7,  8,  9, 10, 11, 12, 13, 14, 15, 16, 17, 18,\n",
       "       19])},\n",
       "             scoring='explained_variance')"
      ]
     },
     "execution_count": 11,
     "metadata": {},
     "output_type": "execute_result"
    }
   ],
   "source": [
    "\n",
    "# Кросс-валидация и подбор гиперпараметров\n",
    "from sklearn.model_selection import GridSearchCV\n",
    "\n",
    "tree_params_max_depth = {'max_depth': np.arange(2, 20)}\n",
    "tree_grid_max_depth = GridSearchCV(tree, tree_params_max_depth, cv=kf, scoring='explained_variance')\n",
    "tree_grid_max_depth.fit(X_train, y_train)"
   ]
  },
  {
   "cell_type": "code",
   "execution_count": 12,
   "id": "4cfe8c42",
   "metadata": {
    "execution": {
     "iopub.execute_input": "2021-10-22T09:07:43.465289Z",
     "iopub.status.busy": "2021-10-22T09:07:43.464735Z",
     "iopub.status.idle": "2021-10-22T09:07:43.468773Z",
     "shell.execute_reply": "2021-10-22T09:07:43.469196Z",
     "shell.execute_reply.started": "2021-10-22T08:39:56.440434Z"
    },
    "papermill": {
     "duration": 0.037779,
     "end_time": "2021-10-22T09:07:43.469344",
     "exception": false,
     "start_time": "2021-10-22T09:07:43.431565",
     "status": "completed"
    },
    "tags": []
   },
   "outputs": [
    {
     "data": {
      "text/plain": [
       "6"
      ]
     },
     "execution_count": 12,
     "metadata": {},
     "output_type": "execute_result"
    }
   ],
   "source": [
    "max_depth1 = tree_grid_max_depth.best_params_['max_depth']\n",
    "max_depth1 # максимальная глубина дерева"
   ]
  },
  {
   "cell_type": "code",
   "execution_count": 13,
   "id": "a89b5115",
   "metadata": {
    "execution": {
     "iopub.execute_input": "2021-10-22T09:07:43.535184Z",
     "iopub.status.busy": "2021-10-22T09:07:43.534286Z",
     "iopub.status.idle": "2021-10-22T09:07:43.539133Z",
     "shell.execute_reply": "2021-10-22T09:07:43.539661Z",
     "shell.execute_reply.started": "2021-10-22T08:39:56.448513Z"
    },
    "papermill": {
     "duration": 0.039493,
     "end_time": "2021-10-22T09:07:43.539828",
     "exception": false,
     "start_time": "2021-10-22T09:07:43.500335",
     "status": "completed"
    },
    "tags": []
   },
   "outputs": [
    {
     "data": {
      "text/plain": [
       "0.9870038007658583"
      ]
     },
     "execution_count": 13,
     "metadata": {},
     "output_type": "execute_result"
    }
   ],
   "source": [
    "tree_grid_max_depth.best_score_"
   ]
  },
  {
   "cell_type": "code",
   "execution_count": 14,
   "id": "72d466cd",
   "metadata": {
    "execution": {
     "iopub.execute_input": "2021-10-22T09:07:43.605611Z",
     "iopub.status.busy": "2021-10-22T09:07:43.604724Z",
     "iopub.status.idle": "2021-10-22T09:07:44.856123Z",
     "shell.execute_reply": "2021-10-22T09:07:44.856566Z",
     "shell.execute_reply.started": "2021-10-22T08:39:56.461287Z"
    },
    "papermill": {
     "duration": 1.285787,
     "end_time": "2021-10-22T09:07:44.856739",
     "exception": false,
     "start_time": "2021-10-22T09:07:43.570952",
     "status": "completed"
    },
    "tags": []
   },
   "outputs": [
    {
     "data": {
      "text/plain": [
       "GridSearchCV(cv=KFold(n_splits=5, random_state=42, shuffle=True),\n",
       "             estimator=DecisionTreeRegressor(max_depth=6),\n",
       "             param_grid={'min_samples_split': array([ 2,  3,  4,  5,  6,  7,  8,  9, 10, 11, 12, 13, 14, 15, 16, 17, 18,\n",
       "       19])},\n",
       "             scoring='explained_variance')"
      ]
     },
     "execution_count": 14,
     "metadata": {},
     "output_type": "execute_result"
    }
   ],
   "source": [
    "tree = DecisionTreeRegressor(max_depth=max_depth1)\n",
    "tree_params_split = {'min_samples_split': np.arange(2, 20)}\n",
    "tree_samples_split = GridSearchCV(tree, tree_params_split, cv=kf, scoring='explained_variance')\n",
    "tree_samples_split.fit(X_train, y_train)"
   ]
  },
  {
   "cell_type": "code",
   "execution_count": 15,
   "id": "2e2b3716",
   "metadata": {
    "execution": {
     "iopub.execute_input": "2021-10-22T09:07:44.923259Z",
     "iopub.status.busy": "2021-10-22T09:07:44.922359Z",
     "iopub.status.idle": "2021-10-22T09:07:44.927398Z",
     "shell.execute_reply": "2021-10-22T09:07:44.927935Z",
     "shell.execute_reply.started": "2021-10-22T08:39:57.867298Z"
    },
    "papermill": {
     "duration": 0.039663,
     "end_time": "2021-10-22T09:07:44.928085",
     "exception": false,
     "start_time": "2021-10-22T09:07:44.888422",
     "status": "completed"
    },
    "tags": []
   },
   "outputs": [
    {
     "data": {
      "text/plain": [
       "3"
      ]
     },
     "execution_count": 15,
     "metadata": {},
     "output_type": "execute_result"
    }
   ],
   "source": [
    "min_samples_split1 = tree_samples_split.best_params_['min_samples_split']\n",
    "min_samples_split1 #минимальное число обьектов для разбиения во внутренней вершине"
   ]
  },
  {
   "cell_type": "code",
   "execution_count": 16,
   "id": "a3fe5a05",
   "metadata": {
    "execution": {
     "iopub.execute_input": "2021-10-22T09:07:44.994925Z",
     "iopub.status.busy": "2021-10-22T09:07:44.994039Z",
     "iopub.status.idle": "2021-10-22T09:07:44.998908Z",
     "shell.execute_reply": "2021-10-22T09:07:44.999427Z",
     "shell.execute_reply.started": "2021-10-22T08:39:57.876062Z"
    },
    "papermill": {
     "duration": 0.039755,
     "end_time": "2021-10-22T09:07:44.999594",
     "exception": false,
     "start_time": "2021-10-22T09:07:44.959839",
     "status": "completed"
    },
    "tags": []
   },
   "outputs": [
    {
     "data": {
      "text/plain": [
       "0.9870317813363199"
      ]
     },
     "execution_count": 16,
     "metadata": {},
     "output_type": "execute_result"
    }
   ],
   "source": [
    "tree_samples_split.best_score_"
   ]
  },
  {
   "cell_type": "code",
   "execution_count": 17,
   "id": "232f7615",
   "metadata": {
    "execution": {
     "iopub.execute_input": "2021-10-22T09:07:45.067135Z",
     "iopub.status.busy": "2021-10-22T09:07:45.066223Z",
     "iopub.status.idle": "2021-10-22T09:07:51.663128Z",
     "shell.execute_reply": "2021-10-22T09:07:51.663681Z",
     "shell.execute_reply.started": "2021-10-22T08:39:57.891204Z"
    },
    "papermill": {
     "duration": 6.632145,
     "end_time": "2021-10-22T09:07:51.663844",
     "exception": false,
     "start_time": "2021-10-22T09:07:45.031699",
     "status": "completed"
    },
    "tags": []
   },
   "outputs": [
    {
     "data": {
      "text/plain": [
       "GridSearchCV(cv=KFold(n_splits=5, random_state=42, shuffle=True),\n",
       "             estimator=DecisionTreeRegressor(max_depth=6, min_samples_split=3),\n",
       "             param_grid={'min_samples_leaf': array([ 2,  3,  4,  5,  6,  7,  8,  9, 10, 11, 12, 13, 14, 15, 16, 17, 18,\n",
       "       19, 20, 21, 22, 23, 24, 25, 26, 27, 28, 29, 30, 31, 32, 33, 34, 35,\n",
       "       36, 37, 38, 39, 40, 41, 42, 43, 44, 45, 46, 47, 48, 49, 50, 51, 52,\n",
       "       53, 54, 55, 56, 57, 58, 59, 60, 61, 62, 63, 64, 65, 66, 67, 68, 69,\n",
       "       70, 71, 72, 73, 74, 75, 76, 77, 78, 79, 80, 81, 82, 83, 84, 85, 86,\n",
       "       87, 88, 89, 90, 91, 92, 93, 94, 95, 96, 97, 98, 99])},\n",
       "             scoring='explained_variance')"
      ]
     },
     "execution_count": 17,
     "metadata": {},
     "output_type": "execute_result"
    }
   ],
   "source": [
    "tree = DecisionTreeRegressor(max_depth=max_depth1, min_samples_split=min_samples_split1)\n",
    "tree_params_leaf = {'min_samples_leaf': np.arange(2, 100)}\n",
    "tree_samples_leaf = GridSearchCV(tree, tree_params_leaf, cv=kf, scoring='explained_variance') \n",
    "tree_samples_leaf.fit(X_train, y_train)"
   ]
  },
  {
   "cell_type": "code",
   "execution_count": 18,
   "id": "d6f7aa38",
   "metadata": {
    "execution": {
     "iopub.execute_input": "2021-10-22T09:07:51.732592Z",
     "iopub.status.busy": "2021-10-22T09:07:51.731707Z",
     "iopub.status.idle": "2021-10-22T09:07:51.736400Z",
     "shell.execute_reply": "2021-10-22T09:07:51.736874Z",
     "shell.execute_reply.started": "2021-10-22T08:40:05.265941Z"
    },
    "papermill": {
     "duration": 0.040852,
     "end_time": "2021-10-22T09:07:51.737031",
     "exception": false,
     "start_time": "2021-10-22T09:07:51.696179",
     "status": "completed"
    },
    "tags": []
   },
   "outputs": [
    {
     "data": {
      "text/plain": [
       "36"
      ]
     },
     "execution_count": 18,
     "metadata": {},
     "output_type": "execute_result"
    }
   ],
   "source": [
    "min_samples_leaf1 = tree_samples_leaf.best_params_['min_samples_leaf']\n",
    "min_samples_leaf1 # минимальное число объектов в листе"
   ]
  },
  {
   "cell_type": "code",
   "execution_count": 19,
   "id": "095f4f7b",
   "metadata": {
    "execution": {
     "iopub.execute_input": "2021-10-22T09:07:51.805430Z",
     "iopub.status.busy": "2021-10-22T09:07:51.804581Z",
     "iopub.status.idle": "2021-10-22T09:07:51.809081Z",
     "shell.execute_reply": "2021-10-22T09:07:51.809465Z",
     "shell.execute_reply.started": "2021-10-22T08:40:05.275102Z"
    },
    "papermill": {
     "duration": 0.040287,
     "end_time": "2021-10-22T09:07:51.809638",
     "exception": false,
     "start_time": "2021-10-22T09:07:51.769351",
     "status": "completed"
    },
    "tags": []
   },
   "outputs": [
    {
     "data": {
      "text/plain": [
       "0.9870857715921758"
      ]
     },
     "execution_count": 19,
     "metadata": {},
     "output_type": "execute_result"
    }
   ],
   "source": [
    "tree_samples_leaf.best_score_"
   ]
  },
  {
   "cell_type": "code",
   "execution_count": 20,
   "id": "2d443145",
   "metadata": {
    "execution": {
     "iopub.execute_input": "2021-10-22T09:07:51.878391Z",
     "iopub.status.busy": "2021-10-22T09:07:51.877829Z",
     "iopub.status.idle": "2021-10-22T09:07:52.358114Z",
     "shell.execute_reply": "2021-10-22T09:07:52.357594Z",
     "shell.execute_reply.started": "2021-10-22T08:40:05.288306Z"
    },
    "papermill": {
     "duration": 0.516051,
     "end_time": "2021-10-22T09:07:52.358248",
     "exception": false,
     "start_time": "2021-10-22T09:07:51.842197",
     "status": "completed"
    },
    "tags": []
   },
   "outputs": [
    {
     "data": {
      "text/plain": [
       "GridSearchCV(cv=KFold(n_splits=5, random_state=42, shuffle=True),\n",
       "             estimator=DecisionTreeRegressor(max_depth=6, min_samples_leaf=36,\n",
       "                                             min_samples_split=3),\n",
       "             param_grid={'max_features': array([ 3,  4,  5,  6,  7,  8,  9, 10, 11])},\n",
       "             scoring='explained_variance')"
      ]
     },
     "execution_count": 20,
     "metadata": {},
     "output_type": "execute_result"
    }
   ],
   "source": [
    "tree = DecisionTreeRegressor(max_depth=max_depth1, min_samples_split=min_samples_split1, min_samples_leaf=min_samples_leaf1)\n",
    "tree_params_features = {'max_features': np.arange(3, 12)}\n",
    "tree_max_features = GridSearchCV(tree, tree_params_features, cv=kf, scoring='explained_variance') \n",
    "tree_max_features.fit(X_train, y_train)"
   ]
  },
  {
   "cell_type": "code",
   "execution_count": 21,
   "id": "f243adcf",
   "metadata": {
    "execution": {
     "iopub.execute_input": "2021-10-22T09:07:52.431145Z",
     "iopub.status.busy": "2021-10-22T09:07:52.430506Z",
     "iopub.status.idle": "2021-10-22T09:07:52.432764Z",
     "shell.execute_reply": "2021-10-22T09:07:52.433183Z",
     "shell.execute_reply.started": "2021-10-22T08:40:05.881907Z"
    },
    "papermill": {
     "duration": 0.040534,
     "end_time": "2021-10-22T09:07:52.433331",
     "exception": false,
     "start_time": "2021-10-22T09:07:52.392797",
     "status": "completed"
    },
    "tags": []
   },
   "outputs": [
    {
     "data": {
      "text/plain": [
       "11"
      ]
     },
     "execution_count": 21,
     "metadata": {},
     "output_type": "execute_result"
    }
   ],
   "source": [
    "tree_max_features1 = tree_max_features.best_params_['max_features']\n",
    "tree_max_features1"
   ]
  },
  {
   "cell_type": "code",
   "execution_count": 22,
   "id": "977275f6",
   "metadata": {
    "execution": {
     "iopub.execute_input": "2021-10-22T09:07:52.503239Z",
     "iopub.status.busy": "2021-10-22T09:07:52.502694Z",
     "iopub.status.idle": "2021-10-22T09:07:52.506684Z",
     "shell.execute_reply": "2021-10-22T09:07:52.507119Z",
     "shell.execute_reply.started": "2021-10-22T08:40:05.889940Z"
    },
    "papermill": {
     "duration": 0.040381,
     "end_time": "2021-10-22T09:07:52.507280",
     "exception": false,
     "start_time": "2021-10-22T09:07:52.466899",
     "status": "completed"
    },
    "tags": []
   },
   "outputs": [
    {
     "data": {
      "text/plain": [
       "0.9870857715921758"
      ]
     },
     "execution_count": 22,
     "metadata": {},
     "output_type": "execute_result"
    }
   ],
   "source": [
    "tree_max_features.best_score_"
   ]
  },
  {
   "cell_type": "markdown",
   "id": "ecf55534",
   "metadata": {
    "papermill": {
     "duration": 0.033425,
     "end_time": "2021-10-22T09:07:52.574383",
     "exception": false,
     "start_time": "2021-10-22T09:07:52.540958",
     "status": "completed"
    },
    "tags": []
   },
   "source": [
    "4. Построить валидационные кривые"
   ]
  },
  {
   "cell_type": "code",
   "execution_count": 23,
   "id": "c6c4a8de",
   "metadata": {
    "execution": {
     "iopub.execute_input": "2021-10-22T09:07:52.661109Z",
     "iopub.status.busy": "2021-10-22T09:07:52.652183Z",
     "iopub.status.idle": "2021-10-22T09:07:53.097136Z",
     "shell.execute_reply": "2021-10-22T09:07:53.096260Z",
     "shell.execute_reply.started": "2021-10-22T08:40:05.927800Z"
    },
    "papermill": {
     "duration": 0.48931,
     "end_time": "2021-10-22T09:07:53.097293",
     "exception": false,
     "start_time": "2021-10-22T09:07:52.607983",
     "status": "completed"
    },
    "tags": []
   },
   "outputs": [
    {
     "data": {
      "text/plain": [
       "Text(0.5, 0, 'max_features')"
      ]
     },
     "execution_count": 23,
     "metadata": {},
     "output_type": "execute_result"
    },
    {
     "data": {
      "image/png": "[encoded data removed]",
      "text/plain": [
       "<Figure size 576x936 with 4 Axes>"
      ]
     },
     "metadata": {
      "needs_background": "light"
     },
     "output_type": "display_data"
    }
   ],
   "source": [
    "import matplotlib.pyplot as plt\n",
    "\n",
    "fig, ax = plt.subplots(nrows=2, ncols=2, sharey=True, figsize=(8,13))\n",
    "\n",
    "ax[0, 0].plot(tree_params_max_depth['max_depth'], tree_grid_max_depth.cv_results_['mean_test_score'])\n",
    "ax[0, 0].set_xlabel('max_depth')\n",
    "\n",
    "ax[0, 1].plot(tree_params_split['min_samples_split'], tree_samples_split.cv_results_['mean_test_score'])\n",
    "ax[0, 1].set_xlabel('min_samples_split')\n",
    "\n",
    "ax[1, 0].plot(tree_params_leaf['min_samples_leaf'], tree_samples_leaf.cv_results_['mean_test_score'])\n",
    "ax[1, 0].set_xlabel('min_samples_leaf')\n",
    "\n",
    "ax[1, 1].plot(tree_params_features['max_features'], tree_max_features.cv_results_['mean_test_score'])\n",
    "ax[1, 1].set_xlabel('max_features')"
   ]
  },
  {
   "cell_type": "markdown",
   "id": "3a5ec8e2",
   "metadata": {
    "papermill": {
     "duration": 0.03461,
     "end_time": "2021-10-22T09:07:53.168308",
     "exception": false,
     "start_time": "2021-10-22T09:07:53.133698",
     "status": "completed"
    },
    "tags": []
   },
   "source": [
    "В результате мы получили набор гиперпараметров: max_depth=6, max_features=11, min_samples_leaf=36, min_samples_split=3."
   ]
  },
  {
   "cell_type": "markdown",
   "id": "0b3a4d32",
   "metadata": {
    "papermill": {
     "duration": 0.035134,
     "end_time": "2021-10-22T09:07:53.238473",
     "exception": false,
     "start_time": "2021-10-22T09:07:53.203339",
     "status": "completed"
    },
    "tags": []
   },
   "source": [
    "4. Построить графически полученное дерево"
   ]
  },
  {
   "cell_type": "code",
   "execution_count": 24,
   "id": "04786bd3",
   "metadata": {
    "execution": {
     "iopub.execute_input": "2021-10-22T09:07:53.311958Z",
     "iopub.status.busy": "2021-10-22T09:07:53.311317Z",
     "iopub.status.idle": "2021-10-22T09:07:53.419770Z",
     "shell.execute_reply": "2021-10-22T09:07:53.419080Z",
     "shell.execute_reply.started": "2021-10-22T09:02:37.933790Z"
    },
    "papermill": {
     "duration": 0.146451,
     "end_time": "2021-10-22T09:07:53.420017",
     "exception": true,
     "start_time": "2021-10-22T09:07:53.273566",
     "status": "failed"
    },
    "tags": []
   },
   "outputs": [
    {
     "name": "stdout",
     "output_type": "stream",
     "text": [
      "0.03777257413541502\n"
     ]
    },
    {
     "ename": "NameError",
     "evalue": "name 'best_forest' is not defined",
     "output_type": "error",
     "traceback": [
      "\u001b[0;31m---------------------------------------------------------------------------\u001b[0m",
      "\u001b[0;31mNameError\u001b[0m                                 Traceback (most recent call last)",
      "\u001b[0;32m/tmp/ipykernel_19/3050918966.py\u001b[0m in \u001b[0;36m<module>\u001b[0;34m\u001b[0m\n\u001b[1;32m      5\u001b[0m \u001b[0mbest_tree\u001b[0m\u001b[0;34m.\u001b[0m\u001b[0mfit\u001b[0m\u001b[0;34m(\u001b[0m\u001b[0mX_train\u001b[0m\u001b[0;34m,\u001b[0m \u001b[0my_train\u001b[0m\u001b[0;34m)\u001b[0m\u001b[0;34m\u001b[0m\u001b[0;34m\u001b[0m\u001b[0m\n\u001b[1;32m      6\u001b[0m \u001b[0mprint\u001b[0m\u001b[0;34m(\u001b[0m\u001b[0mmean_squared_error\u001b[0m\u001b[0;34m(\u001b[0m\u001b[0my_valid\u001b[0m\u001b[0;34m,\u001b[0m \u001b[0my_pred\u001b[0m\u001b[0;34m)\u001b[0m\u001b[0;34m)\u001b[0m\u001b[0;34m\u001b[0m\u001b[0;34m\u001b[0m\u001b[0m\n\u001b[0;32m----> 7\u001b[0;31m \u001b[0mprint\u001b[0m\u001b[0;34m(\u001b[0m\u001b[0mbest_forest\u001b[0m\u001b[0;34m.\u001b[0m\u001b[0mscore\u001b[0m\u001b[0;34m(\u001b[0m\u001b[0mX_valid\u001b[0m\u001b[0;34m,\u001b[0m \u001b[0my_valid\u001b[0m\u001b[0;34m)\u001b[0m\u001b[0;34m)\u001b[0m\u001b[0;34m\u001b[0m\u001b[0;34m\u001b[0m\u001b[0m\n\u001b[0m",
      "\u001b[0;31mNameError\u001b[0m: name 'best_forest' is not defined"
     ]
    }
   ],
   "source": [
    "best_tree = DecisionTreeRegressor(max_depth = 6, \n",
    "                                   max_features = 11, \n",
    "                                   min_samples_leaf = 36, \n",
    "                                   min_samples_split = 3)\n",
    "best_tree.fit(X_train, y_train)\n",
    "print(mean_squared_error(y_valid, y_pred))\n",
    "print(best_forest.score(X_valid, y_valid))"
   ]
  },
  {
   "cell_type": "code",
   "execution_count": null,
   "id": "3f389848",
   "metadata": {
    "execution": {
     "iopub.execute_input": "2021-10-22T08:40:06.593951Z",
     "iopub.status.busy": "2021-10-22T08:40:06.593359Z",
     "iopub.status.idle": "2021-10-22T08:40:06.606591Z",
     "shell.execute_reply": "2021-10-22T08:40:06.605842Z",
     "shell.execute_reply.started": "2021-10-22T08:40:06.593912Z"
    },
    "papermill": {
     "duration": null,
     "end_time": null,
     "exception": null,
     "start_time": null,
     "status": "pending"
    },
    "tags": []
   },
   "outputs": [],
   "source": [
    "export_graphviz(best_tree, out_file='best_tree.dot', feature_names=X.columns)\n",
    "print(open('best_tree.dot').read()) "
   ]
  },
  {
   "cell_type": "markdown",
   "id": "9d262146",
   "metadata": {
    "papermill": {
     "duration": null,
     "end_time": null,
     "exception": null,
     "start_time": null,
     "status": "pending"
    },
    "tags": []
   },
   "source": [
    "[https://dreampuf.github.io/GraphvizOnline/#digraph%20Tree%20%7B%0D%0Anode%20%5Bshape%3Dbox%5D%20%3B%0D%0A0%20%5Blabel%3D%22Rating%20text%20%3C%3D%200.5%5Cnmse%20%3D%202.317%5Cnsamples%20%3D%206399%5Cnvalue%20%3D%202.654%22%5D%20%3B%0D%0A1%20%5Blabel%3D%22mse%20%3D%200.0%5Cnsamples%20%3D%201458%5Cnvalue%20%3D%200.0%22%5D%20%3B%0D%0A0%20-%3E%201%20%5Blabeldistance%3D2.5%2C%20labelangle%3D45%2C%20headlabel%3D%22True%22%5D%20%3B%0D%0A2%20%5Blabel%3D%22Rating%20text%20%3C%3D%202.5%5Cnmse%20%3D%200.308%5Cnsamples%20%3D%204941%5Cnvalue%20%3D%203.438%22%5D%20%3B%0D%0A0%20-%3E%202%20%5Blabeldistance%3D2.5%2C%20labelangle%3D-45%2C%20headlabel%3D%22False%22%5D%20%3B%0D%0A3%20%5Blabel%3D%22Rating%20text%20%3C%3D%201.5%5Cnmse%20%3D%200.086%5Cnsamples%20%3D%202616%5Cnvalue%20%3D%203.009%22%5D%20%3B%0D%0A2%20-%3E%203%20%3B%0D%0A4%20%5Blabel%3D%22Votes%20%3C%3D%2055.5%5Cnmse%20%3D%200.014%5Cnsamples%20%3D%20124%5Cnvalue%20%3D%202.298%22%5D%20%3B%0D%0A3%20-%3E%204%20%3B%0D%0A5%20%5Blabel%3D%22mse%20%3D%200.006%5Cnsamples%20%3D%2066%5Cnvalue%20%3D%202.336%22%5D%20%3B%0D%0A4%20-%3E%205%20%3B%0D%0A6%20%5Blabel%3D%22mse%20%3D%200.02%5Cnsamples%20%3D%2058%5Cnvalue%20%3D%202.255%22%5D%20%3B%0D%0A4%20-%3E%206%20%3B%0D%0A7%20%5Blabel%3D%22Votes%20%3C%3D%2011.5%5Cnmse%20%3D%200.064%5Cnsamples%20%3D%202492%5Cnvalue%20%3D%203.045%22%5D%20%3B%0D%0A3%20-%3E%207%20%3B%0D%0A8%20%5Blabel%3D%22Longitude%20%3C%3D%2038.493%5Cnmse%20%3D%200.025%5Cnsamples%20%3D%20797%5Cnvalue%20%3D%202.969%22%5D%20%3B%0D%0A7%20-%3E%208%20%3B%0D%0A9%20%5Blabel%3D%22mse%20%3D%200.013%5Cnsamples%20%3D%2057%5Cnvalue%20%3D%203.075%22%5D%20%3B%0D%0A8%20-%3E%209%20%3B%0D%0A10%20%5Blabel%3D%22Has%20Online%20delivery%20%3C%3D%200.5%5Cnmse%20%3D%200.025%5Cnsamples%20%3D%20740%5Cnvalue%20%3D%202.96%22%5D%20%3B%0D%0A8%20-%3E%2010%20%3B%0D%0A11%20%5Blabel%3D%22mse%20%3D%200.018%5Cnsamples%20%3D%20609%5Cnvalue%20%3D%202.973%22%5D%20%3B%0D%0A10%20-%3E%2011%20%3B%0D%0A12%20%5Blabel%3D%22mse%20%3D%200.051%5Cnsamples%20%3D%20131%5Cnvalue%20%3D%202.899%22%5D%20%3B%0D%0A10%20-%3E%2012%20%3B%0D%0A13%20%5Blabel%3D%22Latitude%20%3C%3D%2028.349%5Cnmse%20%3D%200.078%5Cnsamples%20%3D%201695%5Cnvalue%20%3D%203.081%22%5D%20%3B%0D%0A7%20-%3E%2013%20%3B%0D%0A14%20%5Blabel%3D%22Votes%20%3C%3D%2046.5%5Cnmse%20%3D%200.027%5Cnsamples%20%3D%2083%5Cnvalue%20%3D%203.278%22%5D%20%3B%0D%0A13%20-%3E%2014%20%3B%0D%0A15%20%5Blabel%3D%22mse%20%3D%200.041%5Cnsamples%20%3D%2042%5Cnvalue%20%3D%203.233%22%5D%20%3B%0D%0A14%20-%3E%2015%20%3B%0D%0A16%20%5Blabel%3D%22mse%20%3D%200.007%5Cnsamples%20%3D%2041%5Cnvalue%20%3D%203.324%22%5D%20%3B%0D%0A14%20-%3E%2016%20%3B%0D%0A17%20%5Blabel%3D%22Longitude%20%3C%3D%2077.246%5Cnmse%20%3D%200.078%5Cnsamples%20%3D%201612%5Cnvalue%20%3D%203.071%22%5D%20%3B%0D%0A13%20-%3E%2017%20%3B%0D%0A18%20%5Blabel%3D%22mse%20%3D%200.074%5Cnsamples%20%3D%201081%5Cnvalue%20%3D%203.101%22%5D%20%3B%0D%0A17%20-%3E%2018%20%3B%0D%0A19%20%5Blabel%3D%22mse%20%3D%200.082%5Cnsamples%20%3D%20531%5Cnvalue%20%3D%203.008%22%5D%20%3B%0D%0A17%20-%3E%2019%20%3B%0D%0A20%20%5Blabel%3D%22Rating%20text%20%3C%3D%203.5%5Cnmse%20%3D%200.12%5Cnsamples%20%3D%202325%5Cnvalue%20%3D%203.919%22%5D%20%3B%0D%0A2%20-%3E%2020%20%3B%0D%0A21%20%5Blabel%3D%22Votes%20%3C%3D%2088.5%5Cnmse%20%3D%200.019%5Cnsamples%20%3D%201396%5Cnvalue%20%3D%203.683%22%5D%20%3B%0D%0A20%20-%3E%2021%20%3B%0D%0A22%20%5Blabel%3D%22Votes%20%3C%3D%2039.5%5Cnmse%20%3D%200.016%5Cnsamples%20%3D%20528%5Cnvalue%20%3D%203.633%22%5D%20%3B%0D%0A21%20-%3E%2022%20%3B%0D%0A23%20%5Blabel%3D%22Longitude%20%3C%3D%2077.084%5Cnmse%20%3D%200.015%5Cnsamples%20%3D%20218%5Cnvalue%20%3D%203.606%22%5D%20%3B%0D%0A22%20-%3E%2023%20%3B%0D%0A24%20%5Blabel%3D%22mse%20%3D%200.019%5Cnsamples%20%3D%2052%5Cnvalue%20%3D%203.66%22%5D%20%3B%0D%0A23%20-%3E%2024%20%3B%0D%0A25%20%5Blabel%3D%22mse%20%3D%200.012%5Cnsamples%20%3D%20166%5Cnvalue%20%3D%203.589%22%5D%20%3B%0D%0A23%20-%3E%2025%20%3B%0D%0A26%20%5Blabel%3D%22Latitude%20%3C%3D%2028.559%5Cnmse%20%3D%200.017%5Cnsamples%20%3D%20310%5Cnvalue%20%3D%203.651%22%5D%20%3B%0D%0A22%20-%3E%2026%20%3B%0D%0A27%20%5Blabel%3D%22mse%20%3D%200.018%5Cnsamples%20%3D%20132%5Cnvalue%20%3D%203.673%22%5D%20%3B%0D%0A26%20-%3E%2027%20%3B%0D%0A28%20%5Blabel%3D%22mse%20%3D%200.015%5Cnsamples%20%3D%20178%5Cnvalue%20%3D%203.635%22%5D%20%3B%0D%0A26%20-%3E%2028%20%3B%0D%0A29%20%5Blabel%3D%22Votes%20%3C%3D%20549.5%5Cnmse%20%3D%200.019%5Cnsamples%20%3D%20868%5Cnvalue%20%3D%203.714%22%5D%20%3B%0D%0A21%20-%3E%2029%20%3B%0D%0A30%20%5Blabel%3D%22Average%20Cost%20for%20two%20%3C%3D%20235.0%5Cnmse%20%3D%200.019%5Cnsamples%20%3D%20757%5Cnvalue%20%3D%203.707%22%5D%20%3B%0D%0A29%20-%3E%2030%20%3B%0D%0A31%20%5Blabel%3D%22mse%20%3D%200.015%5Cnsamples%20%3D%20123%5Cnvalue%20%3D%203.75%22%5D%20%3B%0D%0A30%20-%3E%2031%20%3B%0D%0A32%20%5Blabel%3D%22mse%20%3D%200.019%5Cnsamples%20%3D%20634%5Cnvalue%20%3D%203.698%22%5D%20%3B%0D%0A30%20-%3E%2032%20%3B%0D%0A33%20%5Blabel%3D%22Longitude%20%3C%3D%2077.195%5Cnmse%20%3D%200.016%5Cnsamples%20%3D%20111%5Cnvalue%20%3D%203.764%22%5D%20%3B%0D%0A29%20-%3E%2033%20%3B%0D%0A34%20%5Blabel%3D%22mse%20%3D%200.012%5Cnsamples%20%3D%2045%5Cnvalue%20%3D%203.789%22%5D%20%3B%0D%0A33%20-%3E%2034%20%3B%0D%0A35%20%5Blabel%3D%22mse%20%3D%200.017%5Cnsamples%20%3D%2066%5Cnvalue%20%3D%203.747%22%5D%20%3B%0D%0A33%20-%3E%2035%20%3B%0D%0A36%20%5Blabel%3D%22Rating%20text%20%3C%3D%204.5%5Cnmse%20%3D%200.061%5Cnsamples%20%3D%20929%5Cnvalue%20%3D%204.274%22%5D%20%3B%0D%0A20%20-%3E%2036%20%3B%0D%0A37%20%5Blabel%3D%22Votes%20%3C%3D%20600.0%5Cnmse%20%3D%200.019%5Cnsamples%20%3D%20724%5Cnvalue%20%3D%204.165%22%5D%20%3B%0D%0A36%20-%3E%2037%20%3B%0D%0A38%20%5Blabel%3D%22Latitude%20%3C%3D%2026.17%5Cnmse%20%3D%200.018%5Cnsamples%20%3D%20543%5Cnvalue%20%3D%204.152%22%5D%20%3B%0D%0A37%20-%3E%2038%20%3B%0D%0A39%20%5Blabel%3D%22mse%20%3D%200.019%5Cnsamples%20%3D%20188%5Cnvalue%20%3D%204.188%22%5D%20%3B%0D%0A38%20-%3E%2039%20%3B%0D%0A40%20%5Blabel%3D%22mse%20%3D%200.016%5Cnsamples%20%3D%20355%5Cnvalue%20%3D%204.133%22%5D%20%3B%0D%0A38%20-%3E%2040%20%3B%0D%0A41%20%5Blabel%3D%22Longitude%20%3C%3D%2076.799%5Cnmse%20%3D%200.019%5Cnsamples%20%3D%20181%5Cnvalue%20%3D%204.203%22%5D%20%3B%0D%0A37%20-%3E%2041%20%3B%0D%0A42%20%5Blabel%3D%22mse%20%3D%200.016%5Cnsamples%20%3D%2076%5Cnvalue%20%3D%204.253%22%5D%20%3B%0D%0A41%20-%3E%2042%20%3B%0D%0A43%20%5Blabel%3D%22mse%20%3D%200.018%5Cnsamples%20%3D%20105%5Cnvalue%20%3D%204.168%22%5D%20%3B%0D%0A41%20-%3E%2043%20%3B%0D%0A44%20%5Blabel%3D%22Votes%20%3C%3D%201302.0%5Cnmse%20%3D%200.022%5Cnsamples%20%3D%20205%5Cnvalue%20%3D%204.658%22%5D%20%3B%0D%0A36%20-%3E%2044%20%3B%0D%0A45%20%5Blabel%3D%22Price%20range%20%3C%3D%203.5%5Cnmse%20%3D%200.021%5Cnsamples%20%3D%20168%5Cnvalue%20%3D%204.64%22%5D%20%3B%0D%0A44%20-%3E%2045%20%3B%0D%0A46%20%5Blabel%3D%22mse%20%3D%200.019%5Cnsamples%20%3D%20124%5Cnvalue%20%3D%204.619%22%5D%20%3B%0D%0A45%20-%3E%2046%20%3B%0D%0A47%20%5Blabel%3D%22mse%20%3D%200.024%5Cnsamples%20%3D%2044%5Cnvalue%20%3D%204.702%22%5D%20%3B%0D%0A45%20-%3E%2047%20%3B%0D%0A48%20%5Blabel%3D%22mse%20%3D%200.018%5Cnsamples%20%3D%2037%5Cnvalue%20%3D%204.738%22%5D%20%3B%0D%0A44%20-%3E%2048%20%3B%0D%0A%7D%0D%0Aadd%20Codeadd%20Markdown](http://)"
   ]
  },
  {
   "cell_type": "markdown",
   "id": "2dbee26e",
   "metadata": {
    "papermill": {
     "duration": null,
     "end_time": null,
     "exception": null,
     "start_time": null,
     "status": "pending"
    },
    "tags": []
   },
   "source": [
    "Оценка важности признаков"
   ]
  },
  {
   "cell_type": "code",
   "execution_count": null,
   "id": "80c0a3f3",
   "metadata": {
    "execution": {
     "iopub.execute_input": "2021-10-22T08:40:06.608463Z",
     "iopub.status.busy": "2021-10-22T08:40:06.607984Z",
     "iopub.status.idle": "2021-10-22T08:40:06.621388Z",
     "shell.execute_reply": "2021-10-22T08:40:06.620508Z",
     "shell.execute_reply.started": "2021-10-22T08:40:06.608429Z"
    },
    "papermill": {
     "duration": null,
     "end_time": null,
     "exception": null,
     "start_time": null,
     "status": "pending"
    },
    "tags": []
   },
   "outputs": [],
   "source": [
    "features = dict(zip(range(len(X.columns)), X.columns))\n",
    "features"
   ]
  },
  {
   "cell_type": "code",
   "execution_count": null,
   "id": "0feeb2e4",
   "metadata": {
    "execution": {
     "iopub.execute_input": "2021-10-22T08:40:06.623624Z",
     "iopub.status.busy": "2021-10-22T08:40:06.622870Z",
     "iopub.status.idle": "2021-10-22T08:40:06.636760Z",
     "shell.execute_reply": "2021-10-22T08:40:06.635817Z",
     "shell.execute_reply.started": "2021-10-22T08:40:06.623590Z"
    },
    "papermill": {
     "duration": null,
     "end_time": null,
     "exception": null,
     "start_time": null,
     "status": "pending"
    },
    "tags": []
   },
   "outputs": [],
   "source": [
    "importances = best_tree.feature_importances_\n",
    "\n",
    "importances\n"
   ]
  },
  {
   "cell_type": "code",
   "execution_count": null,
   "id": "a138dc63",
   "metadata": {
    "execution": {
     "iopub.execute_input": "2021-10-22T08:40:06.641128Z",
     "iopub.status.busy": "2021-10-22T08:40:06.640817Z",
     "iopub.status.idle": "2021-10-22T08:40:06.649884Z",
     "shell.execute_reply": "2021-10-22T08:40:06.649229Z",
     "shell.execute_reply.started": "2021-10-22T08:40:06.641069Z"
    },
    "papermill": {
     "duration": null,
     "end_time": null,
     "exception": null,
     "start_time": null,
     "status": "pending"
    },
    "tags": []
   },
   "outputs": [],
   "source": [
    "indices = np.argsort(importances)[::-1]\n",
    "indices\n"
   ]
  },
  {
   "cell_type": "code",
   "execution_count": null,
   "id": "5e7f34c5",
   "metadata": {
    "execution": {
     "iopub.execute_input": "2021-10-22T08:40:06.651692Z",
     "iopub.status.busy": "2021-10-22T08:40:06.650957Z",
     "iopub.status.idle": "2021-10-22T08:40:06.667530Z",
     "shell.execute_reply": "2021-10-22T08:40:06.666773Z",
     "shell.execute_reply.started": "2021-10-22T08:40:06.651658Z"
    },
    "papermill": {
     "duration": null,
     "end_time": null,
     "exception": null,
     "start_time": null,
     "status": "pending"
    },
    "tags": []
   },
   "outputs": [],
   "source": [
    "\n",
    "num = len(X.columns)\n",
    "feature_indices = [i for i in indices[:num]]\n",
    "\n",
    "for f in range(num_to_plot):\n",
    "    print(f+1, features[feature_indices[f]], importances[indices[f]])"
   ]
  },
  {
   "cell_type": "markdown",
   "id": "27cacd99",
   "metadata": {
    "papermill": {
     "duration": null,
     "end_time": null,
     "exception": null,
     "start_time": null,
     "status": "pending"
    },
    "tags": []
   },
   "source": [
    "# Случайный лес"
   ]
  },
  {
   "cell_type": "code",
   "execution_count": null,
   "id": "293324b4",
   "metadata": {
    "execution": {
     "iopub.execute_input": "2021-10-22T08:40:06.669321Z",
     "iopub.status.busy": "2021-10-22T08:40:06.668503Z",
     "iopub.status.idle": "2021-10-22T08:40:07.705663Z",
     "shell.execute_reply": "2021-10-22T08:40:07.703779Z",
     "shell.execute_reply.started": "2021-10-22T08:40:06.669265Z"
    },
    "papermill": {
     "duration": null,
     "end_time": null,
     "exception": null,
     "start_time": null,
     "status": "pending"
    },
    "tags": []
   },
   "outputs": [],
   "source": [
    "from sklearn.ensemble import RandomForestRegressor\n",
    "fr = RandomForestRegressor(n_estimators=100, random_state=42, max_depth=6)\n",
    "fr.fit(X_train, y_train)\n",
    "y_pred = fr.predict(X_valid)\n",
    "\n",
    "print(mean_squared_error(y_valid, y_pred))\n",
    "print(fr.score(X_valid, y_valid))"
   ]
  },
  {
   "cell_type": "code",
   "execution_count": null,
   "id": "38f01598",
   "metadata": {
    "execution": {
     "iopub.execute_input": "2021-10-22T08:40:07.707590Z",
     "iopub.status.busy": "2021-10-22T08:40:07.707279Z",
     "iopub.status.idle": "2021-10-22T08:40:14.825489Z",
     "shell.execute_reply": "2021-10-22T08:40:14.824574Z",
     "shell.execute_reply.started": "2021-10-22T08:40:07.707547Z"
    },
    "papermill": {
     "duration": null,
     "end_time": null,
     "exception": null,
     "start_time": null,
     "status": "pending"
    },
    "tags": []
   },
   "outputs": [],
   "source": [
    "fr_params_estimators = {'n_estimators': [20, 50, 80, 100]}# количество деревьев \n",
    "fr_n_estimators = GridSearchCV(fr, fr_params_estimators, cv=kf, scoring='explained_variance', n_jobs = -1)\n",
    "fr_n_estimators.fit(X_train, y_train)\n",
    "n_estimators1 = fr_n_estimators.best_params_['n_estimators']\n",
    "n_estimators1"
   ]
  },
  {
   "cell_type": "code",
   "execution_count": null,
   "id": "281ecf57",
   "metadata": {
    "execution": {
     "iopub.execute_input": "2021-10-22T08:40:14.827408Z",
     "iopub.status.busy": "2021-10-22T08:40:14.827151Z",
     "iopub.status.idle": "2021-10-22T08:41:08.378809Z",
     "shell.execute_reply": "2021-10-22T08:41:08.377989Z",
     "shell.execute_reply.started": "2021-10-22T08:40:14.827372Z"
    },
    "papermill": {
     "duration": null,
     "end_time": null,
     "exception": null,
     "start_time": null,
     "status": "pending"
    },
    "tags": []
   },
   "outputs": [],
   "source": [
    "fr = RandomForestRegressor(n_estimators = n_estimators1)#максимальная глубина \n",
    "fr_params_depth = {'max_depth': np.arange(1, 20)}\n",
    "fr_max_depth = GridSearchCV(fr, fr_params_depth, cv=kf, scoring='explained_variance')\n",
    "fr_max_depth.fit(X_train, y_train)\n",
    "max_depth1 = fr_max_depth.best_params_['max_depth']\n",
    "max_depth1"
   ]
  },
  {
   "cell_type": "code",
   "execution_count": null,
   "id": "22f799f9",
   "metadata": {
    "execution": {
     "iopub.execute_input": "2021-10-22T08:41:08.380607Z",
     "iopub.status.busy": "2021-10-22T08:41:08.380204Z",
     "iopub.status.idle": "2021-10-22T08:41:51.140018Z",
     "shell.execute_reply": "2021-10-22T08:41:51.139021Z",
     "shell.execute_reply.started": "2021-10-22T08:41:08.380571Z"
    },
    "papermill": {
     "duration": null,
     "end_time": null,
     "exception": null,
     "start_time": null,
     "status": "pending"
    },
    "tags": []
   },
   "outputs": [],
   "source": [
    "fr = RandomForestRegressor(n_estimators = n_estimators1, max_depth = max_depth1)#минимальное число объектов для разбиения во внутренней вершине min_samples_split\n",
    "fr_params_split = {'min_samples_split': np.arange(3, 20)}\n",
    "fr_samples_split = GridSearchCV(fr, fr_params_split, cv=kf, scoring='explained_variance')\n",
    "fr_samples_split.fit(X_train, y_train)\n",
    "min_samples_split1 = fr_samples_split.best_params_['min_samples_split']\n",
    "min_samples_split1"
   ]
  },
  {
   "cell_type": "code",
   "execution_count": null,
   "id": "88ae998c",
   "metadata": {
    "execution": {
     "iopub.execute_input": "2021-10-22T08:43:06.298062Z",
     "iopub.status.busy": "2021-10-22T08:43:06.297776Z",
     "iopub.status.idle": "2021-10-22T08:43:53.105122Z",
     "shell.execute_reply": "2021-10-22T08:43:53.104120Z",
     "shell.execute_reply.started": "2021-10-22T08:43:06.298031Z"
    },
    "papermill": {
     "duration": null,
     "end_time": null,
     "exception": null,
     "start_time": null,
     "status": "pending"
    },
    "tags": []
   },
   "outputs": [],
   "source": [
    "fr = RandomForestRegressor(n_estimators = n_estimators1, max_depth = max_depth1)\n",
    "fr_params_leaf = {'min_samples_leaf': np.arange(1, 20)}#минимальное число объектов в листе min_samples_leaf\n",
    "fr_samples_leaf = GridSearchCV(fr, fr_params_leaf, cv=kf, scoring='explained_variance')\n",
    "fr_samples_leaf.fit(X_train, y_train)\n",
    "min_samples_leaf1 = fr_samples_leaf.best_params_['min_samples_leaf']\n",
    "min_samples_leaf1"
   ]
  },
  {
   "cell_type": "code",
   "execution_count": null,
   "id": "e3d96b90",
   "metadata": {
    "execution": {
     "iopub.execute_input": "2021-10-22T08:43:53.106840Z",
     "iopub.status.busy": "2021-10-22T08:43:53.106619Z",
     "iopub.status.idle": "2021-10-22T08:44:11.279663Z",
     "shell.execute_reply": "2021-10-22T08:44:11.278632Z",
     "shell.execute_reply.started": "2021-10-22T08:43:53.106812Z"
    },
    "papermill": {
     "duration": null,
     "end_time": null,
     "exception": null,
     "start_time": null,
     "status": "pending"
    },
    "tags": []
   },
   "outputs": [],
   "source": [
    "fr = RandomForestRegressor(n_estimators = n_estimators1, max_depth = max_depth1, min_samples_split = min_samples_split1, min_samples_leaf = min_samples_leaf1)\n",
    "#максимальное количество признаков, рассматриваемых при поиске лучшего разбиения\n",
    "fr_params_features = {'max_features': np.arange(1, 12)}\n",
    "fr_max_features = GridSearchCV(fr, fr_params_features, cv=kf, scoring='explained_variance')\n",
    "fr_max_features.fit(X_train, y_train)\n",
    "max_features1 = fr_max_features.best_params_['max_features']\n",
    "max_features1"
   ]
  },
  {
   "cell_type": "code",
   "execution_count": null,
   "id": "e86a306e",
   "metadata": {
    "execution": {
     "iopub.execute_input": "2021-10-22T08:48:10.012197Z",
     "iopub.status.busy": "2021-10-22T08:48:10.011762Z",
     "iopub.status.idle": "2021-10-22T08:48:10.598072Z",
     "shell.execute_reply": "2021-10-22T08:48:10.597120Z",
     "shell.execute_reply.started": "2021-10-22T08:48:10.012160Z"
    },
    "papermill": {
     "duration": null,
     "end_time": null,
     "exception": null,
     "start_time": null,
     "status": "pending"
    },
    "tags": []
   },
   "outputs": [],
   "source": [
    "best_forest = RandomForestRegressor(n_estimators = n_estimators1, max_depth = max_depth1, min_samples_split = min_samples_split1, min_samples_leaf = min_samples_leaf1, max_features = max_features1)\n",
    "best_forest.fit(X_train, y_train)"
   ]
  },
  {
   "cell_type": "code",
   "execution_count": null,
   "id": "a0f6833e",
   "metadata": {
    "execution": {
     "iopub.execute_input": "2021-10-22T08:49:47.919247Z",
     "iopub.status.busy": "2021-10-22T08:49:47.918843Z",
     "iopub.status.idle": "2021-10-22T08:49:47.960893Z",
     "shell.execute_reply": "2021-10-22T08:49:47.960245Z",
     "shell.execute_reply.started": "2021-10-22T08:49:47.919212Z"
    },
    "papermill": {
     "duration": null,
     "end_time": null,
     "exception": null,
     "start_time": null,
     "status": "pending"
    },
    "tags": []
   },
   "outputs": [],
   "source": [
    "y_pred = best_forest.predict(X_valid)\n",
    "\n",
    "print(mean_squared_error(y_valid, y_pred))\n",
    "print(best_forest.score(X_valid, y_valid))"
   ]
  },
  {
   "cell_type": "code",
   "execution_count": null,
   "id": "9b176b43",
   "metadata": {
    "execution": {
     "iopub.execute_input": "2021-10-22T08:44:17.660468Z",
     "iopub.status.busy": "2021-10-22T08:44:17.660121Z",
     "iopub.status.idle": "2021-10-22T08:44:18.243606Z",
     "shell.execute_reply": "2021-10-22T08:44:18.242884Z",
     "shell.execute_reply.started": "2021-10-22T08:44:17.660434Z"
    },
    "papermill": {
     "duration": null,
     "end_time": null,
     "exception": null,
     "start_time": null,
     "status": "pending"
    },
    "tags": []
   },
   "outputs": [],
   "source": [
    "import matplotlib.pyplot as plt\n",
    "\n",
    "fig, ax = plt.subplots(nrows=2, ncols=2, sharey=True, figsize=(8,13))\n",
    "\n",
    "ax[0, 0].plot(fr_params_depth['max_depth'], fr_max_depth.cv_results_['mean_test_score'])\n",
    "ax[0, 0].set_xlabel('max_depth')\n",
    "\n",
    "ax[0, 1].plot(fr_params_split['min_samples_split'], fr_samples_split.cv_results_['mean_test_score'])\n",
    "ax[0, 1].set_xlabel('min_samples_split')\n",
    "\n",
    "ax[1, 0].plot(fr_params_leaf['min_samples_leaf'], fr_samples_leaf.cv_results_['mean_test_score'])\n",
    "ax[1, 0].set_xlabel('min_samples_leaf')\n",
    "\n",
    "ax[1, 1].plot(fr_params_features['max_features'], fr_max_features.cv_results_['mean_test_score'])\n",
    "ax[1, 1].set_xlabel('max_features')"
   ]
  },
  {
   "cell_type": "code",
   "execution_count": null,
   "id": "e04fc1c0",
   "metadata": {
    "execution": {
     "iopub.execute_input": "2021-10-22T08:51:51.935498Z",
     "iopub.status.busy": "2021-10-22T08:51:51.934914Z",
     "iopub.status.idle": "2021-10-22T08:51:51.954452Z",
     "shell.execute_reply": "2021-10-22T08:51:51.953156Z",
     "shell.execute_reply.started": "2021-10-22T08:51:51.935449Z"
    },
    "papermill": {
     "duration": null,
     "end_time": null,
     "exception": null,
     "start_time": null,
     "status": "pending"
    },
    "tags": []
   },
   "outputs": [],
   "source": [
    "importances = best_forest.feature_importances_\n",
    "\n",
    "indices = np.argsort(importances)[::-1]\n",
    "num = len(X.columns)\n",
    "feature_indices = [i for i in indices[:num]]\n",
    "\n",
    "for i in range(num):\n",
    "    print(i+1, features[feature_indices[i]], importances[indices[i]])"
   ]
  },
  {
   "cell_type": "code",
   "execution_count": null,
   "id": "6acfde83",
   "metadata": {
    "execution": {
     "iopub.execute_input": "2021-10-22T08:55:59.990096Z",
     "iopub.status.busy": "2021-10-22T08:55:59.989607Z",
     "iopub.status.idle": "2021-10-22T08:56:00.337517Z",
     "shell.execute_reply": "2021-10-22T08:56:00.336883Z",
     "shell.execute_reply.started": "2021-10-22T08:55:59.990026Z"
    },
    "papermill": {
     "duration": null,
     "end_time": null,
     "exception": null,
     "start_time": null,
     "status": "pending"
    },
    "tags": []
   },
   "outputs": [],
   "source": [
    "bars = plt.bar(range(num), importances[indices[:num]])\n",
    "\n",
    "t = plt.xticks(range(num), feature_indices)\n",
    "\n",
    "plt.legend(bars, [(features[i]) for i in feature_indices]);"
   ]
  },
  {
   "cell_type": "code",
   "execution_count": null,
   "id": "9115a8cc",
   "metadata": {
    "execution": {
     "iopub.execute_input": "2021-10-22T09:01:08.528696Z",
     "iopub.status.busy": "2021-10-22T09:01:08.528103Z",
     "iopub.status.idle": "2021-10-22T09:01:08.604892Z",
     "shell.execute_reply": "2021-10-22T09:01:08.603801Z",
     "shell.execute_reply.started": "2021-10-22T09:01:08.528652Z"
    },
    "papermill": {
     "duration": null,
     "end_time": null,
     "exception": null,
     "start_time": null,
     "status": "pending"
    },
    "tags": []
   },
   "outputs": [],
   "source": [
    "from sklearn.neighbors import KNeighborsRegressor\n",
    "knn = KNeighborsRegressor()# обучаем классификации\n",
    "knn.fit(X_train,y_train)\n",
    "y_pred = knn.predict(X_valid) # делаем прогноз\n",
    "print(mean_squared_error(y_valid, y_pred))\n",
    "print(best_forest.score(X_valid, y_valid))"
   ]
  },
  {
   "cell_type": "markdown",
   "id": "b4442736",
   "metadata": {
    "papermill": {
     "duration": null,
     "end_time": null,
     "exception": null,
     "start_time": null,
     "status": "pending"
    },
    "tags": []
   },
   "source": [
    "Выводы:\n",
    "\n",
    "* Качество модели метода ближайших соседей по идее худшее из всех. Но у меня показало примерно такой же результат, что и дерево.\n",
    "* Дерево решений досаточно быстрое, модель оказалась чуть лучше чем kNN.\n",
    "* Случайный лес показал лучший результат. Минусом является длительность выполнения работы при большом количестве деревьев."
   ]
  }
 ],
 "metadata": {
  "kernelspec": {
   "display_name": "Python 3",
   "language": "python",
   "name": "python3"
  },
  "language_info": {
   "codemirror_mode": {
    "name": "ipython",
    "version": 3
   },
   "file_extension": ".py",
   "mimetype": "text/x-python",
   "name": "python",
   "nbconvert_exporter": "python",
   "pygments_lexer": "ipython3",
   "version": "3.7.10"
  },
  "papermill": {
   "default_parameters": {},
   "duration": 22.349189,
   "end_time": "2021-10-22T09:07:54.065406",
   "environment_variables": {},
   "exception": true,
   "input_path": "__notebook__.ipynb",
   "output_path": "__notebook__.ipynb",
   "parameters": {},
   "start_time": "2021-10-22T09:07:31.716217",
   "version": "2.3.3"
  }
 },
 "nbformat": 4,
 "nbformat_minor": 5
}
