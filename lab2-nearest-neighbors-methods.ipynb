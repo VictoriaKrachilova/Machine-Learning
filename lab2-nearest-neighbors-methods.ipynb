{
 "cells": [
  {
   "cell_type": "code",
   "execution_count": 1,
   "id": "c122ed12",
   "metadata": {
    "_cell_guid": "b1076dfc-b9ad-4769-8c92-a6c4dae69d19",
    "_uuid": "8f2839f25d086af736a60e9eeb907d3b93b6e0e5",
    "execution": {
     "iopub.execute_input": "2021-10-01T07:20:27.960666Z",
     "iopub.status.busy": "2021-10-01T07:20:27.955713Z",
     "iopub.status.idle": "2021-10-01T07:20:27.978240Z",
     "shell.execute_reply": "2021-10-01T07:20:27.979049Z",
     "shell.execute_reply.started": "2021-10-01T06:12:39.264109Z"
    },
    "papermill": {
     "duration": 0.073198,
     "end_time": "2021-10-01T07:20:27.979623",
     "exception": false,
     "start_time": "2021-10-01T07:20:27.906425",
     "status": "completed"
    },
    "tags": []
   },
   "outputs": [
    {
     "name": "stdout",
     "output_type": "stream",
     "text": [
      "/kaggle/input/zomato-restaurants-data/zomato.csv\n",
      "/kaggle/input/zomato-restaurants-data/file5.json\n",
      "/kaggle/input/zomato-restaurants-data/file1.json\n",
      "/kaggle/input/zomato-restaurants-data/file2.json\n",
      "/kaggle/input/zomato-restaurants-data/file4.json\n",
      "/kaggle/input/zomato-restaurants-data/file3.json\n",
      "/kaggle/input/zomato-restaurants-data/Country-Code.xlsx\n"
     ]
    }
   ],
   "source": [
    "# This Python 3 environment comes with many helpful analytics libraries installed\n",
    "# It is defined by the kaggle/python Docker image: https://github.com/kaggle/docker-python\n",
    "# For example, here's several helpful packages to load\n",
    "\n",
    "import numpy as np # linear algebra\n",
    "import pandas as pd # data processing, CSV file I/O (e.g. pd.read_csv)\n",
    "\n",
    "# Input data files are available in the read-only \"../input/\" directory\n",
    "# For example, running this (by clicking run or pressing Shift+Enter) will list all files under the input directory\n",
    "\n",
    "import os\n",
    "for dirname, _, filenames in os.walk('/kaggle/input'):\n",
    "    for filename in filenames:\n",
    "        print(os.path.join(dirname, filename))\n",
    "\n",
    "# You can write up to 20GB to the current directory (/kaggle/working/) that gets preserved as output when you create a version using \"Save & Run All\" \n",
    "# You can also write temporary files to /kaggle/temp/, but they won't be saved outside of the current session"
   ]
  },
  {
   "cell_type": "code",
   "execution_count": 2,
   "id": "9f614be1",
   "metadata": {
    "execution": {
     "iopub.execute_input": "2021-10-01T07:20:28.072310Z",
     "iopub.status.busy": "2021-10-01T07:20:28.071520Z",
     "iopub.status.idle": "2021-10-01T07:20:29.263462Z",
     "shell.execute_reply": "2021-10-01T07:20:29.262652Z",
     "shell.execute_reply.started": "2021-10-01T06:13:00.676096Z"
    },
    "papermill": {
     "duration": 1.237712,
     "end_time": "2021-10-01T07:20:29.263635",
     "exception": false,
     "start_time": "2021-10-01T07:20:28.025923",
     "status": "completed"
    },
    "tags": []
   },
   "outputs": [],
   "source": [
    "import numpy as np\n",
    "import pandas as pd\n",
    "import matplotlib.pyplot as plt\n",
    "import seaborn as sns\n",
    "from sklearn import preprocessing"
   ]
  },
  {
   "cell_type": "markdown",
   "id": "471ce64b",
   "metadata": {
    "papermill": {
     "duration": 0.03981,
     "end_time": "2021-10-01T07:20:29.342585",
     "exception": false,
     "start_time": "2021-10-01T07:20:29.302775",
     "status": "completed"
    },
    "tags": []
   },
   "source": [
    "# Методы ближайших соседей \n"
   ]
  },
  {
   "cell_type": "markdown",
   "id": "cbb0e6e9",
   "metadata": {
    "papermill": {
     "duration": 0.038848,
     "end_time": "2021-10-01T07:20:29.420806",
     "exception": false,
     "start_time": "2021-10-01T07:20:29.381958",
     "status": "completed"
    },
    "tags": []
   },
   "source": [
    "**1. Подключитесь к набору данных. Разберитесь в том, как устроен датасет и какова постановка задачи.**"
   ]
  },
  {
   "cell_type": "code",
   "execution_count": 3,
   "id": "5749dda3",
   "metadata": {
    "collapsed": true,
    "execution": {
     "iopub.execute_input": "2021-10-01T07:20:29.503272Z",
     "iopub.status.busy": "2021-10-01T07:20:29.502338Z",
     "iopub.status.idle": "2021-10-01T07:20:29.650119Z",
     "shell.execute_reply": "2021-10-01T07:20:29.650659Z",
     "shell.execute_reply.started": "2021-10-01T06:13:07.174646Z"
    },
    "jupyter": {
     "outputs_hidden": true
    },
    "papermill": {
     "duration": 0.19109,
     "end_time": "2021-10-01T07:20:29.650853",
     "exception": false,
     "start_time": "2021-10-01T07:20:29.459763",
     "status": "completed"
    },
    "tags": []
   },
   "outputs": [
    {
     "data": {
      "text/html": [
       "<div>\n",
       "<style scoped>\n",
       "    .dataframe tbody tr th:only-of-type {\n",
       "        vertical-align: middle;\n",
       "    }\n",
       "\n",
       "    .dataframe tbody tr th {\n",
       "        vertical-align: top;\n",
       "    }\n",
       "\n",
       "    .dataframe thead th {\n",
       "        text-align: right;\n",
       "    }\n",
       "</style>\n",
       "<table border=\"1\" class=\"dataframe\">\n",
       "  <thead>\n",
       "    <tr style=\"text-align: right;\">\n",
       "      <th></th>\n",
       "      <th>Restaurant ID</th>\n",
       "      <th>Restaurant Name</th>\n",
       "      <th>Country Code</th>\n",
       "      <th>City</th>\n",
       "      <th>Address</th>\n",
       "      <th>Locality</th>\n",
       "      <th>Locality Verbose</th>\n",
       "      <th>Longitude</th>\n",
       "      <th>Latitude</th>\n",
       "      <th>Cuisines</th>\n",
       "      <th>...</th>\n",
       "      <th>Currency</th>\n",
       "      <th>Has Table booking</th>\n",
       "      <th>Has Online delivery</th>\n",
       "      <th>Is delivering now</th>\n",
       "      <th>Switch to order menu</th>\n",
       "      <th>Price range</th>\n",
       "      <th>Aggregate rating</th>\n",
       "      <th>Rating color</th>\n",
       "      <th>Rating text</th>\n",
       "      <th>Votes</th>\n",
       "    </tr>\n",
       "  </thead>\n",
       "  <tbody>\n",
       "    <tr>\n",
       "      <th>0</th>\n",
       "      <td>6317637</td>\n",
       "      <td>Le Petit Souffle</td>\n",
       "      <td>162</td>\n",
       "      <td>Makati City</td>\n",
       "      <td>Third Floor, Century City Mall, Kalayaan Avenu...</td>\n",
       "      <td>Century City Mall, Poblacion, Makati City</td>\n",
       "      <td>Century City Mall, Poblacion, Makati City, Mak...</td>\n",
       "      <td>121.027535</td>\n",
       "      <td>14.565443</td>\n",
       "      <td>French, Japanese, Desserts</td>\n",
       "      <td>...</td>\n",
       "      <td>Botswana Pula(P)</td>\n",
       "      <td>Yes</td>\n",
       "      <td>No</td>\n",
       "      <td>No</td>\n",
       "      <td>No</td>\n",
       "      <td>3</td>\n",
       "      <td>4.8</td>\n",
       "      <td>Dark Green</td>\n",
       "      <td>Excellent</td>\n",
       "      <td>314</td>\n",
       "    </tr>\n",
       "    <tr>\n",
       "      <th>1</th>\n",
       "      <td>6304287</td>\n",
       "      <td>Izakaya Kikufuji</td>\n",
       "      <td>162</td>\n",
       "      <td>Makati City</td>\n",
       "      <td>Little Tokyo, 2277 Chino Roces Avenue, Legaspi...</td>\n",
       "      <td>Little Tokyo, Legaspi Village, Makati City</td>\n",
       "      <td>Little Tokyo, Legaspi Village, Makati City, Ma...</td>\n",
       "      <td>121.014101</td>\n",
       "      <td>14.553708</td>\n",
       "      <td>Japanese</td>\n",
       "      <td>...</td>\n",
       "      <td>Botswana Pula(P)</td>\n",
       "      <td>Yes</td>\n",
       "      <td>No</td>\n",
       "      <td>No</td>\n",
       "      <td>No</td>\n",
       "      <td>3</td>\n",
       "      <td>4.5</td>\n",
       "      <td>Dark Green</td>\n",
       "      <td>Excellent</td>\n",
       "      <td>591</td>\n",
       "    </tr>\n",
       "    <tr>\n",
       "      <th>2</th>\n",
       "      <td>6300002</td>\n",
       "      <td>Heat - Edsa Shangri-La</td>\n",
       "      <td>162</td>\n",
       "      <td>Mandaluyong City</td>\n",
       "      <td>Edsa Shangri-La, 1 Garden Way, Ortigas, Mandal...</td>\n",
       "      <td>Edsa Shangri-La, Ortigas, Mandaluyong City</td>\n",
       "      <td>Edsa Shangri-La, Ortigas, Mandaluyong City, Ma...</td>\n",
       "      <td>121.056831</td>\n",
       "      <td>14.581404</td>\n",
       "      <td>Seafood, Asian, Filipino, Indian</td>\n",
       "      <td>...</td>\n",
       "      <td>Botswana Pula(P)</td>\n",
       "      <td>Yes</td>\n",
       "      <td>No</td>\n",
       "      <td>No</td>\n",
       "      <td>No</td>\n",
       "      <td>4</td>\n",
       "      <td>4.4</td>\n",
       "      <td>Green</td>\n",
       "      <td>Very Good</td>\n",
       "      <td>270</td>\n",
       "    </tr>\n",
       "    <tr>\n",
       "      <th>3</th>\n",
       "      <td>6318506</td>\n",
       "      <td>Ooma</td>\n",
       "      <td>162</td>\n",
       "      <td>Mandaluyong City</td>\n",
       "      <td>Third Floor, Mega Fashion Hall, SM Megamall, O...</td>\n",
       "      <td>SM Megamall, Ortigas, Mandaluyong City</td>\n",
       "      <td>SM Megamall, Ortigas, Mandaluyong City, Mandal...</td>\n",
       "      <td>121.056475</td>\n",
       "      <td>14.585318</td>\n",
       "      <td>Japanese, Sushi</td>\n",
       "      <td>...</td>\n",
       "      <td>Botswana Pula(P)</td>\n",
       "      <td>No</td>\n",
       "      <td>No</td>\n",
       "      <td>No</td>\n",
       "      <td>No</td>\n",
       "      <td>4</td>\n",
       "      <td>4.9</td>\n",
       "      <td>Dark Green</td>\n",
       "      <td>Excellent</td>\n",
       "      <td>365</td>\n",
       "    </tr>\n",
       "    <tr>\n",
       "      <th>4</th>\n",
       "      <td>6314302</td>\n",
       "      <td>Sambo Kojin</td>\n",
       "      <td>162</td>\n",
       "      <td>Mandaluyong City</td>\n",
       "      <td>Third Floor, Mega Atrium, SM Megamall, Ortigas...</td>\n",
       "      <td>SM Megamall, Ortigas, Mandaluyong City</td>\n",
       "      <td>SM Megamall, Ortigas, Mandaluyong City, Mandal...</td>\n",
       "      <td>121.057508</td>\n",
       "      <td>14.584450</td>\n",
       "      <td>Japanese, Korean</td>\n",
       "      <td>...</td>\n",
       "      <td>Botswana Pula(P)</td>\n",
       "      <td>Yes</td>\n",
       "      <td>No</td>\n",
       "      <td>No</td>\n",
       "      <td>No</td>\n",
       "      <td>4</td>\n",
       "      <td>4.8</td>\n",
       "      <td>Dark Green</td>\n",
       "      <td>Excellent</td>\n",
       "      <td>229</td>\n",
       "    </tr>\n",
       "  </tbody>\n",
       "</table>\n",
       "<p>5 rows × 21 columns</p>\n",
       "</div>"
      ],
      "text/plain": [
       "   Restaurant ID         Restaurant Name  Country Code              City  \\\n",
       "0        6317637        Le Petit Souffle           162       Makati City   \n",
       "1        6304287        Izakaya Kikufuji           162       Makati City   \n",
       "2        6300002  Heat - Edsa Shangri-La           162  Mandaluyong City   \n",
       "3        6318506                    Ooma           162  Mandaluyong City   \n",
       "4        6314302             Sambo Kojin           162  Mandaluyong City   \n",
       "\n",
       "                                             Address  \\\n",
       "0  Third Floor, Century City Mall, Kalayaan Avenu...   \n",
       "1  Little Tokyo, 2277 Chino Roces Avenue, Legaspi...   \n",
       "2  Edsa Shangri-La, 1 Garden Way, Ortigas, Mandal...   \n",
       "3  Third Floor, Mega Fashion Hall, SM Megamall, O...   \n",
       "4  Third Floor, Mega Atrium, SM Megamall, Ortigas...   \n",
       "\n",
       "                                     Locality  \\\n",
       "0   Century City Mall, Poblacion, Makati City   \n",
       "1  Little Tokyo, Legaspi Village, Makati City   \n",
       "2  Edsa Shangri-La, Ortigas, Mandaluyong City   \n",
       "3      SM Megamall, Ortigas, Mandaluyong City   \n",
       "4      SM Megamall, Ortigas, Mandaluyong City   \n",
       "\n",
       "                                    Locality Verbose   Longitude   Latitude  \\\n",
       "0  Century City Mall, Poblacion, Makati City, Mak...  121.027535  14.565443   \n",
       "1  Little Tokyo, Legaspi Village, Makati City, Ma...  121.014101  14.553708   \n",
       "2  Edsa Shangri-La, Ortigas, Mandaluyong City, Ma...  121.056831  14.581404   \n",
       "3  SM Megamall, Ortigas, Mandaluyong City, Mandal...  121.056475  14.585318   \n",
       "4  SM Megamall, Ortigas, Mandaluyong City, Mandal...  121.057508  14.584450   \n",
       "\n",
       "                           Cuisines  ...          Currency Has Table booking  \\\n",
       "0        French, Japanese, Desserts  ...  Botswana Pula(P)               Yes   \n",
       "1                          Japanese  ...  Botswana Pula(P)               Yes   \n",
       "2  Seafood, Asian, Filipino, Indian  ...  Botswana Pula(P)               Yes   \n",
       "3                   Japanese, Sushi  ...  Botswana Pula(P)                No   \n",
       "4                  Japanese, Korean  ...  Botswana Pula(P)               Yes   \n",
       "\n",
       "  Has Online delivery Is delivering now Switch to order menu Price range  \\\n",
       "0                  No                No                   No           3   \n",
       "1                  No                No                   No           3   \n",
       "2                  No                No                   No           4   \n",
       "3                  No                No                   No           4   \n",
       "4                  No                No                   No           4   \n",
       "\n",
       "   Aggregate rating  Rating color Rating text Votes  \n",
       "0               4.8    Dark Green   Excellent   314  \n",
       "1               4.5    Dark Green   Excellent   591  \n",
       "2               4.4         Green   Very Good   270  \n",
       "3               4.9    Dark Green   Excellent   365  \n",
       "4               4.8    Dark Green   Excellent   229  \n",
       "\n",
       "[5 rows x 21 columns]"
      ]
     },
     "execution_count": 3,
     "metadata": {},
     "output_type": "execute_result"
    }
   ],
   "source": [
    "df = pd.read_csv(\"../input/zomato-restaurants-data/zomato.csv\", encoding = \"ISO-8859-1\")\n",
    "df.head()"
   ]
  },
  {
   "cell_type": "code",
   "execution_count": 4,
   "id": "6c4f9bca",
   "metadata": {
    "execution": {
     "iopub.execute_input": "2021-10-01T07:20:29.733638Z",
     "iopub.status.busy": "2021-10-01T07:20:29.732873Z",
     "iopub.status.idle": "2021-10-01T07:20:29.781766Z",
     "shell.execute_reply": "2021-10-01T07:20:29.782415Z",
     "shell.execute_reply.started": "2021-10-01T06:13:16.451206Z"
    },
    "papermill": {
     "duration": 0.092333,
     "end_time": "2021-10-01T07:20:29.782638",
     "exception": false,
     "start_time": "2021-10-01T07:20:29.690305",
     "status": "completed"
    },
    "tags": []
   },
   "outputs": [
    {
     "data": {
      "text/html": [
       "<div>\n",
       "<style scoped>\n",
       "    .dataframe tbody tr th:only-of-type {\n",
       "        vertical-align: middle;\n",
       "    }\n",
       "\n",
       "    .dataframe tbody tr th {\n",
       "        vertical-align: top;\n",
       "    }\n",
       "\n",
       "    .dataframe thead th {\n",
       "        text-align: right;\n",
       "    }\n",
       "</style>\n",
       "<table border=\"1\" class=\"dataframe\">\n",
       "  <thead>\n",
       "    <tr style=\"text-align: right;\">\n",
       "      <th></th>\n",
       "      <th>count</th>\n",
       "      <th>mean</th>\n",
       "      <th>std</th>\n",
       "      <th>min</th>\n",
       "      <th>25%</th>\n",
       "      <th>50%</th>\n",
       "      <th>75%</th>\n",
       "      <th>max</th>\n",
       "    </tr>\n",
       "  </thead>\n",
       "  <tbody>\n",
       "    <tr>\n",
       "      <th>Restaurant ID</th>\n",
       "      <td>9551.0</td>\n",
       "      <td>9.051128e+06</td>\n",
       "      <td>8.791521e+06</td>\n",
       "      <td>53.000000</td>\n",
       "      <td>301962.500000</td>\n",
       "      <td>6.004089e+06</td>\n",
       "      <td>1.835229e+07</td>\n",
       "      <td>1.850065e+07</td>\n",
       "    </tr>\n",
       "    <tr>\n",
       "      <th>Country Code</th>\n",
       "      <td>9551.0</td>\n",
       "      <td>1.836562e+01</td>\n",
       "      <td>5.675055e+01</td>\n",
       "      <td>1.000000</td>\n",
       "      <td>1.000000</td>\n",
       "      <td>1.000000e+00</td>\n",
       "      <td>1.000000e+00</td>\n",
       "      <td>2.160000e+02</td>\n",
       "    </tr>\n",
       "    <tr>\n",
       "      <th>Longitude</th>\n",
       "      <td>9551.0</td>\n",
       "      <td>6.412657e+01</td>\n",
       "      <td>4.146706e+01</td>\n",
       "      <td>-157.948486</td>\n",
       "      <td>77.081343</td>\n",
       "      <td>7.719196e+01</td>\n",
       "      <td>7.728201e+01</td>\n",
       "      <td>1.748321e+02</td>\n",
       "    </tr>\n",
       "    <tr>\n",
       "      <th>Latitude</th>\n",
       "      <td>9551.0</td>\n",
       "      <td>2.585438e+01</td>\n",
       "      <td>1.100794e+01</td>\n",
       "      <td>-41.330428</td>\n",
       "      <td>28.478713</td>\n",
       "      <td>2.857047e+01</td>\n",
       "      <td>2.864276e+01</td>\n",
       "      <td>5.597698e+01</td>\n",
       "    </tr>\n",
       "    <tr>\n",
       "      <th>Average Cost for two</th>\n",
       "      <td>9551.0</td>\n",
       "      <td>1.199211e+03</td>\n",
       "      <td>1.612118e+04</td>\n",
       "      <td>0.000000</td>\n",
       "      <td>250.000000</td>\n",
       "      <td>4.000000e+02</td>\n",
       "      <td>7.000000e+02</td>\n",
       "      <td>8.000000e+05</td>\n",
       "    </tr>\n",
       "    <tr>\n",
       "      <th>Price range</th>\n",
       "      <td>9551.0</td>\n",
       "      <td>1.804837e+00</td>\n",
       "      <td>9.056088e-01</td>\n",
       "      <td>1.000000</td>\n",
       "      <td>1.000000</td>\n",
       "      <td>2.000000e+00</td>\n",
       "      <td>2.000000e+00</td>\n",
       "      <td>4.000000e+00</td>\n",
       "    </tr>\n",
       "    <tr>\n",
       "      <th>Aggregate rating</th>\n",
       "      <td>9551.0</td>\n",
       "      <td>2.666370e+00</td>\n",
       "      <td>1.516378e+00</td>\n",
       "      <td>0.000000</td>\n",
       "      <td>2.500000</td>\n",
       "      <td>3.200000e+00</td>\n",
       "      <td>3.700000e+00</td>\n",
       "      <td>4.900000e+00</td>\n",
       "    </tr>\n",
       "    <tr>\n",
       "      <th>Votes</th>\n",
       "      <td>9551.0</td>\n",
       "      <td>1.569097e+02</td>\n",
       "      <td>4.301691e+02</td>\n",
       "      <td>0.000000</td>\n",
       "      <td>5.000000</td>\n",
       "      <td>3.100000e+01</td>\n",
       "      <td>1.310000e+02</td>\n",
       "      <td>1.093400e+04</td>\n",
       "    </tr>\n",
       "  </tbody>\n",
       "</table>\n",
       "</div>"
      ],
      "text/plain": [
       "                       count          mean           std         min  \\\n",
       "Restaurant ID         9551.0  9.051128e+06  8.791521e+06   53.000000   \n",
       "Country Code          9551.0  1.836562e+01  5.675055e+01    1.000000   \n",
       "Longitude             9551.0  6.412657e+01  4.146706e+01 -157.948486   \n",
       "Latitude              9551.0  2.585438e+01  1.100794e+01  -41.330428   \n",
       "Average Cost for two  9551.0  1.199211e+03  1.612118e+04    0.000000   \n",
       "Price range           9551.0  1.804837e+00  9.056088e-01    1.000000   \n",
       "Aggregate rating      9551.0  2.666370e+00  1.516378e+00    0.000000   \n",
       "Votes                 9551.0  1.569097e+02  4.301691e+02    0.000000   \n",
       "\n",
       "                                25%           50%           75%           max  \n",
       "Restaurant ID         301962.500000  6.004089e+06  1.835229e+07  1.850065e+07  \n",
       "Country Code               1.000000  1.000000e+00  1.000000e+00  2.160000e+02  \n",
       "Longitude                 77.081343  7.719196e+01  7.728201e+01  1.748321e+02  \n",
       "Latitude                  28.478713  2.857047e+01  2.864276e+01  5.597698e+01  \n",
       "Average Cost for two     250.000000  4.000000e+02  7.000000e+02  8.000000e+05  \n",
       "Price range                1.000000  2.000000e+00  2.000000e+00  4.000000e+00  \n",
       "Aggregate rating           2.500000  3.200000e+00  3.700000e+00  4.900000e+00  \n",
       "Votes                      5.000000  3.100000e+01  1.310000e+02  1.093400e+04  "
      ]
     },
     "execution_count": 4,
     "metadata": {},
     "output_type": "execute_result"
    }
   ],
   "source": [
    "df.describe().T# Статистика по числовым признакам"
   ]
  },
  {
   "cell_type": "code",
   "execution_count": 5,
   "id": "9b1f95a3",
   "metadata": {
    "execution": {
     "iopub.execute_input": "2021-10-01T07:20:29.886259Z",
     "iopub.status.busy": "2021-10-01T07:20:29.869814Z",
     "iopub.status.idle": "2021-10-01T07:20:29.901646Z",
     "shell.execute_reply": "2021-10-01T07:20:29.902149Z",
     "shell.execute_reply.started": "2021-10-01T06:13:20.394127Z"
    },
    "papermill": {
     "duration": 0.077601,
     "end_time": "2021-10-01T07:20:29.902384",
     "exception": false,
     "start_time": "2021-10-01T07:20:29.824783",
     "status": "completed"
    },
    "tags": []
   },
   "outputs": [
    {
     "name": "stdout",
     "output_type": "stream",
     "text": [
      "<class 'pandas.core.frame.DataFrame'>\n",
      "RangeIndex: 9551 entries, 0 to 9550\n",
      "Data columns (total 21 columns):\n",
      " #   Column                Non-Null Count  Dtype  \n",
      "---  ------                --------------  -----  \n",
      " 0   Restaurant ID         9551 non-null   int64  \n",
      " 1   Restaurant Name       9551 non-null   object \n",
      " 2   Country Code          9551 non-null   int64  \n",
      " 3   City                  9551 non-null   object \n",
      " 4   Address               9551 non-null   object \n",
      " 5   Locality              9551 non-null   object \n",
      " 6   Locality Verbose      9551 non-null   object \n",
      " 7   Longitude             9551 non-null   float64\n",
      " 8   Latitude              9551 non-null   float64\n",
      " 9   Cuisines              9542 non-null   object \n",
      " 10  Average Cost for two  9551 non-null   int64  \n",
      " 11  Currency              9551 non-null   object \n",
      " 12  Has Table booking     9551 non-null   object \n",
      " 13  Has Online delivery   9551 non-null   object \n",
      " 14  Is delivering now     9551 non-null   object \n",
      " 15  Switch to order menu  9551 non-null   object \n",
      " 16  Price range           9551 non-null   int64  \n",
      " 17  Aggregate rating      9551 non-null   float64\n",
      " 18  Rating color          9551 non-null   object \n",
      " 19  Rating text           9551 non-null   object \n",
      " 20  Votes                 9551 non-null   int64  \n",
      "dtypes: float64(3), int64(5), object(13)\n",
      "memory usage: 1.5+ MB\n"
     ]
    }
   ],
   "source": [
    "df.info()"
   ]
  },
  {
   "cell_type": "markdown",
   "id": "e6988abf",
   "metadata": {
    "papermill": {
     "duration": 0.040717,
     "end_time": "2021-10-01T07:20:29.983466",
     "exception": false,
     "start_time": "2021-10-01T07:20:29.942749",
     "status": "completed"
    },
    "tags": []
   },
   "source": [
    "Датасет состоит из данных ресторанов (названия, страны, города, рейтинга и тд). Target переменная - Aggregate rating. Цель - проанализировать данные и выяснить, от чего зависит рейтинг, как эти данные влияют на рейтинг"
   ]
  },
  {
   "cell_type": "markdown",
   "id": "fbb5a457",
   "metadata": {
    "papermill": {
     "duration": 0.040466,
     "end_time": "2021-10-01T07:20:30.064887",
     "exception": false,
     "start_time": "2021-10-01T07:20:30.024421",
     "status": "completed"
    },
    "tags": []
   },
   "source": []
  },
  {
   "cell_type": "markdown",
   "id": "40de004c",
   "metadata": {
    "papermill": {
     "duration": 0.041791,
     "end_time": "2021-10-01T07:20:30.151171",
     "exception": false,
     "start_time": "2021-10-01T07:20:30.109380",
     "status": "completed"
    },
    "tags": []
   },
   "source": [
    "**2. Извлеките целевой признак (target). Какая из задач обучения с учителем рассматривается –– классификация или регрессия?**"
   ]
  },
  {
   "cell_type": "code",
   "execution_count": 6,
   "id": "e3c47826",
   "metadata": {
    "execution": {
     "iopub.execute_input": "2021-10-01T07:20:30.240224Z",
     "iopub.status.busy": "2021-10-01T07:20:30.234797Z",
     "iopub.status.idle": "2021-10-01T07:20:30.243535Z",
     "shell.execute_reply": "2021-10-01T07:20:30.244032Z",
     "shell.execute_reply.started": "2021-10-01T06:13:26.639763Z"
    },
    "papermill": {
     "duration": 0.052858,
     "end_time": "2021-10-01T07:20:30.244289",
     "exception": false,
     "start_time": "2021-10-01T07:20:30.191431",
     "status": "completed"
    },
    "tags": []
   },
   "outputs": [
    {
     "data": {
      "text/plain": [
       "array([4.8, 4.5, 4.4, 4.9, 4. , 4.2, 4.3, 3.6, 4.7, 3. , 3.8, 3.7, 3.2,\n",
       "       3.1, 0. , 4.1, 3.3, 4.6, 3.9, 3.4, 3.5, 2.2, 2.9, 2.4, 2.6, 2.8,\n",
       "       2.1, 2.7, 2.5, 1.8, 2. , 2.3, 1.9])"
      ]
     },
     "execution_count": 6,
     "metadata": {},
     "output_type": "execute_result"
    }
   ],
   "source": [
    "df['Aggregate rating'].unique()"
   ]
  },
  {
   "cell_type": "markdown",
   "id": "c5efbf76",
   "metadata": {
    "papermill": {
     "duration": 0.040247,
     "end_time": "2021-10-01T07:20:30.325347",
     "exception": false,
     "start_time": "2021-10-01T07:20:30.285100",
     "status": "completed"
    },
    "tags": []
   },
   "source": [
    "Так как target принимает конечное число значений, то задача обучения - классификация."
   ]
  },
  {
   "cell_type": "markdown",
   "id": "3d11b06a",
   "metadata": {
    "papermill": {
     "duration": 0.04225,
     "end_time": "2021-10-01T07:20:30.408154",
     "exception": false,
     "start_time": "2021-10-01T07:20:30.365904",
     "status": "completed"
    },
    "tags": []
   },
   "source": [
    "**3. Каково распределение значений target-переменной? Постройте подходящую визуализацию. Прокомментируйте результат.**\n"
   ]
  },
  {
   "cell_type": "code",
   "execution_count": 7,
   "id": "376ec707",
   "metadata": {
    "execution": {
     "iopub.execute_input": "2021-10-01T07:20:30.493936Z",
     "iopub.status.busy": "2021-10-01T07:20:30.493149Z",
     "iopub.status.idle": "2021-10-01T07:20:30.742431Z",
     "shell.execute_reply": "2021-10-01T07:20:30.741655Z",
     "shell.execute_reply.started": "2021-10-01T06:12:17.696797Z"
    },
    "papermill": {
     "duration": 0.293714,
     "end_time": "2021-10-01T07:20:30.742597",
     "exception": false,
     "start_time": "2021-10-01T07:20:30.448883",
     "status": "completed"
    },
    "tags": []
   },
   "outputs": [
    {
     "data": {
      "text/plain": [
       "<AxesSubplot:>"
      ]
     },
     "execution_count": 7,
     "metadata": {},
     "output_type": "execute_result"
    },
    {
     "data": {
      "image/png": "[encoded data removed]",
      "text/plain": [
       "<Figure size 432x288 with 1 Axes>"
      ]
     },
     "metadata": {
      "needs_background": "light"
     },
     "output_type": "display_data"
    }
   ],
   "source": [
    "df['Aggregate rating'].hist()"
   ]
  },
  {
   "cell_type": "markdown",
   "id": "063d1741",
   "metadata": {
    "papermill": {
     "duration": 0.042421,
     "end_time": "2021-10-01T07:20:30.827024",
     "exception": false,
     "start_time": "2021-10-01T07:20:30.784603",
     "status": "completed"
    },
    "tags": []
   },
   "source": [
    "Классы не сбалансированы"
   ]
  },
  {
   "cell_type": "markdown",
   "id": "701e34ed",
   "metadata": {
    "papermill": {
     "duration": 0.041591,
     "end_time": "2021-10-01T07:20:30.911520",
     "exception": false,
     "start_time": "2021-10-01T07:20:30.869929",
     "status": "completed"
    },
    "tags": []
   },
   "source": [
    "**4. Проведите необходимую предобработку данных (preprocessing).**"
   ]
  },
  {
   "cell_type": "code",
   "execution_count": 8,
   "id": "9048ac64",
   "metadata": {
    "execution": {
     "iopub.execute_input": "2021-10-01T07:20:31.004129Z",
     "iopub.status.busy": "2021-10-01T07:20:31.003241Z",
     "iopub.status.idle": "2021-10-01T07:20:31.006699Z",
     "shell.execute_reply": "2021-10-01T07:20:31.007213Z",
     "shell.execute_reply.started": "2021-10-01T06:12:17.968038Z"
    },
    "papermill": {
     "duration": 0.05432,
     "end_time": "2021-10-01T07:20:31.007416",
     "exception": false,
     "start_time": "2021-10-01T07:20:30.953096",
     "status": "completed"
    },
    "tags": []
   },
   "outputs": [
    {
     "data": {
      "text/plain": [
       "1      8652\n",
       "216     434\n",
       "215      80\n",
       "30       60\n",
       "214      60\n",
       "189      60\n",
       "148      40\n",
       "208      34\n",
       "14       24\n",
       "162      22\n",
       "94       21\n",
       "184      20\n",
       "166      20\n",
       "191      20\n",
       "37        4\n",
       "Name: Country Code, dtype: int64"
      ]
     },
     "execution_count": 8,
     "metadata": {},
     "output_type": "execute_result"
    }
   ],
   "source": [
    "df[\"Country Code\"].value_counts()"
   ]
  },
  {
   "cell_type": "code",
   "execution_count": 9,
   "id": "7a77ef5a",
   "metadata": {
    "execution": {
     "iopub.execute_input": "2021-10-01T07:20:31.107707Z",
     "iopub.status.busy": "2021-10-01T07:20:31.106970Z",
     "iopub.status.idle": "2021-10-01T07:20:31.115958Z",
     "shell.execute_reply": "2021-10-01T07:20:31.115351Z",
     "shell.execute_reply.started": "2021-10-01T06:12:17.976748Z"
    },
    "papermill": {
     "duration": 0.065264,
     "end_time": "2021-10-01T07:20:31.116126",
     "exception": false,
     "start_time": "2021-10-01T07:20:31.050862",
     "status": "completed"
    },
    "tags": []
   },
   "outputs": [
    {
     "data": {
      "text/plain": [
       "Cafe Coffee Day             83\n",
       "Domino's Pizza              79\n",
       "Subway                      63\n",
       "Green Chick Chop            51\n",
       "McDonald's                  48\n",
       "                            ..\n",
       "Odeon Social                 1\n",
       "Johnny Rockets               1\n",
       "House of Commons             1\n",
       "HotMess                      1\n",
       "Walter's Coffee Roastery     1\n",
       "Name: Restaurant Name, Length: 7446, dtype: int64"
      ]
     },
     "execution_count": 9,
     "metadata": {},
     "output_type": "execute_result"
    }
   ],
   "source": [
    "df[\"Restaurant Name\"].value_counts()"
   ]
  },
  {
   "cell_type": "markdown",
   "id": "ba7aae0b",
   "metadata": {
    "papermill": {
     "duration": 0.04263,
     "end_time": "2021-10-01T07:20:31.202655",
     "exception": false,
     "start_time": "2021-10-01T07:20:31.160025",
     "status": "completed"
    },
    "tags": []
   },
   "source": [
    "Уникальных названий ресторанов слишком много (7446). Они никак не влияют на рейтинг. \"Address\", \"Locality\", \"Locality Verbose\" аналогично."
   ]
  },
  {
   "cell_type": "code",
   "execution_count": 10,
   "id": "da174337",
   "metadata": {
    "execution": {
     "iopub.execute_input": "2021-10-01T07:20:31.299022Z",
     "iopub.status.busy": "2021-10-01T07:20:31.298342Z",
     "iopub.status.idle": "2021-10-01T07:20:31.300918Z",
     "shell.execute_reply": "2021-10-01T07:20:31.301401Z",
     "shell.execute_reply.started": "2021-10-01T06:12:17.990704Z"
    },
    "papermill": {
     "duration": 0.055775,
     "end_time": "2021-10-01T07:20:31.301589",
     "exception": false,
     "start_time": "2021-10-01T07:20:31.245814",
     "status": "completed"
    },
    "tags": []
   },
   "outputs": [
    {
     "data": {
      "text/plain": [
       "New Delhi           5473\n",
       "Gurgaon             1118\n",
       "Noida               1080\n",
       "Faridabad            251\n",
       "Ghaziabad             25\n",
       "                    ... \n",
       "Panchkula              1\n",
       "Mc Millan              1\n",
       "Mayfield               1\n",
       "Macedon                1\n",
       "Vineland Station       1\n",
       "Name: City, Length: 141, dtype: int64"
      ]
     },
     "execution_count": 10,
     "metadata": {},
     "output_type": "execute_result"
    }
   ],
   "source": [
    "df[\"City\"].value_counts()"
   ]
  },
  {
   "cell_type": "code",
   "execution_count": 11,
   "id": "aed7f444",
   "metadata": {
    "execution": {
     "iopub.execute_input": "2021-10-01T07:20:31.395863Z",
     "iopub.status.busy": "2021-10-01T07:20:31.395116Z",
     "iopub.status.idle": "2021-10-01T07:20:31.401509Z",
     "shell.execute_reply": "2021-10-01T07:20:31.402012Z",
     "shell.execute_reply.started": "2021-10-01T06:12:18.003082Z"
    },
    "papermill": {
     "duration": 0.057641,
     "end_time": "2021-10-01T07:20:31.402231",
     "exception": false,
     "start_time": "2021-10-01T07:20:31.344590",
     "status": "completed"
    },
    "tags": []
   },
   "outputs": [
    {
     "data": {
      "text/plain": [
       "North Indian                                             936\n",
       "North Indian, Chinese                                    511\n",
       "Chinese                                                  354\n",
       "Fast Food                                                354\n",
       "North Indian, Mughlai                                    334\n",
       "                                                        ... \n",
       "Bengali, Fast Food                                         1\n",
       "North Indian, Rajasthani, Asian                            1\n",
       "Chinese, Thai, Malaysian, Indonesian                       1\n",
       "Bakery, Desserts, North Indian, Bengali, South Indian      1\n",
       "Italian, World Cuisine                                     1\n",
       "Name: Cuisines, Length: 1825, dtype: int64"
      ]
     },
     "execution_count": 11,
     "metadata": {},
     "output_type": "execute_result"
    }
   ],
   "source": [
    "df[\"Cuisines\"].value_counts()"
   ]
  },
  {
   "cell_type": "markdown",
   "id": "dbd6a72d",
   "metadata": {
    "papermill": {
     "duration": 0.04331,
     "end_time": "2021-10-01T07:20:31.489861",
     "exception": false,
     "start_time": "2021-10-01T07:20:31.446551",
     "status": "completed"
    },
    "tags": []
   },
   "source": [
    "Так как уникальных наборов из типов кухонь слишком много, мы не сможем извлечь из взаимосвязь с рейтингом."
   ]
  },
  {
   "cell_type": "markdown",
   "id": "390673ad",
   "metadata": {
    "papermill": {
     "duration": 0.044552,
     "end_time": "2021-10-01T07:20:31.578439",
     "exception": false,
     "start_time": "2021-10-01T07:20:31.533887",
     "status": "completed"
    },
    "tags": []
   },
   "source": [
    "Так как у нас есть \"Aggregate rating\", что отображает информацию о рейтинге в числовых значениях, то \"Rating color\" не нужен."
   ]
  },
  {
   "cell_type": "code",
   "execution_count": 12,
   "id": "868259c1",
   "metadata": {
    "execution": {
     "iopub.execute_input": "2021-10-01T07:20:31.669682Z",
     "iopub.status.busy": "2021-10-01T07:20:31.668921Z",
     "iopub.status.idle": "2021-10-01T07:20:31.675657Z",
     "shell.execute_reply": "2021-10-01T07:20:31.676261Z",
     "shell.execute_reply.started": "2021-10-01T06:12:18.018020Z"
    },
    "papermill": {
     "duration": 0.054307,
     "end_time": "2021-10-01T07:20:31.676473",
     "exception": false,
     "start_time": "2021-10-01T07:20:31.622166",
     "status": "completed"
    },
    "tags": []
   },
   "outputs": [],
   "source": [
    "df_num = df.drop([\"Cuisines\", \"Restaurant Name\", \"Address\", \"Locality\", \"Locality Verbose\", \"Rating color\", \"City\", \"Currency\",  \"Restaurant ID\"], axis = 1)#\"Latitude\", \"Longitude\","
   ]
  },
  {
   "cell_type": "code",
   "execution_count": 13,
   "id": "ddcd38a5",
   "metadata": {
    "execution": {
     "iopub.execute_input": "2021-10-01T07:20:31.766806Z",
     "iopub.status.busy": "2021-10-01T07:20:31.766062Z",
     "iopub.status.idle": "2021-10-01T07:20:31.786910Z",
     "shell.execute_reply": "2021-10-01T07:20:31.787494Z",
     "shell.execute_reply.started": "2021-10-01T06:12:18.029644Z"
    },
    "papermill": {
     "duration": 0.068089,
     "end_time": "2021-10-01T07:20:31.787754",
     "exception": false,
     "start_time": "2021-10-01T07:20:31.719665",
     "status": "completed"
    },
    "tags": []
   },
   "outputs": [],
   "source": [
    "df_num[\"Has Table booking\"] = df_num[\"Has Table booking\"].map({\"Yes\":1,\"No\":0})\n",
    "df_num[\"Has Online delivery\"] = df_num[\"Has Online delivery\"].map({\"Yes\":1,\"No\":0})\n",
    "df_num[\"Is delivering now\"] = df_num[\"Is delivering now\"].map({\"Yes\":1,\"No\":0})\n",
    "df_num[\"Switch to order menu\"] = df_num[\"Switch to order menu\"].map({\"Yes\":1,\"No\":0})\n",
    "df_num[\"Rating text\"] = df_num[\"Rating text\"].map({\"Excellent\":5, \"Very Good\":4 ,\"Good\":3, \"Average\":2, \"Poor\":1, \"Not rated\":0})"
   ]
  },
  {
   "cell_type": "code",
   "execution_count": 14,
   "id": "1b74f8ca",
   "metadata": {
    "execution": {
     "iopub.execute_input": "2021-10-01T07:20:31.881363Z",
     "iopub.status.busy": "2021-10-01T07:20:31.880646Z",
     "iopub.status.idle": "2021-10-01T07:20:31.897351Z",
     "shell.execute_reply": "2021-10-01T07:20:31.897906Z",
     "shell.execute_reply.started": "2021-10-01T06:12:18.052762Z"
    },
    "papermill": {
     "duration": 0.064805,
     "end_time": "2021-10-01T07:20:31.898114",
     "exception": false,
     "start_time": "2021-10-01T07:20:31.833309",
     "status": "completed"
    },
    "tags": []
   },
   "outputs": [
    {
     "data": {
      "text/html": [
       "<div>\n",
       "<style scoped>\n",
       "    .dataframe tbody tr th:only-of-type {\n",
       "        vertical-align: middle;\n",
       "    }\n",
       "\n",
       "    .dataframe tbody tr th {\n",
       "        vertical-align: top;\n",
       "    }\n",
       "\n",
       "    .dataframe thead th {\n",
       "        text-align: right;\n",
       "    }\n",
       "</style>\n",
       "<table border=\"1\" class=\"dataframe\">\n",
       "  <thead>\n",
       "    <tr style=\"text-align: right;\">\n",
       "      <th></th>\n",
       "      <th>Country Code</th>\n",
       "      <th>Longitude</th>\n",
       "      <th>Latitude</th>\n",
       "      <th>Average Cost for two</th>\n",
       "      <th>Has Table booking</th>\n",
       "      <th>Has Online delivery</th>\n",
       "      <th>Is delivering now</th>\n",
       "      <th>Switch to order menu</th>\n",
       "      <th>Price range</th>\n",
       "      <th>Aggregate rating</th>\n",
       "      <th>Rating text</th>\n",
       "      <th>Votes</th>\n",
       "    </tr>\n",
       "  </thead>\n",
       "  <tbody>\n",
       "    <tr>\n",
       "      <th>0</th>\n",
       "      <td>162</td>\n",
       "      <td>121.027535</td>\n",
       "      <td>14.565443</td>\n",
       "      <td>1100</td>\n",
       "      <td>1</td>\n",
       "      <td>0</td>\n",
       "      <td>0</td>\n",
       "      <td>0</td>\n",
       "      <td>3</td>\n",
       "      <td>4.8</td>\n",
       "      <td>5</td>\n",
       "      <td>314</td>\n",
       "    </tr>\n",
       "    <tr>\n",
       "      <th>1</th>\n",
       "      <td>162</td>\n",
       "      <td>121.014101</td>\n",
       "      <td>14.553708</td>\n",
       "      <td>1200</td>\n",
       "      <td>1</td>\n",
       "      <td>0</td>\n",
       "      <td>0</td>\n",
       "      <td>0</td>\n",
       "      <td>3</td>\n",
       "      <td>4.5</td>\n",
       "      <td>5</td>\n",
       "      <td>591</td>\n",
       "    </tr>\n",
       "    <tr>\n",
       "      <th>2</th>\n",
       "      <td>162</td>\n",
       "      <td>121.056831</td>\n",
       "      <td>14.581404</td>\n",
       "      <td>4000</td>\n",
       "      <td>1</td>\n",
       "      <td>0</td>\n",
       "      <td>0</td>\n",
       "      <td>0</td>\n",
       "      <td>4</td>\n",
       "      <td>4.4</td>\n",
       "      <td>4</td>\n",
       "      <td>270</td>\n",
       "    </tr>\n",
       "    <tr>\n",
       "      <th>3</th>\n",
       "      <td>162</td>\n",
       "      <td>121.056475</td>\n",
       "      <td>14.585318</td>\n",
       "      <td>1500</td>\n",
       "      <td>0</td>\n",
       "      <td>0</td>\n",
       "      <td>0</td>\n",
       "      <td>0</td>\n",
       "      <td>4</td>\n",
       "      <td>4.9</td>\n",
       "      <td>5</td>\n",
       "      <td>365</td>\n",
       "    </tr>\n",
       "    <tr>\n",
       "      <th>4</th>\n",
       "      <td>162</td>\n",
       "      <td>121.057508</td>\n",
       "      <td>14.584450</td>\n",
       "      <td>1500</td>\n",
       "      <td>1</td>\n",
       "      <td>0</td>\n",
       "      <td>0</td>\n",
       "      <td>0</td>\n",
       "      <td>4</td>\n",
       "      <td>4.8</td>\n",
       "      <td>5</td>\n",
       "      <td>229</td>\n",
       "    </tr>\n",
       "  </tbody>\n",
       "</table>\n",
       "</div>"
      ],
      "text/plain": [
       "   Country Code   Longitude   Latitude  Average Cost for two  \\\n",
       "0           162  121.027535  14.565443                  1100   \n",
       "1           162  121.014101  14.553708                  1200   \n",
       "2           162  121.056831  14.581404                  4000   \n",
       "3           162  121.056475  14.585318                  1500   \n",
       "4           162  121.057508  14.584450                  1500   \n",
       "\n",
       "   Has Table booking  Has Online delivery  Is delivering now  \\\n",
       "0                  1                    0                  0   \n",
       "1                  1                    0                  0   \n",
       "2                  1                    0                  0   \n",
       "3                  0                    0                  0   \n",
       "4                  1                    0                  0   \n",
       "\n",
       "   Switch to order menu  Price range  Aggregate rating  Rating text  Votes  \n",
       "0                     0            3               4.8            5    314  \n",
       "1                     0            3               4.5            5    591  \n",
       "2                     0            4               4.4            4    270  \n",
       "3                     0            4               4.9            5    365  \n",
       "4                     0            4               4.8            5    229  "
      ]
     },
     "execution_count": 14,
     "metadata": {},
     "output_type": "execute_result"
    }
   ],
   "source": [
    "df_num.head()"
   ]
  },
  {
   "cell_type": "code",
   "execution_count": 15,
   "id": "93decaee",
   "metadata": {
    "execution": {
     "iopub.execute_input": "2021-10-01T07:20:31.996270Z",
     "iopub.status.busy": "2021-10-01T07:20:31.989797Z",
     "iopub.status.idle": "2021-10-01T07:20:32.000287Z",
     "shell.execute_reply": "2021-10-01T07:20:31.999742Z",
     "shell.execute_reply.started": "2021-10-01T06:12:18.068639Z"
    },
    "papermill": {
     "duration": 0.05846,
     "end_time": "2021-10-01T07:20:32.000463",
     "exception": false,
     "start_time": "2021-10-01T07:20:31.942003",
     "status": "completed"
    },
    "tags": []
   },
   "outputs": [
    {
     "data": {
      "text/plain": [
       "Average      3737\n",
       "Not rated    2148\n",
       "Good         2100\n",
       "Very Good    1079\n",
       "Excellent     301\n",
       "Poor          186\n",
       "Name: Rating text, dtype: int64"
      ]
     },
     "execution_count": 15,
     "metadata": {},
     "output_type": "execute_result"
    }
   ],
   "source": [
    "df[\"Rating text\"].value_counts()"
   ]
  },
  {
   "cell_type": "code",
   "execution_count": 16,
   "id": "60e82e73",
   "metadata": {
    "execution": {
     "iopub.execute_input": "2021-10-01T07:20:32.095624Z",
     "iopub.status.busy": "2021-10-01T07:20:32.094859Z",
     "iopub.status.idle": "2021-10-01T07:20:32.171143Z",
     "shell.execute_reply": "2021-10-01T07:20:32.170411Z",
     "shell.execute_reply.started": "2021-10-01T06:13:35.782633Z"
    },
    "papermill": {
     "duration": 0.125382,
     "end_time": "2021-10-01T07:20:32.171331",
     "exception": false,
     "start_time": "2021-10-01T07:20:32.045949",
     "status": "completed"
    },
    "tags": []
   },
   "outputs": [],
   "source": [
    "# Импорт нужной функции\n",
    "from sklearn.model_selection import train_test_split\n",
    "\n",
    "# Создание X, y\n",
    "# X --- вся таблица без таргета\n",
    "# y --- таргет (целевая переменная)\n",
    "y = df_num['Aggregate rating'] \n",
    "X = df_num.drop('Aggregate rating', axis=1) \n",
    "\n",
    "# from sklearn.preprocessing import StandardScaler\n",
    "# scaler = StandardScaler()\n",
    "# X = scaler.fit_transform(X)\n",
    "\n",
    "# Разделение\n",
    "# test_size --- доля исходных данных, которую оставляем для валидации\n",
    "# random_state --- произвольное целое число, для воспроизводимости случайных результатов\n",
    "\n",
    "X_train, X_valid, y_train, y_valid = train_test_split(X, y, test_size=0.25, random_state=12)"
   ]
  },
  {
   "cell_type": "code",
   "execution_count": 17,
   "id": "ea86529e",
   "metadata": {
    "execution": {
     "iopub.execute_input": "2021-10-01T07:20:32.268614Z",
     "iopub.status.busy": "2021-10-01T07:20:32.267580Z",
     "iopub.status.idle": "2021-10-01T07:20:32.429868Z",
     "shell.execute_reply": "2021-10-01T07:20:32.429154Z",
     "shell.execute_reply.started": "2021-10-01T06:13:44.742446Z"
    },
    "papermill": {
     "duration": 0.212338,
     "end_time": "2021-10-01T07:20:32.430056",
     "exception": false,
     "start_time": "2021-10-01T07:20:32.217718",
     "status": "completed"
    },
    "tags": []
   },
   "outputs": [],
   "source": [
    "from sklearn.neighbors import KNeighborsClassifier\n",
    "knn = KNeighborsClassifier()# обучаем классификации\n"
   ]
  },
  {
   "cell_type": "code",
   "execution_count": 18,
   "id": "f32c4211",
   "metadata": {
    "execution": {
     "iopub.execute_input": "2021-10-01T07:20:32.525293Z",
     "iopub.status.busy": "2021-10-01T07:20:32.523936Z",
     "iopub.status.idle": "2021-10-01T07:20:32.648627Z",
     "shell.execute_reply": "2021-10-01T07:20:32.647751Z",
     "shell.execute_reply.started": "2021-10-01T06:18:22.147478Z"
    },
    "papermill": {
     "duration": 0.173913,
     "end_time": "2021-10-01T07:20:32.648980",
     "exception": true,
     "start_time": "2021-10-01T07:20:32.475067",
     "status": "failed"
    },
    "tags": []
   },
   "outputs": [
    {
     "ename": "ValueError",
     "evalue": "Unknown label type: 'continuous'",
     "output_type": "error",
     "traceback": [
      "\u001b[0;31m---------------------------------------------------------------------------\u001b[0m",
      "\u001b[0;31mValueError\u001b[0m                                Traceback (most recent call last)",
      "\u001b[0;32m/tmp/ipykernel_19/2091598531.py\u001b[0m in \u001b[0;36m<module>\u001b[0;34m\u001b[0m\n\u001b[1;32m      2\u001b[0m \u001b[0;31m# y_train = lab_enc.fit_transform(y_train)\u001b[0m\u001b[0;34m\u001b[0m\u001b[0;34m\u001b[0m\u001b[0;34m\u001b[0m\u001b[0m\n\u001b[1;32m      3\u001b[0m \u001b[0;31m# y_valid = lab_enc.fit_transform(y_valid)\u001b[0m\u001b[0;34m\u001b[0m\u001b[0;34m\u001b[0m\u001b[0;34m\u001b[0m\u001b[0m\n\u001b[0;32m----> 4\u001b[0;31m \u001b[0mknn\u001b[0m\u001b[0;34m.\u001b[0m\u001b[0mfit\u001b[0m\u001b[0;34m(\u001b[0m\u001b[0mX_train\u001b[0m\u001b[0;34m,\u001b[0m\u001b[0my_train\u001b[0m\u001b[0;34m)\u001b[0m\u001b[0;34m\u001b[0m\u001b[0;34m\u001b[0m\u001b[0m\n\u001b[0m",
      "\u001b[0;32m/opt/conda/lib/python3.7/site-packages/sklearn/neighbors/_base.py\u001b[0m in \u001b[0;36mfit\u001b[0;34m(self, X, y)\u001b[0m\n\u001b[1;32m   1144\u001b[0m             \u001b[0mself\u001b[0m\u001b[0;34m.\u001b[0m\u001b[0moutputs_2d_\u001b[0m \u001b[0;34m=\u001b[0m \u001b[0;32mTrue\u001b[0m\u001b[0;34m\u001b[0m\u001b[0;34m\u001b[0m\u001b[0m\n\u001b[1;32m   1145\u001b[0m \u001b[0;34m\u001b[0m\u001b[0m\n\u001b[0;32m-> 1146\u001b[0;31m         \u001b[0mcheck_classification_targets\u001b[0m\u001b[0;34m(\u001b[0m\u001b[0my\u001b[0m\u001b[0;34m)\u001b[0m\u001b[0;34m\u001b[0m\u001b[0;34m\u001b[0m\u001b[0m\n\u001b[0m\u001b[1;32m   1147\u001b[0m         \u001b[0mself\u001b[0m\u001b[0;34m.\u001b[0m\u001b[0mclasses_\u001b[0m \u001b[0;34m=\u001b[0m \u001b[0;34m[\u001b[0m\u001b[0;34m]\u001b[0m\u001b[0;34m\u001b[0m\u001b[0;34m\u001b[0m\u001b[0m\n\u001b[1;32m   1148\u001b[0m         \u001b[0mself\u001b[0m\u001b[0;34m.\u001b[0m\u001b[0m_y\u001b[0m \u001b[0;34m=\u001b[0m \u001b[0mnp\u001b[0m\u001b[0;34m.\u001b[0m\u001b[0mempty\u001b[0m\u001b[0;34m(\u001b[0m\u001b[0my\u001b[0m\u001b[0;34m.\u001b[0m\u001b[0mshape\u001b[0m\u001b[0;34m,\u001b[0m \u001b[0mdtype\u001b[0m\u001b[0;34m=\u001b[0m\u001b[0mnp\u001b[0m\u001b[0;34m.\u001b[0m\u001b[0mint\u001b[0m\u001b[0;34m)\u001b[0m\u001b[0;34m\u001b[0m\u001b[0;34m\u001b[0m\u001b[0m\n",
      "\u001b[0;32m/opt/conda/lib/python3.7/site-packages/sklearn/utils/multiclass.py\u001b[0m in \u001b[0;36mcheck_classification_targets\u001b[0;34m(y)\u001b[0m\n\u001b[1;32m    170\u001b[0m     if y_type not in ['binary', 'multiclass', 'multiclass-multioutput',\n\u001b[1;32m    171\u001b[0m                       'multilabel-indicator', 'multilabel-sequences']:\n\u001b[0;32m--> 172\u001b[0;31m         \u001b[0;32mraise\u001b[0m \u001b[0mValueError\u001b[0m\u001b[0;34m(\u001b[0m\u001b[0;34m\"Unknown label type: %r\"\u001b[0m \u001b[0;34m%\u001b[0m \u001b[0my_type\u001b[0m\u001b[0;34m)\u001b[0m\u001b[0;34m\u001b[0m\u001b[0;34m\u001b[0m\u001b[0m\n\u001b[0m\u001b[1;32m    173\u001b[0m \u001b[0;34m\u001b[0m\u001b[0m\n\u001b[1;32m    174\u001b[0m \u001b[0;34m\u001b[0m\u001b[0m\n",
      "\u001b[0;31mValueError\u001b[0m: Unknown label type: 'continuous'"
     ]
    }
   ],
   "source": [
    "# lab_enc = preprocessing.LabelEncoder()\n",
    "# y_train = lab_enc.fit_transform(y_train)\n",
    "# y_valid = lab_enc.fit_transform(y_valid)\n",
    "knn.fit(X_train,y_train)\n"
   ]
  },
  {
   "cell_type": "code",
   "execution_count": null,
   "id": "2a6db6e0",
   "metadata": {
    "execution": {
     "iopub.execute_input": "2021-10-01T06:19:52.662902Z",
     "iopub.status.busy": "2021-10-01T06:19:52.662659Z",
     "iopub.status.idle": "2021-10-01T06:19:52.749380Z",
     "shell.execute_reply": "2021-10-01T06:19:52.748632Z",
     "shell.execute_reply.started": "2021-10-01T06:19:52.662875Z"
    },
    "papermill": {
     "duration": null,
     "end_time": null,
     "exception": null,
     "start_time": null,
     "status": "pending"
    },
    "tags": []
   },
   "outputs": [],
   "source": [
    "y_pred = knn.predict(X_valid) # делаем прогноз\n"
   ]
  },
  {
   "cell_type": "code",
   "execution_count": null,
   "id": "5aaba250",
   "metadata": {
    "execution": {
     "iopub.execute_input": "2021-10-01T06:19:57.579830Z",
     "iopub.status.busy": "2021-10-01T06:19:57.579568Z",
     "iopub.status.idle": "2021-10-01T06:19:57.584906Z",
     "shell.execute_reply": "2021-10-01T06:19:57.584128Z",
     "shell.execute_reply.started": "2021-10-01T06:19:57.579803Z"
    },
    "papermill": {
     "duration": null,
     "end_time": null,
     "exception": null,
     "start_time": null,
     "status": "pending"
    },
    "tags": []
   },
   "outputs": [],
   "source": [
    "from sklearn.metrics import accuracy_score\n",
    "#knn.score(X_valid, y_valid)\n",
    "print('Качество модели:', accuracy_score(y_pred, y_valid))"
   ]
  },
  {
   "cell_type": "code",
   "execution_count": null,
   "id": "85188ce7",
   "metadata": {
    "execution": {
     "iopub.execute_input": "2021-10-01T06:12:18.241979Z",
     "iopub.status.busy": "2021-10-01T06:12:18.241579Z",
     "iopub.status.idle": "2021-10-01T06:12:18.253050Z",
     "shell.execute_reply": "2021-10-01T06:12:18.252136Z",
     "shell.execute_reply.started": "2021-10-01T06:12:18.241941Z"
    },
    "papermill": {
     "duration": null,
     "end_time": null,
     "exception": null,
     "start_time": null,
     "status": "pending"
    },
    "tags": []
   },
   "outputs": [],
   "source": [
    "from sklearn.metrics import accuracy_score, confusion_matrix\n",
    "print(confusion_matrix(y_pred,y_valid))#Матрица ошибок \n",
    "print(accuracy_score(y_pred,y_valid))"
   ]
  },
  {
   "cell_type": "markdown",
   "id": "69cc7fee",
   "metadata": {
    "papermill": {
     "duration": null,
     "end_time": null,
     "exception": null,
     "start_time": null,
     "status": "pending"
    },
    "tags": []
   },
   "source": [
    "# Настройка оптимального числа ближайших соседей в методе kNN "
   ]
  },
  {
   "cell_type": "markdown",
   "id": "d57956a7",
   "metadata": {
    "papermill": {
     "duration": null,
     "end_time": null,
     "exception": null,
     "start_time": null,
     "status": "pending"
    },
    "tags": []
   },
   "source": [
    "**1. Создайте генератор разбиений, который перемешивает выборку перед создани ем блоков ( shuffle=True ). Число блоков n_splits равно 5. Задайте также параметр random_state для воспроизводимости результатов.Найдите показатель качества модели kNN на кросс-валидации. Подумайте, при емлемо ли использование вашей меры (метрики) качества в данной задаче? При необходимости пересчитайте качество с помощью другой метрики из списка.**\n"
   ]
  },
  {
   "cell_type": "code",
   "execution_count": null,
   "id": "9354f752",
   "metadata": {
    "execution": {
     "iopub.execute_input": "2021-10-01T06:24:01.689462Z",
     "iopub.status.busy": "2021-10-01T06:24:01.689139Z",
     "iopub.status.idle": "2021-10-01T06:24:02.106755Z",
     "shell.execute_reply": "2021-10-01T06:24:02.106007Z",
     "shell.execute_reply.started": "2021-10-01T06:24:01.689429Z"
    },
    "papermill": {
     "duration": null,
     "end_time": null,
     "exception": null,
     "start_time": null,
     "status": "pending"
    },
    "tags": []
   },
   "outputs": [],
   "source": [
    "from sklearn.model_selection import KFold\n",
    "from sklearn.model_selection import cross_val_score\n",
    "from sklearn.preprocessing import StandardScaler\n",
    "\n",
    "kf = KFold(n_splits=5, shuffle=True, random_state=42)\n",
    "lab_enc = preprocessing.LabelEncoder()\n",
    "#X = lab_enc.fit_transform(X)\n",
    "y = lab_enc.fit_transform(y)\n",
    "scores = cross_val_score(knn, X, y, cv=kf, scoring='accuracy')\n",
    "print('Массив значений метрики:', scores)"
   ]
  },
  {
   "cell_type": "markdown",
   "id": "7ae88334",
   "metadata": {
    "papermill": {
     "duration": null,
     "end_time": null,
     "exception": null,
     "start_time": null,
     "status": "pending"
    },
    "tags": []
   },
   "source": [
    "**2. Осуществите кросс-валидацию модели при числе соседей k ∈ [1;50]. Используй те GridSearchCV . При каком k качество получилось наилучшим? Чему равна эта оценка качества? Постройте график значений метрики в зависимости от k ( matplotlib.pyplot.plot() ).**\n"
   ]
  },
  {
   "cell_type": "code",
   "execution_count": null,
   "id": "0ad7ea99",
   "metadata": {
    "execution": {
     "iopub.execute_input": "2021-10-01T06:37:48.942326Z",
     "iopub.status.busy": "2021-10-01T06:37:48.941507Z",
     "iopub.status.idle": "2021-10-01T06:38:06.816968Z",
     "shell.execute_reply": "2021-10-01T06:38:06.816304Z",
     "shell.execute_reply.started": "2021-10-01T06:37:48.942281Z"
    },
    "papermill": {
     "duration": null,
     "end_time": null,
     "exception": null,
     "start_time": null,
     "status": "pending"
    },
    "tags": []
   },
   "outputs": [],
   "source": [
    "from sklearn.model_selection import GridSearchCV\n",
    "\n",
    "knn_params={'n_neighbors': np.arange(1, 50)}\n",
    "knn_grid = GridSearchCV(knn,knn_params, scoring = 'accuracy', cv=kf)\n",
    "knn_grid.fit(X_train, y_train)"
   ]
  },
  {
   "cell_type": "code",
   "execution_count": null,
   "id": "4b97c915",
   "metadata": {
    "execution": {
     "iopub.execute_input": "2021-10-01T06:38:20.106192Z",
     "iopub.status.busy": "2021-10-01T06:38:20.105790Z",
     "iopub.status.idle": "2021-10-01T06:38:20.112487Z",
     "shell.execute_reply": "2021-10-01T06:38:20.111470Z",
     "shell.execute_reply.started": "2021-10-01T06:38:20.106144Z"
    },
    "papermill": {
     "duration": null,
     "end_time": null,
     "exception": null,
     "start_time": null,
     "status": "pending"
    },
    "tags": []
   },
   "outputs": [],
   "source": [
    "knn_grid.best_estimator_ # При количестве соседей равном 1 модель показала лучшие результаты"
   ]
  },
  {
   "cell_type": "code",
   "execution_count": null,
   "id": "d9560b9f",
   "metadata": {
    "execution": {
     "iopub.execute_input": "2021-10-01T06:38:24.845343Z",
     "iopub.status.busy": "2021-10-01T06:38:24.845072Z",
     "iopub.status.idle": "2021-10-01T06:38:24.851376Z",
     "shell.execute_reply": "2021-10-01T06:38:24.850186Z",
     "shell.execute_reply.started": "2021-10-01T06:38:24.845316Z"
    },
    "papermill": {
     "duration": null,
     "end_time": null,
     "exception": null,
     "start_time": null,
     "status": "pending"
    },
    "tags": []
   },
   "outputs": [],
   "source": [
    "knn_grid.best_params_ "
   ]
  },
  {
   "cell_type": "code",
   "execution_count": null,
   "id": "d74f2dff",
   "metadata": {
    "execution": {
     "iopub.execute_input": "2021-10-01T06:38:28.358507Z",
     "iopub.status.busy": "2021-10-01T06:38:28.357870Z",
     "iopub.status.idle": "2021-10-01T06:38:28.363621Z",
     "shell.execute_reply": "2021-10-01T06:38:28.362963Z",
     "shell.execute_reply.started": "2021-10-01T06:38:28.358471Z"
    },
    "papermill": {
     "duration": null,
     "end_time": null,
     "exception": null,
     "start_time": null,
     "status": "pending"
    },
    "tags": []
   },
   "outputs": [],
   "source": [
    "knn_grid.best_score_"
   ]
  },
  {
   "cell_type": "code",
   "execution_count": null,
   "id": "4c3a74e8",
   "metadata": {
    "execution": {
     "iopub.execute_input": "2021-10-01T06:38:31.952646Z",
     "iopub.status.busy": "2021-10-01T06:38:31.951883Z",
     "iopub.status.idle": "2021-10-01T06:38:31.998949Z",
     "shell.execute_reply": "2021-10-01T06:38:31.998255Z",
     "shell.execute_reply.started": "2021-10-01T06:38:31.952592Z"
    },
    "papermill": {
     "duration": null,
     "end_time": null,
     "exception": null,
     "start_time": null,
     "status": "pending"
    },
    "tags": []
   },
   "outputs": [],
   "source": [
    "pd.DataFrame(knn_grid.cv_results_)"
   ]
  },
  {
   "cell_type": "code",
   "execution_count": null,
   "id": "1e4cdf55",
   "metadata": {
    "execution": {
     "iopub.execute_input": "2021-10-01T06:39:28.260941Z",
     "iopub.status.busy": "2021-10-01T06:39:28.260590Z",
     "iopub.status.idle": "2021-10-01T06:39:28.517955Z",
     "shell.execute_reply": "2021-10-01T06:39:28.517195Z",
     "shell.execute_reply.started": "2021-10-01T06:39:28.260912Z"
    },
    "papermill": {
     "duration": null,
     "end_time": null,
     "exception": null,
     "start_time": null,
     "status": "pending"
    },
    "tags": []
   },
   "outputs": [],
   "source": [
    "import matplotlib.pyplot as plt #Валидационная кривая\n",
    "\n",
    "results_df = pd.DataFrame(knn_grid.cv_results_)\n",
    "plt.plot(results_df['param_n_neighbors'], results_df['mean_test_score'])\n",
    "\n",
    "plt.xlabel('Number of neighbors')\n",
    "plt.ylabel('Test accuracy')\n",
    "plt.title('Валидационная кривая')\n",
    "plt.show()"
   ]
  },
  {
   "cell_type": "markdown",
   "id": "0b986ed7",
   "metadata": {
    "papermill": {
     "duration": null,
     "end_time": null,
     "exception": null,
     "start_time": null,
     "status": "pending"
    },
    "tags": []
   },
   "source": [
    "# Выбор метрики в методе kNN "
   ]
  },
  {
   "cell_type": "markdown",
   "id": "f428a3a8",
   "metadata": {
    "papermill": {
     "duration": null,
     "end_time": null,
     "exception": null,
     "start_time": null,
     "status": "pending"
    },
    "tags": []
   },
   "source": [
    "**1.Переберите разные варианты значений параметра p по сетке от 1 до 10 с та ким шагом, чтобы всего было протестировано 200 вариантов (удобно использо вать функцию numpy.linspace ). Используйте KNeighborsClassifier или \n",
    "KNeighborsRegressor с оптимальным значением n_neighbors , найденным ранее. Задайте опцию weights='distance' –– данный параметр добавляет в алгоритм веса, зависящие от расстояния до ближайших соседей. В качестве метрики качества снова используйте accuracy . Качество оценивайте с помо щью кросс-валидации по 5 блокам.**"
   ]
  },
  {
   "cell_type": "code",
   "execution_count": null,
   "id": "6ad415d1",
   "metadata": {
    "collapsed": true,
    "execution": {
     "iopub.execute_input": "2021-10-01T06:41:35.643072Z",
     "iopub.status.busy": "2021-10-01T06:41:35.642770Z",
     "iopub.status.idle": "2021-10-01T06:43:12.328540Z",
     "shell.execute_reply": "2021-10-01T06:43:12.327747Z",
     "shell.execute_reply.started": "2021-10-01T06:41:35.643039Z"
    },
    "jupyter": {
     "outputs_hidden": true
    },
    "papermill": {
     "duration": null,
     "end_time": null,
     "exception": null,
     "start_time": null,
     "status": "pending"
    },
    "tags": []
   },
   "outputs": [],
   "source": [
    "p_params = {'p': np.linspace(1,10,200)}\n",
    "knn = KNeighborsClassifier(n_neighbors=1, weights = 'distance', n_jobs = -1)\n",
    "cv = GridSearchCV(knn, p_params, cv = kf, scoring='accuracy', verbose = 100)\n",
    "cv.fit(X,y)"
   ]
  },
  {
   "cell_type": "code",
   "execution_count": null,
   "id": "a8a26c7c",
   "metadata": {
    "execution": {
     "iopub.execute_input": "2021-10-01T06:43:39.055597Z",
     "iopub.status.busy": "2021-10-01T06:43:39.055321Z",
     "iopub.status.idle": "2021-10-01T06:43:39.313694Z",
     "shell.execute_reply": "2021-10-01T06:43:39.313004Z",
     "shell.execute_reply.started": "2021-10-01T06:43:39.055567Z"
    },
    "papermill": {
     "duration": null,
     "end_time": null,
     "exception": null,
     "start_time": null,
     "status": "pending"
    },
    "tags": []
   },
   "outputs": [],
   "source": [
    "cv_result = pd.DataFrame(cv.cv_results_)\n",
    "plt.plot(cv_result[\"param_p\"],cv_result[\"mean_test_score\"])"
   ]
  },
  {
   "cell_type": "markdown",
   "id": "b4f49e95",
   "metadata": {
    "papermill": {
     "duration": null,
     "end_time": null,
     "exception": null,
     "start_time": null,
     "status": "pending"
    },
    "tags": []
   },
   "source": [
    "**2. Определите, при каком p качество на кросс-валидации оказалось оптимальным. Обратите внимание, что cross_val_score возвращает массив показателей качества по блокам; необходимо максимизировать среднее этих показателей.**\n"
   ]
  },
  {
   "cell_type": "code",
   "execution_count": null,
   "id": "8a706995",
   "metadata": {
    "execution": {
     "iopub.execute_input": "2021-10-01T06:44:00.720479Z",
     "iopub.status.busy": "2021-10-01T06:44:00.720190Z",
     "iopub.status.idle": "2021-10-01T06:44:00.725715Z",
     "shell.execute_reply": "2021-10-01T06:44:00.725180Z",
     "shell.execute_reply.started": "2021-10-01T06:44:00.720449Z"
    },
    "papermill": {
     "duration": null,
     "end_time": null,
     "exception": null,
     "start_time": null,
     "status": "pending"
    },
    "tags": []
   },
   "outputs": [],
   "source": [
    "cv.best_estimator_"
   ]
  },
  {
   "cell_type": "code",
   "execution_count": null,
   "id": "9a44d645",
   "metadata": {
    "execution": {
     "iopub.execute_input": "2021-10-01T06:44:07.518715Z",
     "iopub.status.busy": "2021-10-01T06:44:07.517880Z",
     "iopub.status.idle": "2021-10-01T06:44:07.524478Z",
     "shell.execute_reply": "2021-10-01T06:44:07.523931Z",
     "shell.execute_reply.started": "2021-10-01T06:44:07.518660Z"
    },
    "papermill": {
     "duration": null,
     "end_time": null,
     "exception": null,
     "start_time": null,
     "status": "pending"
    },
    "tags": []
   },
   "outputs": [],
   "source": [
    "cv.best_score_"
   ]
  },
  {
   "cell_type": "code",
   "execution_count": null,
   "id": "4c818caa",
   "metadata": {
    "execution": {
     "iopub.execute_input": "2021-10-01T06:44:18.892518Z",
     "iopub.status.busy": "2021-10-01T06:44:18.891598Z",
     "iopub.status.idle": "2021-10-01T06:44:18.898832Z",
     "shell.execute_reply": "2021-10-01T06:44:18.898059Z",
     "shell.execute_reply.started": "2021-10-01T06:44:18.892467Z"
    },
    "papermill": {
     "duration": null,
     "end_time": null,
     "exception": null,
     "start_time": null,
     "status": "pending"
    },
    "tags": []
   },
   "outputs": [],
   "source": [
    "cv.best_params_"
   ]
  },
  {
   "cell_type": "markdown",
   "id": "1c50fef2",
   "metadata": {
    "papermill": {
     "duration": null,
     "end_time": null,
     "exception": null,
     "start_time": null,
     "status": "pending"
    },
    "tags": []
   },
   "source": [
    "# Другие метрические методы "
   ]
  },
  {
   "cell_type": "markdown",
   "id": "1bc4947c",
   "metadata": {
    "papermill": {
     "duration": null,
     "end_time": null,
     "exception": null,
     "start_time": null,
     "status": "pending"
    },
    "tags": []
   },
   "source": [
    "**Поэкспериментируйте с другими метрическими методами для задач регрессии и классификации, представленными в библиотеке Scikit-learn:**\n",
    "1. RadiusNeighborsClassifier\n",
    "2. RadiusNeighborsRegressor\n",
    "3. NearestCentroid."
   ]
  },
  {
   "cell_type": "code",
   "execution_count": null,
   "id": "7bc3fa5b",
   "metadata": {
    "execution": {
     "iopub.execute_input": "2021-10-01T06:59:40.794439Z",
     "iopub.status.busy": "2021-10-01T06:59:40.794170Z",
     "iopub.status.idle": "2021-10-01T06:59:40.890211Z",
     "shell.execute_reply": "2021-10-01T06:59:40.889335Z",
     "shell.execute_reply.started": "2021-10-01T06:59:40.794413Z"
    },
    "papermill": {
     "duration": null,
     "end_time": null,
     "exception": null,
     "start_time": null,
     "status": "pending"
    },
    "tags": []
   },
   "outputs": [],
   "source": [
    "from sklearn.neighbors import RadiusNeighborsClassifier\n",
    "rnc = RadiusNeighborsClassifier(radius=10)\n",
    "rnc.fit(X, y)\n",
    "y_pred = rnc.predict(X_valid)\n",
    "accuracy_score(y_valid, y_pred)"
   ]
  },
  {
   "cell_type": "code",
   "execution_count": null,
   "id": "f66c05b9",
   "metadata": {
    "execution": {
     "iopub.execute_input": "2021-10-01T07:00:22.102960Z",
     "iopub.status.busy": "2021-10-01T07:00:22.102159Z",
     "iopub.status.idle": "2021-10-01T07:00:22.123127Z",
     "shell.execute_reply": "2021-10-01T07:00:22.122336Z",
     "shell.execute_reply.started": "2021-10-01T07:00:22.102918Z"
    },
    "papermill": {
     "duration": null,
     "end_time": null,
     "exception": null,
     "start_time": null,
     "status": "pending"
    },
    "tags": []
   },
   "outputs": [],
   "source": [
    "from sklearn.neighbors import NearestCentroid\n",
    "nc = NearestCentroid()\n",
    "nc.fit(X_train, y_train)\n",
    "y_pred = nc.predict(X_valid)\n",
    "accuracy_score(y_valid, y_pred)"
   ]
  }
 ],
 "metadata": {
  "kernelspec": {
   "display_name": "Python 3",
   "language": "python",
   "name": "python3"
  },
  "language_info": {
   "codemirror_mode": {
    "name": "ipython",
    "version": 3
   },
   "file_extension": ".py",
   "mimetype": "text/x-python",
   "name": "python",
   "nbconvert_exporter": "python",
   "pygments_lexer": "ipython3",
   "version": "3.7.10"
  },
  "papermill": {
   "default_parameters": {},
   "duration": 14.804851,
   "end_time": "2021-10-01T07:20:33.707926",
   "environment_variables": {},
   "exception": true,
   "input_path": "__notebook__.ipynb",
   "output_path": "__notebook__.ipynb",
   "parameters": {},
   "start_time": "2021-10-01T07:20:18.903075",
   "version": "2.3.3"
  }
 },
 "nbformat": 4,
 "nbformat_minor": 5
}
