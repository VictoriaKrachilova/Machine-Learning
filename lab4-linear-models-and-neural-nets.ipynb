{
 "cells": [
  {
   "cell_type": "code",
   "execution_count": 1,
   "id": "cf4aac6a",
   "metadata": {
    "_cell_guid": "b1076dfc-b9ad-4769-8c92-a6c4dae69d19",
    "_uuid": "8f2839f25d086af736a60e9eeb907d3b93b6e0e5",
    "execution": {
     "iopub.execute_input": "2021-11-19T08:27:03.241199Z",
     "iopub.status.busy": "2021-11-19T08:27:03.240031Z",
     "iopub.status.idle": "2021-11-19T08:27:03.276988Z",
     "shell.execute_reply": "2021-11-19T08:27:03.277840Z",
     "shell.execute_reply.started": "2021-11-19T08:22:03.916196Z"
    },
    "papermill": {
     "duration": 0.082398,
     "end_time": "2021-11-19T08:27:03.278342",
     "exception": false,
     "start_time": "2021-11-19T08:27:03.195944",
     "status": "completed"
    },
    "tags": []
   },
   "outputs": [
    {
     "name": "stdout",
     "output_type": "stream",
     "text": [
      "/kaggle/input/zomato-restaurants-data/zomato.csv\n",
      "/kaggle/input/zomato-restaurants-data/file5.json\n",
      "/kaggle/input/zomato-restaurants-data/file1.json\n",
      "/kaggle/input/zomato-restaurants-data/file2.json\n",
      "/kaggle/input/zomato-restaurants-data/file4.json\n",
      "/kaggle/input/zomato-restaurants-data/file3.json\n",
      "/kaggle/input/zomato-restaurants-data/Country-Code.xlsx\n"
     ]
    }
   ],
   "source": [
    "# This Python 3 environment comes with many helpful analytics libraries installed\n",
    "# It is defined by the kaggle/python Docker image: https://github.com/kaggle/docker-python\n",
    "# For example, here's several helpful packages to load\n",
    "\n",
    "import numpy as np # linear algebra\n",
    "import pandas as pd # data processing, CSV file I/O (e.g. pd.read_csv)\n",
    "\n",
    "# Input data files are available in the read-only \"../input/\" directory\n",
    "# For example, running this (by clicking run or pressing Shift+Enter) will list all files under the input directory\n",
    "\n",
    "import os\n",
    "for dirname, _, filenames in os.walk('/kaggle/input'):\n",
    "    for filename in filenames:\n",
    "        print(os.path.join(dirname, filename))\n",
    "\n",
    "# You can write up to 20GB to the current directory (/kaggle/working/) that gets preserved as output when you create a version using \"Save & Run All\" \n",
    "# You can also write temporary files to /kaggle/temp/, but they won't be saved outside of the current session"
   ]
  },
  {
   "cell_type": "code",
   "execution_count": 2,
   "id": "67ada244",
   "metadata": {
    "execution": {
     "iopub.execute_input": "2021-11-19T08:27:03.381048Z",
     "iopub.status.busy": "2021-11-19T08:27:03.379984Z",
     "iopub.status.idle": "2021-11-19T08:27:04.497953Z",
     "shell.execute_reply": "2021-11-19T08:27:04.497336Z",
     "shell.execute_reply.started": "2021-11-19T08:22:03.931200Z"
    },
    "papermill": {
     "duration": 1.169887,
     "end_time": "2021-11-19T08:27:04.498125",
     "exception": false,
     "start_time": "2021-11-19T08:27:03.328238",
     "status": "completed"
    },
    "tags": []
   },
   "outputs": [],
   "source": [
    "import numpy as np\n",
    "import pandas as pd\n",
    "import matplotlib.pyplot as plt\n",
    "import seaborn as sns\n",
    "from sklearn import preprocessing"
   ]
  },
  {
   "cell_type": "code",
   "execution_count": 3,
   "id": "01eda772",
   "metadata": {
    "execution": {
     "iopub.execute_input": "2021-11-19T08:27:04.583876Z",
     "iopub.status.busy": "2021-11-19T08:27:04.583076Z",
     "iopub.status.idle": "2021-11-19T08:27:04.762177Z",
     "shell.execute_reply": "2021-11-19T08:27:04.762823Z",
     "shell.execute_reply.started": "2021-11-19T08:22:03.953206Z"
    },
    "papermill": {
     "duration": 0.225827,
     "end_time": "2021-11-19T08:27:04.763042",
     "exception": false,
     "start_time": "2021-11-19T08:27:04.537215",
     "status": "completed"
    },
    "tags": []
   },
   "outputs": [
    {
     "data": {
      "text/html": [
       "<div>\n",
       "<style scoped>\n",
       "    .dataframe tbody tr th:only-of-type {\n",
       "        vertical-align: middle;\n",
       "    }\n",
       "\n",
       "    .dataframe tbody tr th {\n",
       "        vertical-align: top;\n",
       "    }\n",
       "\n",
       "    .dataframe thead th {\n",
       "        text-align: right;\n",
       "    }\n",
       "</style>\n",
       "<table border=\"1\" class=\"dataframe\">\n",
       "  <thead>\n",
       "    <tr style=\"text-align: right;\">\n",
       "      <th></th>\n",
       "      <th>Restaurant ID</th>\n",
       "      <th>Restaurant Name</th>\n",
       "      <th>Country Code</th>\n",
       "      <th>City</th>\n",
       "      <th>Address</th>\n",
       "      <th>Locality</th>\n",
       "      <th>Locality Verbose</th>\n",
       "      <th>Longitude</th>\n",
       "      <th>Latitude</th>\n",
       "      <th>Cuisines</th>\n",
       "      <th>...</th>\n",
       "      <th>Currency</th>\n",
       "      <th>Has Table booking</th>\n",
       "      <th>Has Online delivery</th>\n",
       "      <th>Is delivering now</th>\n",
       "      <th>Switch to order menu</th>\n",
       "      <th>Price range</th>\n",
       "      <th>Aggregate rating</th>\n",
       "      <th>Rating color</th>\n",
       "      <th>Rating text</th>\n",
       "      <th>Votes</th>\n",
       "    </tr>\n",
       "  </thead>\n",
       "  <tbody>\n",
       "    <tr>\n",
       "      <th>0</th>\n",
       "      <td>6317637</td>\n",
       "      <td>Le Petit Souffle</td>\n",
       "      <td>162</td>\n",
       "      <td>Makati City</td>\n",
       "      <td>Third Floor, Century City Mall, Kalayaan Avenu...</td>\n",
       "      <td>Century City Mall, Poblacion, Makati City</td>\n",
       "      <td>Century City Mall, Poblacion, Makati City, Mak...</td>\n",
       "      <td>121.027535</td>\n",
       "      <td>14.565443</td>\n",
       "      <td>French, Japanese, Desserts</td>\n",
       "      <td>...</td>\n",
       "      <td>Botswana Pula(P)</td>\n",
       "      <td>Yes</td>\n",
       "      <td>No</td>\n",
       "      <td>No</td>\n",
       "      <td>No</td>\n",
       "      <td>3</td>\n",
       "      <td>4.8</td>\n",
       "      <td>Dark Green</td>\n",
       "      <td>Excellent</td>\n",
       "      <td>314</td>\n",
       "    </tr>\n",
       "    <tr>\n",
       "      <th>1</th>\n",
       "      <td>6304287</td>\n",
       "      <td>Izakaya Kikufuji</td>\n",
       "      <td>162</td>\n",
       "      <td>Makati City</td>\n",
       "      <td>Little Tokyo, 2277 Chino Roces Avenue, Legaspi...</td>\n",
       "      <td>Little Tokyo, Legaspi Village, Makati City</td>\n",
       "      <td>Little Tokyo, Legaspi Village, Makati City, Ma...</td>\n",
       "      <td>121.014101</td>\n",
       "      <td>14.553708</td>\n",
       "      <td>Japanese</td>\n",
       "      <td>...</td>\n",
       "      <td>Botswana Pula(P)</td>\n",
       "      <td>Yes</td>\n",
       "      <td>No</td>\n",
       "      <td>No</td>\n",
       "      <td>No</td>\n",
       "      <td>3</td>\n",
       "      <td>4.5</td>\n",
       "      <td>Dark Green</td>\n",
       "      <td>Excellent</td>\n",
       "      <td>591</td>\n",
       "    </tr>\n",
       "    <tr>\n",
       "      <th>2</th>\n",
       "      <td>6300002</td>\n",
       "      <td>Heat - Edsa Shangri-La</td>\n",
       "      <td>162</td>\n",
       "      <td>Mandaluyong City</td>\n",
       "      <td>Edsa Shangri-La, 1 Garden Way, Ortigas, Mandal...</td>\n",
       "      <td>Edsa Shangri-La, Ortigas, Mandaluyong City</td>\n",
       "      <td>Edsa Shangri-La, Ortigas, Mandaluyong City, Ma...</td>\n",
       "      <td>121.056831</td>\n",
       "      <td>14.581404</td>\n",
       "      <td>Seafood, Asian, Filipino, Indian</td>\n",
       "      <td>...</td>\n",
       "      <td>Botswana Pula(P)</td>\n",
       "      <td>Yes</td>\n",
       "      <td>No</td>\n",
       "      <td>No</td>\n",
       "      <td>No</td>\n",
       "      <td>4</td>\n",
       "      <td>4.4</td>\n",
       "      <td>Green</td>\n",
       "      <td>Very Good</td>\n",
       "      <td>270</td>\n",
       "    </tr>\n",
       "    <tr>\n",
       "      <th>3</th>\n",
       "      <td>6318506</td>\n",
       "      <td>Ooma</td>\n",
       "      <td>162</td>\n",
       "      <td>Mandaluyong City</td>\n",
       "      <td>Third Floor, Mega Fashion Hall, SM Megamall, O...</td>\n",
       "      <td>SM Megamall, Ortigas, Mandaluyong City</td>\n",
       "      <td>SM Megamall, Ortigas, Mandaluyong City, Mandal...</td>\n",
       "      <td>121.056475</td>\n",
       "      <td>14.585318</td>\n",
       "      <td>Japanese, Sushi</td>\n",
       "      <td>...</td>\n",
       "      <td>Botswana Pula(P)</td>\n",
       "      <td>No</td>\n",
       "      <td>No</td>\n",
       "      <td>No</td>\n",
       "      <td>No</td>\n",
       "      <td>4</td>\n",
       "      <td>4.9</td>\n",
       "      <td>Dark Green</td>\n",
       "      <td>Excellent</td>\n",
       "      <td>365</td>\n",
       "    </tr>\n",
       "    <tr>\n",
       "      <th>4</th>\n",
       "      <td>6314302</td>\n",
       "      <td>Sambo Kojin</td>\n",
       "      <td>162</td>\n",
       "      <td>Mandaluyong City</td>\n",
       "      <td>Third Floor, Mega Atrium, SM Megamall, Ortigas...</td>\n",
       "      <td>SM Megamall, Ortigas, Mandaluyong City</td>\n",
       "      <td>SM Megamall, Ortigas, Mandaluyong City, Mandal...</td>\n",
       "      <td>121.057508</td>\n",
       "      <td>14.584450</td>\n",
       "      <td>Japanese, Korean</td>\n",
       "      <td>...</td>\n",
       "      <td>Botswana Pula(P)</td>\n",
       "      <td>Yes</td>\n",
       "      <td>No</td>\n",
       "      <td>No</td>\n",
       "      <td>No</td>\n",
       "      <td>4</td>\n",
       "      <td>4.8</td>\n",
       "      <td>Dark Green</td>\n",
       "      <td>Excellent</td>\n",
       "      <td>229</td>\n",
       "    </tr>\n",
       "  </tbody>\n",
       "</table>\n",
       "<p>5 rows × 21 columns</p>\n",
       "</div>"
      ],
      "text/plain": [
       "   Restaurant ID         Restaurant Name  Country Code              City  \\\n",
       "0        6317637        Le Petit Souffle           162       Makati City   \n",
       "1        6304287        Izakaya Kikufuji           162       Makati City   \n",
       "2        6300002  Heat - Edsa Shangri-La           162  Mandaluyong City   \n",
       "3        6318506                    Ooma           162  Mandaluyong City   \n",
       "4        6314302             Sambo Kojin           162  Mandaluyong City   \n",
       "\n",
       "                                             Address  \\\n",
       "0  Third Floor, Century City Mall, Kalayaan Avenu...   \n",
       "1  Little Tokyo, 2277 Chino Roces Avenue, Legaspi...   \n",
       "2  Edsa Shangri-La, 1 Garden Way, Ortigas, Mandal...   \n",
       "3  Third Floor, Mega Fashion Hall, SM Megamall, O...   \n",
       "4  Third Floor, Mega Atrium, SM Megamall, Ortigas...   \n",
       "\n",
       "                                     Locality  \\\n",
       "0   Century City Mall, Poblacion, Makati City   \n",
       "1  Little Tokyo, Legaspi Village, Makati City   \n",
       "2  Edsa Shangri-La, Ortigas, Mandaluyong City   \n",
       "3      SM Megamall, Ortigas, Mandaluyong City   \n",
       "4      SM Megamall, Ortigas, Mandaluyong City   \n",
       "\n",
       "                                    Locality Verbose   Longitude   Latitude  \\\n",
       "0  Century City Mall, Poblacion, Makati City, Mak...  121.027535  14.565443   \n",
       "1  Little Tokyo, Legaspi Village, Makati City, Ma...  121.014101  14.553708   \n",
       "2  Edsa Shangri-La, Ortigas, Mandaluyong City, Ma...  121.056831  14.581404   \n",
       "3  SM Megamall, Ortigas, Mandaluyong City, Mandal...  121.056475  14.585318   \n",
       "4  SM Megamall, Ortigas, Mandaluyong City, Mandal...  121.057508  14.584450   \n",
       "\n",
       "                           Cuisines  ...          Currency Has Table booking  \\\n",
       "0        French, Japanese, Desserts  ...  Botswana Pula(P)               Yes   \n",
       "1                          Japanese  ...  Botswana Pula(P)               Yes   \n",
       "2  Seafood, Asian, Filipino, Indian  ...  Botswana Pula(P)               Yes   \n",
       "3                   Japanese, Sushi  ...  Botswana Pula(P)                No   \n",
       "4                  Japanese, Korean  ...  Botswana Pula(P)               Yes   \n",
       "\n",
       "  Has Online delivery Is delivering now Switch to order menu Price range  \\\n",
       "0                  No                No                   No           3   \n",
       "1                  No                No                   No           3   \n",
       "2                  No                No                   No           4   \n",
       "3                  No                No                   No           4   \n",
       "4                  No                No                   No           4   \n",
       "\n",
       "   Aggregate rating  Rating color Rating text Votes  \n",
       "0               4.8    Dark Green   Excellent   314  \n",
       "1               4.5    Dark Green   Excellent   591  \n",
       "2               4.4         Green   Very Good   270  \n",
       "3               4.9    Dark Green   Excellent   365  \n",
       "4               4.8    Dark Green   Excellent   229  \n",
       "\n",
       "[5 rows x 21 columns]"
      ]
     },
     "execution_count": 3,
     "metadata": {},
     "output_type": "execute_result"
    }
   ],
   "source": [
    "df = pd.read_csv(\"../input/zomato-restaurants-data/zomato.csv\", encoding = \"ISO-8859-1\")\n",
    "df.head()"
   ]
  },
  {
   "cell_type": "markdown",
   "id": "b7e98162",
   "metadata": {
    "papermill": {
     "duration": 0.041304,
     "end_time": "2021-11-19T08:27:04.846699",
     "exception": false,
     "start_time": "2021-11-19T08:27:04.805395",
     "status": "completed"
    },
    "tags": []
   },
   "source": [
    " 1. Построить линейную модель (линейная регрессия, логистическая регрессия, SVM), настроить её гиперпараметры, сделать выводы."
   ]
  },
  {
   "cell_type": "markdown",
   "id": "13c2e0f9",
   "metadata": {
    "papermill": {
     "duration": 0.0406,
     "end_time": "2021-11-19T08:27:04.930712",
     "exception": false,
     "start_time": "2021-11-19T08:27:04.890112",
     "status": "completed"
    },
    "tags": []
   },
   "source": [
    "# Linear regression"
   ]
  },
  {
   "cell_type": "markdown",
   "id": "b02b22a1",
   "metadata": {
    "papermill": {
     "duration": 0.040659,
     "end_time": "2021-11-19T08:27:05.011985",
     "exception": false,
     "start_time": "2021-11-19T08:27:04.971326",
     "status": "completed"
    },
    "tags": []
   },
   "source": [
    "Целевая переменная - 'Aggregate rating'. Цель: спрогнозировать рейтинг ресторанов на основе имеющихся признаков."
   ]
  },
  {
   "cell_type": "code",
   "execution_count": 4,
   "id": "5b87e5ee",
   "metadata": {
    "execution": {
     "iopub.execute_input": "2021-11-19T08:27:05.099527Z",
     "iopub.status.busy": "2021-11-19T08:27:05.098403Z",
     "iopub.status.idle": "2021-11-19T08:27:05.140359Z",
     "shell.execute_reply": "2021-11-19T08:27:05.140995Z",
     "shell.execute_reply.started": "2021-11-19T08:22:04.036467Z"
    },
    "papermill": {
     "duration": 0.087008,
     "end_time": "2021-11-19T08:27:05.141201",
     "exception": false,
     "start_time": "2021-11-19T08:27:05.054193",
     "status": "completed"
    },
    "tags": []
   },
   "outputs": [
    {
     "data": {
      "text/html": [
       "<div>\n",
       "<style scoped>\n",
       "    .dataframe tbody tr th:only-of-type {\n",
       "        vertical-align: middle;\n",
       "    }\n",
       "\n",
       "    .dataframe tbody tr th {\n",
       "        vertical-align: top;\n",
       "    }\n",
       "\n",
       "    .dataframe thead th {\n",
       "        text-align: right;\n",
       "    }\n",
       "</style>\n",
       "<table border=\"1\" class=\"dataframe\">\n",
       "  <thead>\n",
       "    <tr style=\"text-align: right;\">\n",
       "      <th></th>\n",
       "      <th>Country Code</th>\n",
       "      <th>Longitude</th>\n",
       "      <th>Latitude</th>\n",
       "      <th>Average Cost for two</th>\n",
       "      <th>Has Table booking</th>\n",
       "      <th>Has Online delivery</th>\n",
       "      <th>Is delivering now</th>\n",
       "      <th>Switch to order menu</th>\n",
       "      <th>Price range</th>\n",
       "      <th>Aggregate rating</th>\n",
       "      <th>Rating text</th>\n",
       "      <th>Votes</th>\n",
       "    </tr>\n",
       "  </thead>\n",
       "  <tbody>\n",
       "    <tr>\n",
       "      <th>0</th>\n",
       "      <td>162</td>\n",
       "      <td>121.027535</td>\n",
       "      <td>14.565443</td>\n",
       "      <td>1100</td>\n",
       "      <td>1</td>\n",
       "      <td>0</td>\n",
       "      <td>0</td>\n",
       "      <td>0</td>\n",
       "      <td>3</td>\n",
       "      <td>4.8</td>\n",
       "      <td>5</td>\n",
       "      <td>314</td>\n",
       "    </tr>\n",
       "    <tr>\n",
       "      <th>1</th>\n",
       "      <td>162</td>\n",
       "      <td>121.014101</td>\n",
       "      <td>14.553708</td>\n",
       "      <td>1200</td>\n",
       "      <td>1</td>\n",
       "      <td>0</td>\n",
       "      <td>0</td>\n",
       "      <td>0</td>\n",
       "      <td>3</td>\n",
       "      <td>4.5</td>\n",
       "      <td>5</td>\n",
       "      <td>591</td>\n",
       "    </tr>\n",
       "    <tr>\n",
       "      <th>2</th>\n",
       "      <td>162</td>\n",
       "      <td>121.056831</td>\n",
       "      <td>14.581404</td>\n",
       "      <td>4000</td>\n",
       "      <td>1</td>\n",
       "      <td>0</td>\n",
       "      <td>0</td>\n",
       "      <td>0</td>\n",
       "      <td>4</td>\n",
       "      <td>4.4</td>\n",
       "      <td>4</td>\n",
       "      <td>270</td>\n",
       "    </tr>\n",
       "    <tr>\n",
       "      <th>3</th>\n",
       "      <td>162</td>\n",
       "      <td>121.056475</td>\n",
       "      <td>14.585318</td>\n",
       "      <td>1500</td>\n",
       "      <td>0</td>\n",
       "      <td>0</td>\n",
       "      <td>0</td>\n",
       "      <td>0</td>\n",
       "      <td>4</td>\n",
       "      <td>4.9</td>\n",
       "      <td>5</td>\n",
       "      <td>365</td>\n",
       "    </tr>\n",
       "    <tr>\n",
       "      <th>4</th>\n",
       "      <td>162</td>\n",
       "      <td>121.057508</td>\n",
       "      <td>14.584450</td>\n",
       "      <td>1500</td>\n",
       "      <td>1</td>\n",
       "      <td>0</td>\n",
       "      <td>0</td>\n",
       "      <td>0</td>\n",
       "      <td>4</td>\n",
       "      <td>4.8</td>\n",
       "      <td>5</td>\n",
       "      <td>229</td>\n",
       "    </tr>\n",
       "  </tbody>\n",
       "</table>\n",
       "</div>"
      ],
      "text/plain": [
       "   Country Code   Longitude   Latitude  Average Cost for two  \\\n",
       "0           162  121.027535  14.565443                  1100   \n",
       "1           162  121.014101  14.553708                  1200   \n",
       "2           162  121.056831  14.581404                  4000   \n",
       "3           162  121.056475  14.585318                  1500   \n",
       "4           162  121.057508  14.584450                  1500   \n",
       "\n",
       "   Has Table booking  Has Online delivery  Is delivering now  \\\n",
       "0                  1                    0                  0   \n",
       "1                  1                    0                  0   \n",
       "2                  1                    0                  0   \n",
       "3                  0                    0                  0   \n",
       "4                  1                    0                  0   \n",
       "\n",
       "   Switch to order menu  Price range  Aggregate rating  Rating text  Votes  \n",
       "0                     0            3               4.8            5    314  \n",
       "1                     0            3               4.5            5    591  \n",
       "2                     0            4               4.4            4    270  \n",
       "3                     0            4               4.9            5    365  \n",
       "4                     0            4               4.8            5    229  "
      ]
     },
     "execution_count": 4,
     "metadata": {},
     "output_type": "execute_result"
    }
   ],
   "source": [
    "df_num = df.drop([\"Cuisines\", \"Restaurant Name\", \"Address\", \"Locality\", \"Locality Verbose\", \"Rating color\", \"City\", \"Currency\",  \"Restaurant ID\"], axis = 1)#\"Latitude\", \"Longitude\",\n",
    "df_num[\"Has Table booking\"] = df_num[\"Has Table booking\"].map({\"Yes\":1,\"No\":0})\n",
    "df_num[\"Has Online delivery\"] = df_num[\"Has Online delivery\"].map({\"Yes\":1,\"No\":0})\n",
    "df_num[\"Is delivering now\"] = df_num[\"Is delivering now\"].map({\"Yes\":1,\"No\":0})\n",
    "df_num[\"Switch to order menu\"] = df_num[\"Switch to order menu\"].map({\"Yes\":1,\"No\":0})\n",
    "df_num[\"Rating text\"] = df_num[\"Rating text\"].map({\"Excellent\":5, \"Very Good\":4 ,\"Good\":3, \"Average\":2, \"Poor\":1, \"Not rated\":0})\n",
    "df_num.head()"
   ]
  },
  {
   "cell_type": "code",
   "execution_count": 5,
   "id": "9754a922",
   "metadata": {
    "execution": {
     "iopub.execute_input": "2021-11-19T08:27:05.227218Z",
     "iopub.status.busy": "2021-11-19T08:27:05.226159Z",
     "iopub.status.idle": "2021-11-19T08:27:05.805936Z",
     "shell.execute_reply": "2021-11-19T08:27:05.806477Z",
     "shell.execute_reply.started": "2021-11-19T08:22:04.073562Z"
    },
    "papermill": {
     "duration": 0.62478,
     "end_time": "2021-11-19T08:27:05.806700",
     "exception": false,
     "start_time": "2021-11-19T08:27:05.181920",
     "status": "completed"
    },
    "tags": []
   },
   "outputs": [
    {
     "name": "stderr",
     "output_type": "stream",
     "text": [
      "/opt/conda/lib/python3.7/site-packages/seaborn/distributions.py:2619: FutureWarning: `distplot` is a deprecated function and will be removed in a future version. Please adapt your code to use either `displot` (a figure-level function with similar flexibility) or `histplot` (an axes-level function for histograms).\n",
      "  warnings.warn(msg, FutureWarning)\n"
     ]
    },
    {
     "data": {
      "image/png": "[encoded data removed]",
      "text/plain": [
       "<Figure size 432x288 with 1 Axes>"
      ]
     },
     "metadata": {
      "needs_background": "light"
     },
     "output_type": "display_data"
    }
   ],
   "source": [
    "import matplotlib.pyplot as plt\n",
    "import seaborn as sns\n",
    "sns.distplot(df_num['Aggregate rating'] )\n",
    "plt.show()"
   ]
  },
  {
   "cell_type": "code",
   "execution_count": 6,
   "id": "f5f1605b",
   "metadata": {
    "execution": {
     "iopub.execute_input": "2021-11-19T08:27:05.900135Z",
     "iopub.status.busy": "2021-11-19T08:27:05.899039Z",
     "iopub.status.idle": "2021-11-19T08:27:06.228068Z",
     "shell.execute_reply": "2021-11-19T08:27:06.228607Z",
     "shell.execute_reply.started": "2021-11-19T08:22:04.405446Z"
    },
    "papermill": {
     "duration": 0.379968,
     "end_time": "2021-11-19T08:27:06.228811",
     "exception": false,
     "start_time": "2021-11-19T08:27:05.848843",
     "status": "completed"
    },
    "tags": []
   },
   "outputs": [
    {
     "name": "stderr",
     "output_type": "stream",
     "text": [
      "/opt/conda/lib/python3.7/site-packages/seaborn/distributions.py:2619: FutureWarning: `distplot` is a deprecated function and will be removed in a future version. Please adapt your code to use either `displot` (a figure-level function with similar flexibility) or `histplot` (an axes-level function for histograms).\n",
      "  warnings.warn(msg, FutureWarning)\n"
     ]
    },
    {
     "data": {
      "image/png": "[encoded data removed]",
      "text/plain": [
       "<Figure size 432x288 with 1 Axes>"
      ]
     },
     "metadata": {
      "needs_background": "light"
     },
     "output_type": "display_data"
    }
   ],
   "source": [
    "df_num.drop(df_num[(df_num['Aggregate rating']==0)].index, inplace=True)\n",
    "sns.distplot(df_num['Aggregate rating'] )\n",
    "plt.show()"
   ]
  },
  {
   "cell_type": "code",
   "execution_count": 7,
   "id": "2214bff3",
   "metadata": {
    "execution": {
     "iopub.execute_input": "2021-11-19T08:27:06.409151Z",
     "iopub.status.busy": "2021-11-19T08:27:06.408108Z",
     "iopub.status.idle": "2021-11-19T08:27:06.481451Z",
     "shell.execute_reply": "2021-11-19T08:27:06.482016Z",
     "shell.execute_reply.started": "2021-11-19T08:22:04.734189Z"
    },
    "papermill": {
     "duration": 0.125024,
     "end_time": "2021-11-19T08:27:06.482227",
     "exception": false,
     "start_time": "2021-11-19T08:27:06.357203",
     "status": "completed"
    },
    "tags": []
   },
   "outputs": [
    {
     "data": {
      "text/plain": [
       "StandardScaler()"
      ]
     },
     "execution_count": 7,
     "metadata": {},
     "output_type": "execute_result"
    }
   ],
   "source": [
    "# Импорт нужной функции\n",
    "from sklearn.model_selection import train_test_split\n",
    "\n",
    "# Создание X, y\n",
    "# X --- вся таблица без таргета\n",
    "# y --- таргет (целевая переменная)\n",
    "y = df_num['Aggregate rating'] \n",
    "X = df_num.drop('Aggregate rating', axis=1) \n",
    "\n",
    "from sklearn.preprocessing import StandardScaler\n",
    "scaler = StandardScaler()\n",
    "# X = scaler.fit_transform(X)\n",
    "# Разделение\n",
    "# test_size --- доля исходных данных, которую оставляем для валидации\n",
    "# random_state --- произвольное целое число, для воспроизводимости случайных результатов\n",
    "\n",
    "X_train, X_valid, y_train, y_valid = train_test_split(X, y, test_size=0.33, random_state=42)\n",
    "scaler.fit(X_train)\n",
    "# X_train = scaler.transform(X_train)\n",
    "# X_valid = scaler.transform(X_valid)"
   ]
  },
  {
   "cell_type": "markdown",
   "id": "0e9e5e09",
   "metadata": {
    "papermill": {
     "duration": 0.045874,
     "end_time": "2021-11-19T08:27:06.573200",
     "exception": false,
     "start_time": "2021-11-19T08:27:06.527326",
     "status": "completed"
    },
    "tags": []
   },
   "source": [
    "Обучим линейной регрессии."
   ]
  },
  {
   "cell_type": "markdown",
   "id": "5e67cad6",
   "metadata": {
    "papermill": {
     "duration": 0.043446,
     "end_time": "2021-11-19T08:27:06.660810",
     "exception": false,
     "start_time": "2021-11-19T08:27:06.617364",
     "status": "completed"
    },
    "tags": []
   },
   "source": [
    "*Простейшей формой регрессии является линейная регрессия, которая предполагает, что предикторы имеют линейную связь с целевой переменной. Предполагается, что входные переменные имеют гауссово распределение. Другое предположение состоит в том, что предикторы не сильно коррелированы друг с другом (проблема, называемая мультиколлинеарностью).*\n",
    "\n",
    "Уравнение линейной регрессии можно выразить в следующей форме:\n",
    "\n",
    "y =  a1x1 + a2x2 + a3x3 + ..... + anxn + b\n",
    "\n",
    "Если верно следующее:\n",
    "\n",
    "*y - целевая переменная.*\n",
    "\n",
    "*x1, x2, x3, ... xn - характеристики.*\n",
    "\n",
    "*a1, a2, a3, ..., an - коэффициенты.*\n",
    "\n",
    "*b - параметр модели.*"
   ]
  },
  {
   "cell_type": "markdown",
   "id": "00bfb9f3",
   "metadata": {
    "papermill": {
     "duration": 0.043441,
     "end_time": "2021-11-19T08:27:06.748267",
     "exception": false,
     "start_time": "2021-11-19T08:27:06.704826",
     "status": "completed"
    },
    "tags": []
   },
   "source": [
    "*Параметры модели a и b выбираются методом наименьших квадратов (OLS). Он работает путем минимизации суммы квадратов остатков (фактическое значение - прогнозируемое значение).*"
   ]
  },
  {
   "cell_type": "code",
   "execution_count": 8,
   "id": "ab6d3947",
   "metadata": {
    "execution": {
     "iopub.execute_input": "2021-11-19T08:27:06.841467Z",
     "iopub.status.busy": "2021-11-19T08:27:06.840388Z",
     "iopub.status.idle": "2021-11-19T08:27:06.951278Z",
     "shell.execute_reply": "2021-11-19T08:27:06.952405Z",
     "shell.execute_reply.started": "2021-11-19T08:22:04.753365Z"
    },
    "papermill": {
     "duration": 0.159772,
     "end_time": "2021-11-19T08:27:06.952795",
     "exception": false,
     "start_time": "2021-11-19T08:27:06.793023",
     "status": "completed"
    },
    "tags": []
   },
   "outputs": [],
   "source": [
    "from sklearn.linear_model import LinearRegression\n",
    "lin_reg = LinearRegression()\n",
    "lin_reg.fit(X_train, y_train)\n",
    "y_pred = lin_reg.predict(X_valid)"
   ]
  },
  {
   "cell_type": "code",
   "execution_count": 9,
   "id": "77ccb2d6",
   "metadata": {
    "execution": {
     "iopub.execute_input": "2021-11-19T08:27:07.105504Z",
     "iopub.status.busy": "2021-11-19T08:27:07.104304Z",
     "iopub.status.idle": "2021-11-19T08:27:07.110485Z",
     "shell.execute_reply": "2021-11-19T08:27:07.109894Z",
     "shell.execute_reply.started": "2021-11-19T08:22:04.768817Z"
    },
    "papermill": {
     "duration": 0.073203,
     "end_time": "2021-11-19T08:27:07.110670",
     "exception": false,
     "start_time": "2021-11-19T08:27:07.037467",
     "status": "completed"
    },
    "tags": []
   },
   "outputs": [
    {
     "name": "stdout",
     "output_type": "stream",
     "text": [
      "MSE: 0.04362272803252492\n",
      "MAE: 0.17022652910362987\n",
      "MedAE: 0.14772940322695494\n",
      "R2: 0.862066547708747\n"
     ]
    }
   ],
   "source": [
    "# Вычислим различные метрики\n",
    "from sklearn.metrics import mean_squared_error, mean_absolute_error, median_absolute_error, r2_score\n",
    "print('MSE:', mean_squared_error(y_valid, y_pred))\n",
    "print('MAE:', mean_absolute_error(y_valid, y_pred))\n",
    "print('MedAE:', median_absolute_error(y_valid, y_pred))\n",
    "print('R2:', r2_score(y_valid, y_pred))"
   ]
  },
  {
   "cell_type": "code",
   "execution_count": 10,
   "id": "ab78b1b7",
   "metadata": {
    "execution": {
     "iopub.execute_input": "2021-11-19T08:27:07.221883Z",
     "iopub.status.busy": "2021-11-19T08:27:07.221139Z",
     "iopub.status.idle": "2021-11-19T08:27:07.587492Z",
     "shell.execute_reply": "2021-11-19T08:27:07.588063Z",
     "shell.execute_reply.started": "2021-11-19T08:22:04.782494Z"
    },
    "papermill": {
     "duration": 0.432243,
     "end_time": "2021-11-19T08:27:07.588287",
     "exception": false,
     "start_time": "2021-11-19T08:27:07.156044",
     "status": "completed"
    },
    "tags": []
   },
   "outputs": [
    {
     "data": {
      "image/png": "[encoded data removed]",
      "text/plain": [
       "<Figure size 432x288 with 1 Axes>"
      ]
     },
     "metadata": {
      "needs_background": "light"
     },
     "output_type": "display_data"
    }
   ],
   "source": [
    "# Визуализируем отклонение результатов нашей модели от истинных\n",
    "g = sns.pointplot(x=y_valid.index[:20], y=y_valid[:20], color='blue', label='True')\n",
    "g = sns.pointplot(x=y_valid.index[:20], y=y_pred[:20], color='green', label='Prediction')\n",
    "g.set_xticklabels(np.arange(20))\n",
    "plt.legend()\n",
    "plt.show()"
   ]
  },
  {
   "cell_type": "markdown",
   "id": "7ccb8528",
   "metadata": {
    "papermill": {
     "duration": 0.045754,
     "end_time": "2021-11-19T08:27:07.681248",
     "exception": false,
     "start_time": "2021-11-19T08:27:07.635494",
     "status": "completed"
    },
    "tags": []
   },
   "source": [
    "**Ridge regression** - это расширение линейной регрессии, где функция потерь модифицируется, чтобы минимизировать сложность модели. Эта модификация выполняется путем добавления параметра штрафа, который эквивалентен квадрату величины коэффициентов.\n",
    "\n",
    "Loss function = OLS + alpha * summation (squared coefficient values)\n",
    "\n",
    "**alpha** , по умолчанию = 1.0\n",
    "Сила регуляризации; должно быть положительным числом с плавающей запятой. Регуляризация улучшает обусловленность проблемы и снижает разброс оценок. Большие значения указывают на более сильную регуляризацию."
   ]
  },
  {
   "cell_type": "code",
   "execution_count": 11,
   "id": "91902d7d",
   "metadata": {
    "execution": {
     "iopub.execute_input": "2021-11-19T08:27:07.784055Z",
     "iopub.status.busy": "2021-11-19T08:27:07.782146Z",
     "iopub.status.idle": "2021-11-19T08:27:07.804851Z",
     "shell.execute_reply": "2021-11-19T08:27:07.806443Z",
     "shell.execute_reply.started": "2021-11-19T08:22:05.408242Z"
    },
    "papermill": {
     "duration": 0.079031,
     "end_time": "2021-11-19T08:27:07.806757",
     "exception": false,
     "start_time": "2021-11-19T08:27:07.727726",
     "status": "completed"
    },
    "tags": []
   },
   "outputs": [
    {
     "name": "stdout",
     "output_type": "stream",
     "text": [
      "MSE: 0.04362477831193035\n",
      "MAE: 0.17022279843308655\n",
      "MedAE: 0.14776092427351406\n",
      "R2: 0.8620600648011136\n"
     ]
    }
   ],
   "source": [
    "# Ridge\n",
    "from sklearn.linear_model import Ridge\n",
    "ridge = Ridge() # по умолчанию alpha=1\n",
    "ridge.fit(X_train, y_train)\n",
    "y_pred = ridge.predict(X_valid)\n",
    "\n",
    "print('MSE:', mean_squared_error(y_valid, y_pred))\n",
    "print('MAE:', mean_absolute_error(y_valid, y_pred))\n",
    "print('MedAE:', median_absolute_error(y_valid, y_pred))\n",
    "print('R2:', r2_score(y_valid, y_pred))"
   ]
  },
  {
   "cell_type": "markdown",
   "id": "1460f5e1",
   "metadata": {
    "papermill": {
     "duration": 0.055226,
     "end_time": "2021-11-19T08:27:07.946484",
     "exception": false,
     "start_time": "2021-11-19T08:27:07.891258",
     "status": "completed"
    },
    "tags": []
   },
   "source": [
    "Значения R-квадрат варьируются от 0 до 1 и обычно выражаются в процентах. Это статистическая мера, которая представляет собой долю дисперсии целевой переменной, которая объясняется независимыми переменными. "
   ]
  },
  {
   "cell_type": "code",
   "execution_count": 12,
   "id": "ea50289c",
   "metadata": {
    "execution": {
     "iopub.execute_input": "2021-11-19T08:27:08.043779Z",
     "iopub.status.busy": "2021-11-19T08:27:08.043032Z",
     "iopub.status.idle": "2021-11-19T08:27:11.153397Z",
     "shell.execute_reply": "2021-11-19T08:27:11.154517Z",
     "shell.execute_reply.started": "2021-11-19T08:22:05.428309Z"
    },
    "papermill": {
     "duration": 3.163503,
     "end_time": "2021-11-19T08:27:11.154867",
     "exception": false,
     "start_time": "2021-11-19T08:27:07.991364",
     "status": "completed"
    },
    "tags": []
   },
   "outputs": [
    {
     "data": {
      "text/plain": [
       "GridSearchCV(cv=5, estimator=Ridge(), n_jobs=-1,\n",
       "             param_grid={'alpha': array([ 0.1       ,  0.1274275 ,  0.16237767,  0.20691381,  0.26366509,\n",
       "        0.33598183,  0.42813324,  0.54555948,  0.6951928 ,  0.88586679,\n",
       "        1.12883789,  1.43844989,  1.83298071,  2.33572147,  2.97635144,\n",
       "        3.79269019,  4.83293024,  6.15848211,  7.8475997 , 10.        ])},\n",
       "             scoring='r2')"
      ]
     },
     "execution_count": 12,
     "metadata": {},
     "output_type": "execute_result"
    }
   ],
   "source": [
    "# подбор alpha\n",
    "from sklearn.model_selection import GridSearchCV\n",
    "\n",
    "alpha_grid = {'alpha': np.logspace(-1, 1, 20)} # 20 точек от 10^(-4) до 10^4\n",
    "ridge_grid = GridSearchCV(ridge, alpha_grid, cv=5, scoring='r2', n_jobs=-1) \n",
    "ridge_grid.fit(X_train, y_train)"
   ]
  },
  {
   "cell_type": "code",
   "execution_count": 13,
   "id": "f3e1c096",
   "metadata": {
    "execution": {
     "iopub.execute_input": "2021-11-19T08:27:11.322724Z",
     "iopub.status.busy": "2021-11-19T08:27:11.321841Z",
     "iopub.status.idle": "2021-11-19T08:27:11.325001Z",
     "shell.execute_reply": "2021-11-19T08:27:11.325793Z",
     "shell.execute_reply.started": "2021-11-19T08:22:08.355325Z"
    },
    "papermill": {
     "duration": 0.075652,
     "end_time": "2021-11-19T08:27:11.326064",
     "exception": false,
     "start_time": "2021-11-19T08:27:11.250412",
     "status": "completed"
    },
    "tags": []
   },
   "outputs": [
    {
     "name": "stdout",
     "output_type": "stream",
     "text": [
      "Best alpha: 10.0\n",
      "\n",
      "Best score: 0.8550321711624751\n"
     ]
    }
   ],
   "source": [
    "b_alpha = ridge_grid.best_params_['alpha']\n",
    "print('Best alpha:', b_alpha)\n",
    "print('\\nBest score:', ridge_grid.best_score_)"
   ]
  },
  {
   "cell_type": "code",
   "execution_count": 14,
   "id": "0e8ea35f",
   "metadata": {
    "execution": {
     "iopub.execute_input": "2021-11-19T08:27:11.431218Z",
     "iopub.status.busy": "2021-11-19T08:27:11.430473Z",
     "iopub.status.idle": "2021-11-19T08:27:11.447691Z",
     "shell.execute_reply": "2021-11-19T08:27:11.448691Z",
     "shell.execute_reply.started": "2021-11-19T08:22:08.384337Z"
    },
    "papermill": {
     "duration": 0.068077,
     "end_time": "2021-11-19T08:27:11.449035",
     "exception": false,
     "start_time": "2021-11-19T08:27:11.380958",
     "status": "completed"
    },
    "tags": []
   },
   "outputs": [
    {
     "name": "stdout",
     "output_type": "stream",
     "text": [
      "R2: 0.8619963356867562\n",
      "MSE: 0.043644933232851894\n",
      "MAE: 0.17019544468241934\n",
      "MedAE: 0.14807234618155718\n",
      "R2: 0.8619963356867562\n"
     ]
    }
   ],
   "source": [
    "ridge_best = ridge_grid.best_estimator_\n",
    "y_pred = ridge_best.predict(X_valid)\n",
    "print('R2:', r2_score(y_valid, y_pred))\n",
    "print('MSE:', mean_squared_error(y_valid, y_pred))\n",
    "print('MAE:', mean_absolute_error(y_valid, y_pred))\n",
    "print('MedAE:', median_absolute_error(y_valid, y_pred))\n",
    "print('R2:', r2_score(y_valid, y_pred))"
   ]
  },
  {
   "cell_type": "code",
   "execution_count": 15,
   "id": "d4901916",
   "metadata": {
    "execution": {
     "iopub.execute_input": "2021-11-19T08:27:11.602194Z",
     "iopub.status.busy": "2021-11-19T08:27:11.601076Z",
     "iopub.status.idle": "2021-11-19T08:27:11.835819Z",
     "shell.execute_reply": "2021-11-19T08:27:11.836362Z",
     "shell.execute_reply.started": "2021-11-19T08:22:08.439579Z"
    },
    "papermill": {
     "duration": 0.299889,
     "end_time": "2021-11-19T08:27:11.836597",
     "exception": false,
     "start_time": "2021-11-19T08:27:11.536708",
     "status": "completed"
    },
    "tags": []
   },
   "outputs": [
    {
     "data": {
      "image/png": "[encoded data removed]",
      "text/plain": [
       "<Figure size 432x288 with 1 Axes>"
      ]
     },
     "metadata": {
      "needs_background": "light"
     },
     "output_type": "display_data"
    }
   ],
   "source": [
    "# Валидационная кривая\n",
    "# По оси х --- значения гиперпараметров (param_alpha)\n",
    "# По оси y --- значения метрики (mean_test_score)\n",
    "\n",
    "import matplotlib.pyplot as plt\n",
    "results_df = pd.DataFrame(ridge_grid.cv_results_)\n",
    "plt.plot(results_df['param_alpha'], results_df['mean_test_score'])\n",
    "\n",
    "# Подписываем оси и график\n",
    "plt.xlabel('alpha')\n",
    "plt.ylabel('Test accuracy')\n",
    "plt.title('Validation curve')\n",
    "plt.show()"
   ]
  },
  {
   "cell_type": "markdown",
   "id": "77b3cc78",
   "metadata": {
    "papermill": {
     "duration": 0.047954,
     "end_time": "2021-11-19T08:27:11.932414",
     "exception": false,
     "start_time": "2021-11-19T08:27:11.884460",
     "status": "completed"
    },
    "tags": []
   },
   "source": [
    "**Lasso regression**\n",
    "также является модификацией линейной регрессии. В Лассо функция потерь модифицируется, чтобы минимизировать сложность модели, ограничивая сумму абсолютных значений коэффициентов модели (также называемую l1-нормой).\n",
    "\n",
    "Функция потерь для регрессии лассо может быть выражена следующим образом:\n",
    "\n",
    "Loss function = OLS + alpha * summation (absolute values of the magnitude of the coefficients)\n",
    "\n",
    "В приведенной выше функции потерь альфа - это параметр штрафа, который нам нужно выбрать. Использование ограничения нормы l1 заставляет некоторые значения веса обнуляться, чтобы другие коэффициенты могли принимать ненулевые значения."
   ]
  },
  {
   "cell_type": "code",
   "execution_count": 16,
   "id": "5847f5fd",
   "metadata": {
    "execution": {
     "iopub.execute_input": "2021-11-19T08:27:12.037331Z",
     "iopub.status.busy": "2021-11-19T08:27:12.036595Z",
     "iopub.status.idle": "2021-11-19T08:27:12.062110Z",
     "shell.execute_reply": "2021-11-19T08:27:12.063010Z",
     "shell.execute_reply.started": "2021-11-19T08:22:08.690364Z"
    },
    "papermill": {
     "duration": 0.083268,
     "end_time": "2021-11-19T08:27:12.063351",
     "exception": false,
     "start_time": "2021-11-19T08:27:11.980083",
     "status": "completed"
    },
    "tags": []
   },
   "outputs": [
    {
     "name": "stdout",
     "output_type": "stream",
     "text": [
      "MSE: 0.22091354670181648\n",
      "MAE: 0.3725433800122515\n",
      "MedAE: 0.30036980895425947\n",
      "R2: 0.30147953764452384\n"
     ]
    }
   ],
   "source": [
    "# Lasso\n",
    "from sklearn.linear_model import Lasso\n",
    "lasso = Lasso() # по умолчанию alpha=1\n",
    "lasso.fit(X_train, y_train)\n",
    "y_pred = lasso.predict(X_valid)\n",
    "\n",
    "print('MSE:', mean_squared_error(y_valid, y_pred))\n",
    "print('MAE:', mean_absolute_error(y_valid, y_pred))\n",
    "print('MedAE:', median_absolute_error(y_valid, y_pred))\n",
    "print('R2:', r2_score(y_valid, y_pred))"
   ]
  },
  {
   "cell_type": "code",
   "execution_count": 17,
   "id": "175957a7",
   "metadata": {
    "execution": {
     "iopub.execute_input": "2021-11-19T08:27:12.227610Z",
     "iopub.status.busy": "2021-11-19T08:27:12.226752Z",
     "iopub.status.idle": "2021-11-19T08:27:12.232043Z",
     "shell.execute_reply": "2021-11-19T08:27:12.232545Z",
     "shell.execute_reply.started": "2021-11-19T08:22:08.713728Z"
    },
    "papermill": {
     "duration": 0.076661,
     "end_time": "2021-11-19T08:27:12.232787",
     "exception": false,
     "start_time": "2021-11-19T08:27:12.156126",
     "status": "completed"
    },
    "tags": []
   },
   "outputs": [
    {
     "name": "stdout",
     "output_type": "stream",
     "text": [
      "Нулевых коэффициентов: 8\n",
      "Всего коэффициентов: 11\n"
     ]
    }
   ],
   "source": [
    "eps = 1e-6\n",
    "lasso_coef = lasso.coef_\n",
    "print('Нулевых коэффициентов:', sum(np.abs(lasso_coef) < eps))\n",
    "print('Всего коэффициентов:', lasso_coef.shape[0])"
   ]
  },
  {
   "cell_type": "code",
   "execution_count": 18,
   "id": "4b0f38c0",
   "metadata": {
    "execution": {
     "iopub.execute_input": "2021-11-19T08:27:12.349267Z",
     "iopub.status.busy": "2021-11-19T08:27:12.347986Z",
     "iopub.status.idle": "2021-11-19T08:27:12.654251Z",
     "shell.execute_reply": "2021-11-19T08:27:12.656147Z",
     "shell.execute_reply.started": "2021-11-19T08:22:08.731167Z"
    },
    "papermill": {
     "duration": 0.368812,
     "end_time": "2021-11-19T08:27:12.656528",
     "exception": false,
     "start_time": "2021-11-19T08:27:12.287716",
     "status": "completed"
    },
    "tags": []
   },
   "outputs": [
    {
     "data": {
      "text/plain": [
       "GridSearchCV(cv=5, estimator=Lasso(), n_jobs=-1,\n",
       "             param_grid={'alpha': array([1.00000000e-03, 4.64158883e-03, 2.15443469e-02, 1.00000000e-01,\n",
       "       4.64158883e-01, 2.15443469e+00, 1.00000000e+01, 4.64158883e+01,\n",
       "       2.15443469e+02, 1.00000000e+03])},\n",
       "             scoring='r2')"
      ]
     },
     "execution_count": 18,
     "metadata": {},
     "output_type": "execute_result"
    }
   ],
   "source": [
    "# Lasso с подбором alpha\n",
    "alpha_grid = {'alpha': np.logspace(-3, 3, 10)} # 10 точек от 10^(-3) до 10^3\n",
    "lasso_grid = GridSearchCV(lasso, alpha_grid, cv=5, scoring='r2', n_jobs=-1) \n",
    "lasso_grid.fit(X_train, y_train)"
   ]
  },
  {
   "cell_type": "code",
   "execution_count": 19,
   "id": "f4062d4a",
   "metadata": {
    "execution": {
     "iopub.execute_input": "2021-11-19T08:27:12.808660Z",
     "iopub.status.busy": "2021-11-19T08:27:12.807538Z",
     "iopub.status.idle": "2021-11-19T08:27:12.813976Z",
     "shell.execute_reply": "2021-11-19T08:27:12.813231Z",
     "shell.execute_reply.started": "2021-11-19T08:22:09.080424Z"
    },
    "papermill": {
     "duration": 0.064551,
     "end_time": "2021-11-19T08:27:12.814134",
     "exception": false,
     "start_time": "2021-11-19T08:27:12.749583",
     "status": "completed"
    },
    "tags": []
   },
   "outputs": [
    {
     "name": "stdout",
     "output_type": "stream",
     "text": [
      "Best alpha: {'alpha': 0.001}\n",
      "\n",
      "Best score: 0.855135914630799\n"
     ]
    }
   ],
   "source": [
    "print('Best alpha:', lasso_grid.best_params_)\n",
    "print('\\nBest score:', lasso_grid.best_score_)\n",
    "#Малое значение alpha говорит о том, что мы совсем немного скорректировали предыдущую модель. Однако посмотрим на R2."
   ]
  },
  {
   "cell_type": "code",
   "execution_count": 20,
   "id": "4d03d934",
   "metadata": {
    "execution": {
     "iopub.execute_input": "2021-11-19T08:27:12.915751Z",
     "iopub.status.busy": "2021-11-19T08:27:12.915034Z",
     "iopub.status.idle": "2021-11-19T08:27:12.931700Z",
     "shell.execute_reply": "2021-11-19T08:27:12.932830Z",
     "shell.execute_reply.started": "2021-11-19T08:22:09.090466Z"
    },
    "papermill": {
     "duration": 0.070154,
     "end_time": "2021-11-19T08:27:12.933153",
     "exception": false,
     "start_time": "2021-11-19T08:27:12.862999",
     "status": "completed"
    },
    "tags": []
   },
   "outputs": [
    {
     "name": "stdout",
     "output_type": "stream",
     "text": [
      "MSE: 0.04362940418762704\n",
      "MAE: 0.17014559128284001\n",
      "MedAE: 0.14797836007349785\n",
      "R2: 0.8620454379532869\n"
     ]
    }
   ],
   "source": [
    "lasso_best = lasso_grid.best_estimator_\n",
    "y_pred = lasso_best.predict(X_valid)\n",
    "print('MSE:', mean_squared_error(y_valid, y_pred))\n",
    "print('MAE:', mean_absolute_error(y_valid, y_pred))\n",
    "print('MedAE:', median_absolute_error(y_valid, y_pred))\n",
    "print('R2:', r2_score(y_valid, y_pred))"
   ]
  },
  {
   "cell_type": "code",
   "execution_count": 21,
   "id": "bddd44f1",
   "metadata": {
    "execution": {
     "iopub.execute_input": "2021-11-19T08:27:13.093078Z",
     "iopub.status.busy": "2021-11-19T08:27:13.092225Z",
     "iopub.status.idle": "2021-11-19T08:27:13.300883Z",
     "shell.execute_reply": "2021-11-19T08:27:13.300170Z",
     "shell.execute_reply.started": "2021-11-19T08:22:09.115979Z"
    },
    "papermill": {
     "duration": 0.277006,
     "end_time": "2021-11-19T08:27:13.301034",
     "exception": false,
     "start_time": "2021-11-19T08:27:13.024028",
     "status": "completed"
    },
    "tags": []
   },
   "outputs": [
    {
     "data": {
      "image/png": "[encoded data removed]",
      "text/plain": [
       "<Figure size 432x288 with 1 Axes>"
      ]
     },
     "metadata": {
      "needs_background": "light"
     },
     "output_type": "display_data"
    }
   ],
   "source": [
    "# Валидационная кривая\n",
    "# По оси х --- значения гиперпараметров (param_alpha)\n",
    "# По оси y --- значения метрики (mean_test_score)\n",
    "\n",
    "results_df = pd.DataFrame(lasso_grid.cv_results_)\n",
    "plt.plot(results_df['param_alpha'], results_df['mean_test_score'])\n",
    "\n",
    "# Подписываем оси и график\n",
    "plt.xlabel('alpha')\n",
    "plt.ylabel('Test accuracy')\n",
    "plt.title('Validation curve')\n",
    "plt.show()"
   ]
  },
  {
   "cell_type": "code",
   "execution_count": 22,
   "id": "bab06f7b",
   "metadata": {
    "execution": {
     "iopub.execute_input": "2021-11-19T08:27:13.407842Z",
     "iopub.status.busy": "2021-11-19T08:27:13.407132Z",
     "iopub.status.idle": "2021-11-19T08:27:13.410695Z",
     "shell.execute_reply": "2021-11-19T08:27:13.411304Z",
     "shell.execute_reply.started": "2021-11-19T08:22:09.318662Z"
    },
    "papermill": {
     "duration": 0.060086,
     "end_time": "2021-11-19T08:27:13.411473",
     "exception": false,
     "start_time": "2021-11-19T08:27:13.351387",
     "status": "completed"
    },
    "tags": []
   },
   "outputs": [
    {
     "name": "stdout",
     "output_type": "stream",
     "text": [
      "Нулевых коэффициентов: 5\n",
      "Всего коэффициентов: 11\n"
     ]
    }
   ],
   "source": [
    "eps = 1e-6\n",
    "lasso_coef = lasso_best.coef_\n",
    "print('Нулевых коэффициентов:', sum(np.abs(lasso_coef) < eps))\n",
    "print('Всего коэффициентов:', lasso_coef.shape[0])"
   ]
  },
  {
   "cell_type": "markdown",
   "id": "af00f492",
   "metadata": {
    "papermill": {
     "duration": 0.049191,
     "end_time": "2021-11-19T08:27:13.510153",
     "exception": false,
     "start_time": "2021-11-19T08:27:13.460962",
     "status": "completed"
    },
    "tags": []
   },
   "source": [
    "[www.datacamp.com/community/tutorials/tutorial-ridge-lasso-elastic-net](http://)\n",
    "\n",
    "\n",
    "[scikit-learn.org/stable/modules/generated/sklearn.linear_model.ElasticNet.html](http://)"
   ]
  },
  {
   "cell_type": "markdown",
   "id": "ff18fd7d",
   "metadata": {
    "papermill": {
     "duration": 0.049087,
     "end_time": "2021-11-19T08:27:13.608707",
     "exception": false,
     "start_time": "2021-11-19T08:27:13.559620",
     "status": "completed"
    },
    "tags": []
   },
   "source": [
    "**ElasticNet** сочетает в себе свойства регрессии Ridge и Lasso. Он работает, наказывая модель использованием как l2-нормы, так и l1-нормы."
   ]
  },
  {
   "cell_type": "code",
   "execution_count": 23,
   "id": "953dc6a8",
   "metadata": {
    "execution": {
     "iopub.execute_input": "2021-11-19T08:27:13.713470Z",
     "iopub.status.busy": "2021-11-19T08:27:13.712767Z",
     "iopub.status.idle": "2021-11-19T08:27:13.737049Z",
     "shell.execute_reply": "2021-11-19T08:27:13.738140Z",
     "shell.execute_reply.started": "2021-11-19T08:22:09.327614Z"
    },
    "papermill": {
     "duration": 0.079647,
     "end_time": "2021-11-19T08:27:13.738425",
     "exception": false,
     "start_time": "2021-11-19T08:27:13.658778",
     "status": "completed"
    },
    "tags": []
   },
   "outputs": [
    {
     "name": "stdout",
     "output_type": "stream",
     "text": [
      "MSE: 0.21374380840339133\n",
      "MAE: 0.3668806701812067\n",
      "MedAE: 0.29461473110707814\n",
      "R2: 0.32414998491204094\n"
     ]
    }
   ],
   "source": [
    "# ElasticNet\n",
    "from sklearn.linear_model import ElasticNet\n",
    "elastic_net = ElasticNet() # alpha=1 l1_ratio=0.5\n",
    "elastic_net.fit(X_train, y_train)\n",
    "y_pred = elastic_net.predict(X_valid)\n",
    "\n",
    "print('MSE:', mean_squared_error(y_valid, y_pred))\n",
    "print('MAE:', mean_absolute_error(y_valid, y_pred))\n",
    "print('MedAE:', median_absolute_error(y_valid, y_pred))\n",
    "print('R2:', r2_score(y_valid, y_pred))"
   ]
  },
  {
   "cell_type": "code",
   "execution_count": 24,
   "id": "97dbd22c",
   "metadata": {
    "execution": {
     "iopub.execute_input": "2021-11-19T08:27:13.897960Z",
     "iopub.status.busy": "2021-11-19T08:27:13.896863Z",
     "iopub.status.idle": "2021-11-19T08:27:44.057864Z",
     "shell.execute_reply": "2021-11-19T08:27:44.058837Z",
     "shell.execute_reply.started": "2021-11-19T08:22:09.356708Z"
    },
    "papermill": {
     "duration": 30.226575,
     "end_time": "2021-11-19T08:27:44.059227",
     "exception": false,
     "start_time": "2021-11-19T08:27:13.832652",
     "status": "completed"
    },
    "tags": []
   },
   "outputs": [],
   "source": [
    "grid = {'alpha': np.logspace(-2, 2, 20), \"l1_ratio\": np.linspace(0, 1, 100)} \n",
    "net_grid = GridSearchCV(elastic_net, grid, cv=5, scoring='r2', n_jobs=-1) \n",
    "net_grid.fit(X_train, y_train);"
   ]
  },
  {
   "cell_type": "code",
   "execution_count": 25,
   "id": "4fce0b70",
   "metadata": {
    "execution": {
     "iopub.execute_input": "2021-11-19T08:27:44.220883Z",
     "iopub.status.busy": "2021-11-19T08:27:44.219653Z",
     "iopub.status.idle": "2021-11-19T08:27:44.226079Z",
     "shell.execute_reply": "2021-11-19T08:27:44.227910Z",
     "shell.execute_reply.started": "2021-11-19T08:22:37.941949Z"
    },
    "papermill": {
     "duration": 0.07201,
     "end_time": "2021-11-19T08:27:44.228368",
     "exception": false,
     "start_time": "2021-11-19T08:27:44.156358",
     "status": "completed"
    },
    "tags": []
   },
   "outputs": [
    {
     "name": "stdout",
     "output_type": "stream",
     "text": [
      "Best alpha: {'alpha': 0.01, 'l1_ratio': 0.07070707070707072}\n",
      "\n",
      "Best score: 0.8549211816679716\n"
     ]
    }
   ],
   "source": [
    "elastic_net_best = net_grid.best_estimator_\n",
    "y_pred = elastic_net_best.predict(X_valid)\n",
    "print('Best alpha:', net_grid.best_params_)\n",
    "print('\\nBest score:', net_grid.best_score_)"
   ]
  },
  {
   "cell_type": "code",
   "execution_count": 26,
   "id": "3b612ed2",
   "metadata": {
    "execution": {
     "iopub.execute_input": "2021-11-19T08:27:44.393203Z",
     "iopub.status.busy": "2021-11-19T08:27:44.392089Z",
     "iopub.status.idle": "2021-11-19T08:27:44.692517Z",
     "shell.execute_reply": "2021-11-19T08:27:44.691949Z",
     "shell.execute_reply.started": "2021-11-19T08:22:37.965943Z"
    },
    "papermill": {
     "duration": 0.366741,
     "end_time": "2021-11-19T08:27:44.692708",
     "exception": false,
     "start_time": "2021-11-19T08:27:44.325967",
     "status": "completed"
    },
    "tags": []
   },
   "outputs": [
    {
     "data": {
      "image/png": "[encoded data removed]",
      "text/plain": [
       "<Figure size 432x288 with 2 Axes>"
      ]
     },
     "metadata": {
      "needs_background": "light"
     },
     "output_type": "display_data"
    }
   ],
   "source": [
    "# По оси х --- значения гиперпараметров \n",
    "# По оси y --- значения метрики \n",
    "\n",
    "results_df = pd.DataFrame(net_grid.cv_results_)\n",
    "fig, ax = plt.subplots(ncols=2, sharey=True)\n",
    "ax[0].plot(grid['alpha'], results_df.groupby('param_alpha')['mean_test_score'].max())\n",
    "ax[1].plot(grid['l1_ratio'], results_df.groupby('param_l1_ratio')['mean_test_score'].max())\n",
    "plt.show()"
   ]
  },
  {
   "cell_type": "markdown",
   "id": "0cdd3a77",
   "metadata": {
    "papermill": {
     "duration": 0.051664,
     "end_time": "2021-11-19T08:27:44.796234",
     "exception": false,
     "start_time": "2021-11-19T08:27:44.744570",
     "status": "completed"
    },
    "tags": []
   },
   "source": [
    "# Neural nets"
   ]
  },
  {
   "cell_type": "code",
   "execution_count": 27,
   "id": "3abdc841",
   "metadata": {
    "execution": {
     "iopub.execute_input": "2021-11-19T08:27:44.905440Z",
     "iopub.status.busy": "2021-11-19T08:27:44.904318Z",
     "iopub.status.idle": "2021-11-19T08:27:45.171950Z",
     "shell.execute_reply": "2021-11-19T08:27:45.171204Z",
     "shell.execute_reply.started": "2021-11-19T08:22:38.259115Z"
    },
    "papermill": {
     "duration": 0.323549,
     "end_time": "2021-11-19T08:27:45.172128",
     "exception": false,
     "start_time": "2021-11-19T08:27:44.848579",
     "status": "completed"
    },
    "tags": []
   },
   "outputs": [],
   "source": [
    "from sklearn.preprocessing import StandardScaler\n",
    "from sklearn.model_selection import train_test_split, GridSearchCV\n",
    "from sklearn.metrics import accuracy_score, confusion_matrix, plot_confusion_matrix, precision_score, recall_score, f1_score\n",
    "from sklearn.neural_network import MLPRegressor\n",
    "from sklearn.pipeline import Pipeline\n",
    "from imblearn.over_sampling import RandomOverSampler\n",
    "import matplotlib.pyplot as plt\n",
    "\n",
    "np.random.seed(1)"
   ]
  },
  {
   "cell_type": "markdown",
   "id": "5ddc92e0",
   "metadata": {
    "papermill": {
     "duration": 0.051891,
     "end_time": "2021-11-19T08:27:45.276646",
     "exception": false,
     "start_time": "2021-11-19T08:27:45.224755",
     "status": "completed"
    },
    "tags": []
   },
   "source": [
    "[scikit-learn.org/stable/modules/generated/sklearn.neural_network.MLPRegressor.html](http://)"
   ]
  },
  {
   "cell_type": "markdown",
   "id": "56a3052a",
   "metadata": {
    "papermill": {
     "duration": 0.054331,
     "end_time": "2021-11-19T08:27:45.384666",
     "exception": false,
     "start_time": "2021-11-19T08:27:45.330335",
     "status": "completed"
    },
    "tags": []
   },
   "source": [
    "Multi-layer Perceptron regressor.\n",
    "Эта модель оптимизирует квадрат ошибки с помощью LBFGS или стохастического градиентного спуска.\n",
    "\n",
    "solver {'lbfgs', 'sgd', 'adam'}, по умолчанию = 'adam'\n",
    "Решатель для оптимизации веса.\n",
    "* lbfgs - оптимизатор из семейства квазиньютоновских методов.\n",
    "* «sgd» относится к стохастическому градиентному спуску.\n",
    "* «adam» относится к оптимизатору на основе стохастического градиента, предложенному Кингмой, Дидериком и Джимми Ба.\n",
    "\n",
    "Примечание. Решатель по умолчанию adam довольно хорошо работает с относительно большими наборами данных (с тысячами обучающих выборок и более) с точки зрения как времени обучения, так и оценки валидации. Однако для небольших наборов данных lbfgs может сходиться быстрее и работать лучше."
   ]
  },
  {
   "cell_type": "code",
   "execution_count": 28,
   "id": "a05bcc1b",
   "metadata": {
    "execution": {
     "iopub.execute_input": "2021-11-19T08:27:45.497974Z",
     "iopub.status.busy": "2021-11-19T08:27:45.496805Z",
     "iopub.status.idle": "2021-11-19T08:27:46.574324Z",
     "shell.execute_reply": "2021-11-19T08:27:46.575380Z",
     "shell.execute_reply.started": "2021-11-19T08:22:38.267510Z"
    },
    "papermill": {
     "duration": 1.137114,
     "end_time": "2021-11-19T08:27:46.575755",
     "exception": false,
     "start_time": "2021-11-19T08:27:45.438641",
     "status": "completed"
    },
    "tags": []
   },
   "outputs": [],
   "source": [
    "mlp = MLPRegressor()\n",
    "mlp.fit(X_train, y_train)\n",
    "y_pred = mlp.predict(X_valid)"
   ]
  },
  {
   "cell_type": "code",
   "execution_count": 29,
   "id": "8638d5e5",
   "metadata": {
    "execution": {
     "iopub.execute_input": "2021-11-19T08:27:46.742699Z",
     "iopub.status.busy": "2021-11-19T08:27:46.741894Z",
     "iopub.status.idle": "2021-11-19T08:27:46.749620Z",
     "shell.execute_reply": "2021-11-19T08:27:46.748878Z",
     "shell.execute_reply.started": "2021-11-19T08:22:39.266725Z"
    },
    "papermill": {
     "duration": 0.074507,
     "end_time": "2021-11-19T08:27:46.749791",
     "exception": false,
     "start_time": "2021-11-19T08:27:46.675284",
     "status": "completed"
    },
    "tags": []
   },
   "outputs": [
    {
     "name": "stdout",
     "output_type": "stream",
     "text": [
      "MSE: 186.0719294839258\n",
      "MAE: 2.485384068521038\n",
      "MedAE: 1.29795017643738\n",
      "R2: -587.352557618046\n"
     ]
    }
   ],
   "source": [
    "print('MSE:', mean_squared_error(y_valid, y_pred))\n",
    "print('MAE:', mean_absolute_error(y_valid, y_pred))\n",
    "print('MedAE:', median_absolute_error(y_valid, y_pred))\n",
    "print('R2:', r2_score(y_valid, y_pred))"
   ]
  },
  {
   "cell_type": "markdown",
   "id": "8cdd65dd",
   "metadata": {
    "papermill": {
     "duration": 0.053446,
     "end_time": "2021-11-19T08:27:46.855912",
     "exception": false,
     "start_time": "2021-11-19T08:27:46.802466",
     "status": "completed"
    },
    "tags": []
   },
   "source": [
    "hidden_layer_sizes tuple, length = n_layers - 2, default=(100,)\n",
    "I-й элемент представляет количество нейронов в i-м скрытом слое."
   ]
  },
  {
   "cell_type": "code",
   "execution_count": 30,
   "id": "8a08c4d2",
   "metadata": {
    "execution": {
     "iopub.execute_input": "2021-11-19T08:27:46.975399Z",
     "iopub.status.busy": "2021-11-19T08:27:46.973863Z",
     "iopub.status.idle": "2021-11-19T08:27:51.411729Z",
     "shell.execute_reply": "2021-11-19T08:27:51.412828Z",
     "shell.execute_reply.started": "2021-11-19T08:22:39.283239Z"
    },
    "papermill": {
     "duration": 4.504702,
     "end_time": "2021-11-19T08:27:51.413170",
     "exception": false,
     "start_time": "2021-11-19T08:27:46.908468",
     "status": "completed"
    },
    "tags": []
   },
   "outputs": [
    {
     "name": "stdout",
     "output_type": "stream",
     "text": [
      "R2: -41.493282076355456\n"
     ]
    }
   ],
   "source": [
    "mlp2 = MLPRegressor(hidden_layer_sizes=(200,), solver=\"adam\", max_iter=400, alpha=0.1)\n",
    "mlp2.fit(X_train, y_train)\n",
    "y_pred = mlp2.predict(X_valid)\n",
    "print('R2:', r2_score(y_valid, y_pred))"
   ]
  },
  {
   "cell_type": "code",
   "execution_count": 31,
   "id": "2533a168",
   "metadata": {
    "execution": {
     "iopub.execute_input": "2021-11-19T08:27:51.576852Z",
     "iopub.status.busy": "2021-11-19T08:27:51.576051Z",
     "iopub.status.idle": "2021-11-19T08:27:51.579666Z",
     "shell.execute_reply": "2021-11-19T08:27:51.579113Z",
     "shell.execute_reply.started": "2021-11-19T08:22:43.539921Z"
    },
    "papermill": {
     "duration": 0.069976,
     "end_time": "2021-11-19T08:27:51.579819",
     "exception": false,
     "start_time": "2021-11-19T08:27:51.509843",
     "status": "completed"
    },
    "tags": []
   },
   "outputs": [
    {
     "data": {
      "text/plain": [
       "76"
      ]
     },
     "execution_count": 31,
     "metadata": {},
     "output_type": "execute_result"
    }
   ],
   "source": [
    "mlp2.n_iter_"
   ]
  },
  {
   "cell_type": "code",
   "execution_count": 32,
   "id": "9a561953",
   "metadata": {
    "execution": {
     "iopub.execute_input": "2021-11-19T08:27:51.694384Z",
     "iopub.status.busy": "2021-11-19T08:27:51.693152Z",
     "iopub.status.idle": "2021-11-19T08:27:54.118352Z",
     "shell.execute_reply": "2021-11-19T08:27:54.120004Z",
     "shell.execute_reply.started": "2021-11-19T08:22:43.550543Z"
    },
    "papermill": {
     "duration": 2.487689,
     "end_time": "2021-11-19T08:27:54.120342",
     "exception": false,
     "start_time": "2021-11-19T08:27:51.632653",
     "status": "completed"
    },
    "tags": []
   },
   "outputs": [],
   "source": [
    "mlp4 = MLPRegressor(solver='adam', hidden_layer_sizes=(100,50), max_iter=400, alpha=0.0004)\n",
    "mlp4.fit(X_train, y_train)\n",
    "y_pred = mlp4.predict(X_valid)"
   ]
  },
  {
   "cell_type": "code",
   "execution_count": 33,
   "id": "64f69caf",
   "metadata": {
    "execution": {
     "iopub.execute_input": "2021-11-19T08:27:54.285366Z",
     "iopub.status.busy": "2021-11-19T08:27:54.284660Z",
     "iopub.status.idle": "2021-11-19T08:27:54.290537Z",
     "shell.execute_reply": "2021-11-19T08:27:54.291118Z",
     "shell.execute_reply.started": "2021-11-19T08:22:45.581549Z"
    },
    "papermill": {
     "duration": 0.0718,
     "end_time": "2021-11-19T08:27:54.291310",
     "exception": false,
     "start_time": "2021-11-19T08:27:54.219510",
     "status": "completed"
    },
    "tags": []
   },
   "outputs": [
    {
     "name": "stdout",
     "output_type": "stream",
     "text": [
      "MSE: 147.87715790785248\n",
      "MAE: 1.6127706271435962\n",
      "MedAE: 0.7304433484366313\n",
      "R2: -466.58210284420517\n"
     ]
    }
   ],
   "source": [
    "print('MSE:', mean_squared_error(y_valid, y_pred))\n",
    "print('MAE:', mean_absolute_error(y_valid, y_pred))\n",
    "print('MedAE:', median_absolute_error(y_valid, y_pred))\n",
    "print('R2:', r2_score(y_valid, y_pred))"
   ]
  },
  {
   "cell_type": "code",
   "execution_count": 34,
   "id": "d37a4ccc",
   "metadata": {
    "execution": {
     "iopub.execute_input": "2021-11-19T08:27:54.404365Z",
     "iopub.status.busy": "2021-11-19T08:27:54.403629Z",
     "iopub.status.idle": "2021-11-19T08:27:54.406298Z",
     "shell.execute_reply": "2021-11-19T08:27:54.406909Z",
     "shell.execute_reply.started": "2021-11-19T08:22:45.595836Z"
    },
    "papermill": {
     "duration": 0.062329,
     "end_time": "2021-11-19T08:27:54.407101",
     "exception": false,
     "start_time": "2021-11-19T08:27:54.344772",
     "status": "completed"
    },
    "tags": []
   },
   "outputs": [
    {
     "data": {
      "text/plain": [
       "33"
      ]
     },
     "execution_count": 34,
     "metadata": {},
     "output_type": "execute_result"
    }
   ],
   "source": [
    "mlp4.n_iter_"
   ]
  },
  {
   "cell_type": "markdown",
   "id": "61d3f381",
   "metadata": {
    "papermill": {
     "duration": 0.053778,
     "end_time": "2021-11-19T08:27:54.515570",
     "exception": false,
     "start_time": "2021-11-19T08:27:54.461792",
     "status": "completed"
    },
    "tags": []
   },
   "source": [
    "подбор параметров "
   ]
  },
  {
   "cell_type": "code",
   "execution_count": 35,
   "id": "90e9d978",
   "metadata": {
    "execution": {
     "iopub.execute_input": "2021-11-19T08:27:54.634675Z",
     "iopub.status.busy": "2021-11-19T08:27:54.633890Z",
     "iopub.status.idle": "2021-11-19T08:27:54.637082Z",
     "shell.execute_reply": "2021-11-19T08:27:54.637598Z",
     "shell.execute_reply.started": "2021-11-19T08:22:45.605829Z"
    },
    "papermill": {
     "duration": 0.067022,
     "end_time": "2021-11-19T08:27:54.637795",
     "exception": false,
     "start_time": "2021-11-19T08:27:54.570773",
     "status": "completed"
    },
    "tags": []
   },
   "outputs": [
    {
     "data": {
      "text/plain": [
       "array([1.00000000e-02, 2.78255940e-02, 7.74263683e-02, 2.15443469e-01,\n",
       "       5.99484250e-01, 1.66810054e+00, 4.64158883e+00, 1.29154967e+01,\n",
       "       3.59381366e+01, 1.00000000e+02])"
      ]
     },
     "execution_count": 35,
     "metadata": {},
     "output_type": "execute_result"
    }
   ],
   "source": [
    "np.logspace(-2, 2, 10)"
   ]
  },
  {
   "cell_type": "code",
   "execution_count": 36,
   "id": "1ff898d8",
   "metadata": {
    "execution": {
     "iopub.execute_input": "2021-11-19T08:27:54.755588Z",
     "iopub.status.busy": "2021-11-19T08:27:54.754845Z",
     "iopub.status.idle": "2021-11-19T08:29:49.237110Z",
     "shell.execute_reply": "2021-11-19T08:29:49.237702Z",
     "shell.execute_reply.started": "2021-11-19T08:22:45.620554Z"
    },
    "papermill": {
     "duration": 114.545494,
     "end_time": "2021-11-19T08:29:49.237933",
     "exception": false,
     "start_time": "2021-11-19T08:27:54.692439",
     "status": "completed"
    },
    "tags": []
   },
   "outputs": [
    {
     "data": {
      "text/plain": [
       "GridSearchCV(cv=5, estimator=MLPRegressor(max_iter=100), n_jobs=-1,\n",
       "             param_grid={'alpha': array([1.00000000e-02, 2.78255940e-02, 7.74263683e-02, 2.15443469e-01,\n",
       "       5.99484250e-01, 1.66810054e+00, 4.64158883e+00, 1.29154967e+01,\n",
       "       3.59381366e+01, 1.00000000e+02]),\n",
       "                         'hidden_layer_sizes': [(100,), (100, 50),\n",
       "                                                (100, 50, 20), (50, 50),\n",
       "                                                (50, 50, 50),\n",
       "                                                (50, 30, 30, 20)]},\n",
       "             scoring='r2')"
      ]
     },
     "execution_count": 36,
     "metadata": {},
     "output_type": "execute_result"
    }
   ],
   "source": [
    "mlp = MLPRegressor(max_iter=100, solver='adam')\n",
    "hidden = hidden = [(100,), (100, 50), (100, 50, 20), (50, 50), (50, 50, 50), (50, 30, 30, 20)]\n",
    "param_grid  = {'hidden_layer_sizes': hidden, \"alpha\": np.logspace(-2, 2, 10)}\n",
    "mlp_grid = GridSearchCV(mlp, param_grid , cv=5, scoring='r2', n_jobs=-1) \n",
    "mlp_grid.fit(X_train, y_train)"
   ]
  },
  {
   "cell_type": "code",
   "execution_count": 37,
   "id": "808d8fce",
   "metadata": {
    "execution": {
     "iopub.execute_input": "2021-11-19T08:29:49.356902Z",
     "iopub.status.busy": "2021-11-19T08:29:49.355529Z",
     "iopub.status.idle": "2021-11-19T08:29:49.372058Z",
     "shell.execute_reply": "2021-11-19T08:29:49.373179Z",
     "shell.execute_reply.started": "2021-11-19T08:24:36.126683Z"
    },
    "papermill": {
     "duration": 0.081052,
     "end_time": "2021-11-19T08:29:49.373497",
     "exception": false,
     "start_time": "2021-11-19T08:29:49.292445",
     "status": "completed"
    },
    "tags": []
   },
   "outputs": [
    {
     "name": "stdout",
     "output_type": "stream",
     "text": [
      "Best params: MLPRegressor(alpha=4.6415888336127775, hidden_layer_sizes=(50, 30, 30, 20),\n",
      "             max_iter=100)\n",
      "R2: -430.1344717472535\n"
     ]
    }
   ],
   "source": [
    "mlp_best = mlp_grid.best_estimator_\n",
    "y_pred = mlp_best.predict(X_valid)\n",
    "\n",
    "print(\"Best params:\", mlp_best)\n",
    "print('R2:', r2_score(y_valid, y_pred))\n"
   ]
  },
  {
   "cell_type": "code",
   "execution_count": 38,
   "id": "f681dade",
   "metadata": {
    "execution": {
     "iopub.execute_input": "2021-11-19T08:29:49.541621Z",
     "iopub.status.busy": "2021-11-19T08:29:49.540827Z",
     "iopub.status.idle": "2021-11-19T08:29:49.855890Z",
     "shell.execute_reply": "2021-11-19T08:29:49.855171Z",
     "shell.execute_reply.started": "2021-11-19T08:24:36.153100Z"
    },
    "papermill": {
     "duration": 0.382451,
     "end_time": "2021-11-19T08:29:49.856074",
     "exception": false,
     "start_time": "2021-11-19T08:29:49.473623",
     "status": "completed"
    },
    "tags": []
   },
   "outputs": [
    {
     "name": "stderr",
     "output_type": "stream",
     "text": [
      "/opt/conda/lib/python3.7/site-packages/ipykernel_launcher.py:5: VisibleDeprecationWarning: Creating an ndarray from ragged nested sequences (which is a list-or-tuple of lists-or-tuples-or ndarrays with different lengths or shapes) is deprecated. If you meant to do this, you must specify 'dtype=object' when creating the ndarray\n",
      "  \"\"\"\n"
     ]
    },
    {
     "data": {
      "image/png": "[encoded data removed]",
      "text/plain": [
       "<Figure size 432x288 with 2 Axes>"
      ]
     },
     "metadata": {
      "needs_background": "light"
     },
     "output_type": "display_data"
    }
   ],
   "source": [
    "results_df = pd.DataFrame(mlp_grid.cv_results_)\n",
    "fig, ax = plt.subplots(ncols=2, sharey=True)\n",
    "ax[0].plot(param_grid['alpha'], results_df.groupby('param_alpha')['mean_test_score'].max())\n",
    "hid = (str(hidden)).split(sep=\") (\")\n",
    "ax[1].plot(str((np.array(hidden))).split(sep=\") (\"), results_df.groupby('param_hidden_layer_sizes')['mean_test_score'].max())\n",
    "plt.show()"
   ]
  }
 ],
 "metadata": {
  "kernelspec": {
   "display_name": "Python 3",
   "language": "python",
   "name": "python3"
  },
  "language_info": {
   "codemirror_mode": {
    "name": "ipython",
    "version": 3
   },
   "file_extension": ".py",
   "mimetype": "text/x-python",
   "name": "python",
   "nbconvert_exporter": "python",
   "pygments_lexer": "ipython3",
   "version": "3.7.10"
  },
  "papermill": {
   "default_parameters": {},
   "duration": 178.087465,
   "end_time": "2021-11-19T08:29:51.130571",
   "environment_variables": {},
   "exception": null,
   "input_path": "__notebook__.ipynb",
   "output_path": "__notebook__.ipynb",
   "parameters": {},
   "start_time": "2021-11-19T08:26:53.043106",
   "version": "2.3.3"
  }
 },
 "nbformat": 4,
 "nbformat_minor": 5
}
